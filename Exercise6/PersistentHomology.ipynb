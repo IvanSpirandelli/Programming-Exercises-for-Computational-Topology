{
 "cells": [
  {
   "cell_type": "markdown",
   "id": "6b3476b9-73d1-4a1a-9b42-d8a64386cf0c",
   "metadata": {},
   "source": [
    "# Persistent Homology\n",
    "\n",
    "In this exercise, your task is to implement the column reduction algorithm from [lecture 13](https://moodle2.uni-potsdam.de/pluginfile.php/2392642/mod_resource/content/1/Lecture_13_14June.pdf)"
   ]
  },
  {
   "cell_type": "code",
   "execution_count": 1,
   "id": "042693b3-4fd2-42e5-b3e6-49be3ad11821",
   "metadata": {},
   "outputs": [
    {
     "name": "stderr",
     "output_type": "stream",
     "text": [
      "\u001b[32m\u001b[1m  Activating\u001b[22m\u001b[39m new project at `~/Desktop/Doktor/Lehre/CompTop2022`\n",
      "\u001b[32m\u001b[1m    Updating\u001b[22m\u001b[39m registry at `~/.julia/registries/General.toml`\n",
      "\u001b[32m\u001b[1m   Resolving\u001b[22m\u001b[39m package versions...\n",
      "\u001b[32m\u001b[1m    Updating\u001b[22m\u001b[39m `~/Desktop/Doktor/Lehre/CompTop2022/Project.toml`\n",
      " \u001b[90m [6e4b80f9] \u001b[39m\u001b[92m+ BenchmarkTools v1.3.1\u001b[39m\n",
      "\u001b[32m\u001b[1m    Updating\u001b[22m\u001b[39m `~/Desktop/Doktor/Lehre/CompTop2022/Manifest.toml`\n",
      " \u001b[90m [6e4b80f9] \u001b[39m\u001b[92m+ BenchmarkTools v1.3.1\u001b[39m\n",
      " \u001b[90m [682c06a0] \u001b[39m\u001b[92m+ JSON v0.21.3\u001b[39m\n",
      " \u001b[90m [69de0a69] \u001b[39m\u001b[92m+ Parsers v2.3.1\u001b[39m\n",
      " \u001b[90m [56f22d72] \u001b[39m\u001b[92m+ Artifacts\u001b[39m\n",
      " \u001b[90m [ade2ca70] \u001b[39m\u001b[92m+ Dates\u001b[39m\n",
      " \u001b[90m [8f399da3] \u001b[39m\u001b[92m+ Libdl\u001b[39m\n",
      " \u001b[90m [37e2e46d] \u001b[39m\u001b[92m+ LinearAlgebra\u001b[39m\n",
      " \u001b[90m [56ddb016] \u001b[39m\u001b[92m+ Logging\u001b[39m\n",
      " \u001b[90m [a63ad114] \u001b[39m\u001b[92m+ Mmap\u001b[39m\n",
      " \u001b[90m [de0858da] \u001b[39m\u001b[92m+ Printf\u001b[39m\n",
      " \u001b[90m [9abbd945] \u001b[39m\u001b[92m+ Profile\u001b[39m\n",
      " \u001b[90m [9a3f8284] \u001b[39m\u001b[92m+ Random\u001b[39m\n",
      " \u001b[90m [ea8e919c] \u001b[39m\u001b[92m+ SHA\u001b[39m\n",
      " \u001b[90m [9e88b42a] \u001b[39m\u001b[92m+ Serialization\u001b[39m\n",
      " \u001b[90m [2f01184e] \u001b[39m\u001b[92m+ SparseArrays\u001b[39m\n",
      " \u001b[90m [10745b16] \u001b[39m\u001b[92m+ Statistics\u001b[39m\n",
      " \u001b[90m [cf7118a7] \u001b[39m\u001b[92m+ UUIDs\u001b[39m\n",
      " \u001b[90m [4ec0a83e] \u001b[39m\u001b[92m+ Unicode\u001b[39m\n",
      " \u001b[90m [e66e0078] \u001b[39m\u001b[92m+ CompilerSupportLibraries_jll\u001b[39m\n",
      " \u001b[90m [4536629a] \u001b[39m\u001b[92m+ OpenBLAS_jll\u001b[39m\n",
      " \u001b[90m [8e850b90] \u001b[39m\u001b[92m+ libblastrampoline_jll\u001b[39m\n"
     ]
    }
   ],
   "source": [
    "using Pkg\n",
    "\n",
    "Pkg.activate(\"../CompTop2022\")\n",
    "Pkg.add(\"BenchmarkTools\")\n",
    "\n",
    "using BenchmarkTools"
   ]
  },
  {
   "cell_type": "markdown",
   "id": "2ccdccae-b9b7-47bf-abae-ddb20c788a5f",
   "metadata": {},
   "source": [
    "The following cells contain code snippets you might find useful."
   ]
  },
  {
   "cell_type": "code",
   "execution_count": 3,
   "id": "7b6a6009-1cc9-4b4b-84c8-9e14f59e021d",
   "metadata": {},
   "outputs": [
    {
     "data": {
      "text/plain": [
       "3×3 Matrix{Int64}:\n",
       " 1  1  0\n",
       " 0  1  1\n",
       " 1  0  1"
      ]
     },
     "execution_count": 3,
     "metadata": {},
     "output_type": "execute_result"
    }
   ],
   "source": [
    "ex_mat = [[1,0,1] [1,1,0] [0,1,1]]"
   ]
  },
  {
   "cell_type": "code",
   "execution_count": 4,
   "id": "b7552161-0cf0-414a-9643-0389cf3de750",
   "metadata": {},
   "outputs": [
    {
     "data": {
      "text/plain": [
       "3"
      ]
     },
     "execution_count": 4,
     "metadata": {},
     "output_type": "execute_result"
    }
   ],
   "source": [
    "findlast(x->x==1, ex_mat[:,1])"
   ]
  },
  {
   "cell_type": "code",
   "execution_count": 5,
   "id": "03766528-1658-4726-a064-09821c4bf49e",
   "metadata": {},
   "outputs": [
    {
     "data": {
      "text/plain": [
       "1"
      ]
     },
     "execution_count": 5,
     "metadata": {},
     "output_type": "execute_result"
    }
   ],
   "source": [
    "findfirst(x->x==1, ex_mat[:,1])"
   ]
  },
  {
   "cell_type": "code",
   "execution_count": 30,
   "id": "fef91bd9-7505-42c3-be28-3917fa90cc55",
   "metadata": {},
   "outputs": [
    {
     "data": {
      "text/plain": [
       "true"
      ]
     },
     "execution_count": 30,
     "metadata": {},
     "output_type": "execute_result"
    }
   ],
   "source": [
    "isnothing(findfirst(x->x==2, ex_mat[:,1]))"
   ]
  },
  {
   "cell_type": "code",
   "execution_count": 28,
   "id": "cbb637b9-6bca-4617-a8b4-bc94b22f5a5c",
   "metadata": {},
   "outputs": [
    {
     "data": {
      "text/plain": [
       "3-element Vector{Int64}:\n",
       " 0\n",
       " 1\n",
       " 1"
      ]
     },
     "execution_count": 28,
     "metadata": {},
     "output_type": "execute_result"
    }
   ],
   "source": [
    "ex_mat[:,1] = (x->x%2).(ex_mat[:,1] + ex_mat[:,2])"
   ]
  },
  {
   "cell_type": "markdown",
   "id": "147c7f8f-f0de-408b-9398-c10bfcac3624",
   "metadata": {},
   "source": [
    "Now implement the column algorithm.\n",
    "\n",
    "*Hint: Maintain an array that keeps track of the indices of the lowest ones for every column* "
   ]
  },
  {
   "cell_type": "code",
   "execution_count": 16,
   "id": "b70207c0-41cc-475c-a593-d734ad9866c3",
   "metadata": {},
   "outputs": [
    {
     "data": {
      "text/plain": [
       "column_algorithm! (generic function with 1 method)"
      ]
     },
     "execution_count": 16,
     "metadata": {},
     "output_type": "execute_result"
    }
   ],
   "source": [
    "function column_algorithm!(mat::Matrix{Int64})\n",
    "    # YOUR CODE HERE\n",
    "end"
   ]
  },
  {
   "cell_type": "markdown",
   "id": "b5f03799-1ea3-4176-ae70-7faa1874faa1",
   "metadata": {},
   "source": [
    "# Testing\n",
    "\n",
    "Executing the following cell will run a series of different examples. Note that this might take some time since we use the `@btime` macro to check how our algorithm performs on **Alpha complexes** of point sets of different size and different dimension. \n",
    "\n",
    "*Note that we would need to average over many different **Alpha complexes** to really compare how dimension and point set size influence running time.*"
   ]
  },
  {
   "cell_type": "code",
   "execution_count": 17,
   "id": "b4a6bbdb-9dee-41f3-aa62-9cc6a45eeba8",
   "metadata": {},
   "outputs": [
    {
     "name": "stdout",
     "output_type": "stream",
     "text": [
      "Solving Examples/10_points_2d.in\n",
      "  19.361 μs (137 allocations: 33.31 KiB)\n",
      " ---> successful\n",
      "Solving Examples/10_points_3d.in\n",
      "  16.879 μs (131 allocations: 29.39 KiB)\n",
      " ---> successful\n",
      "Solving Examples/10_points_4d.in\n",
      "  16.409 μs (125 allocations: 27.67 KiB)\n",
      " ---> successful\n",
      "Solving Examples/30_points_2d.in\n",
      "  17.266 μs (125 allocations: 27.67 KiB)\n",
      " ---> successful\n",
      "Solving Examples/30_points_3d.in\n",
      "  17.364 μs (131 allocations: 29.39 KiB)\n",
      " ---> successful\n",
      "Solving Examples/30_points_4d.in\n",
      "  19.552 μs (137 allocations: 33.31 KiB)\n",
      " ---> successful\n",
      "Solving Examples/50_points_2d.in\n",
      "  19.919 μs (137 allocations: 33.31 KiB)\n",
      " ---> successful\n",
      "Solving Examples/50_points_3d.in\n",
      "  19.425 μs (137 allocations: 33.31 KiB)\n",
      " ---> successful\n",
      "Solving Examples/50_points_4d.in\n",
      "  254.495 μs (773 allocations: 890.28 KiB)\n",
      " ---> successful\n",
      "Solving Examples/99_points_2d.in\n",
      "  272.015 μs (785 allocations: 908.91 KiB)\n",
      " ---> successful\n",
      "Solving Examples/99_points_3d.in\n",
      "  167.213 μs (695 allocations: 725.73 KiB)\n",
      " ---> successful\n",
      "Solving Examples/99_points_4d.in\n",
      "  173.339 μs (683 allocations: 708.92 KiB)\n",
      " ---> successful\n",
      "\n",
      "Congratulations: All examples successfully solved!\n"
     ]
    }
   ],
   "source": [
    "examples = filter(x -> occursin(\".in\", x), readdir(\"Examples/\"; join=true))\n",
    "    \n",
    "for example in examples\n",
    "    println(\"Solving \", example)\n",
    "    include(example)\n",
    "    @btime column_algorithm!(boundary_mat)\n",
    "    @assert boundary_mat == reduced_mat\n",
    "    println(\" ---> successful\")\n",
    "end\n",
    "\n",
    "println()\n",
    "println(\"Congratulations: All examples successfully solved!\")"
   ]
  },
  {
   "cell_type": "code",
   "execution_count": null,
   "id": "0596a098-fa33-470b-bec6-1fc84396a579",
   "metadata": {},
   "outputs": [],
   "source": []
  }
 ],
 "metadata": {
  "kernelspec": {
   "display_name": "Julia 1.7.2",
   "language": "julia",
   "name": "julia-1.7"
  },
  "language_info": {
   "file_extension": ".jl",
   "mimetype": "application/julia",
   "name": "julia",
   "version": "1.7.2"
  }
 },
 "nbformat": 4,
 "nbformat_minor": 5
}
