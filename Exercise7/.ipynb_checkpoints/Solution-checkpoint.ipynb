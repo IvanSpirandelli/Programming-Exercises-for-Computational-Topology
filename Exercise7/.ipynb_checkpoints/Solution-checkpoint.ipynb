{
 "cells": [
  {
   "cell_type": "markdown",
   "id": "2e6d747e-b49b-4fe7-b492-23d26705910e",
   "metadata": {},
   "source": [
    "# Reduction with a Twist\n",
    "\n",
    "In this exercise you are tasked with implementing a simple optimization for the column reduction algorithm. \n",
    "Understand and implement Algorithm 2 from [this paper!](https://chaochen.github.io/publications/chen_eurocg_2011.pdf)"
   ]
  },
  {
   "cell_type": "code",
   "execution_count": 1,
   "id": "d1237cf7-f7c7-4958-9854-cd8e10c194d5",
   "metadata": {},
   "outputs": [
    {
     "name": "stderr",
     "output_type": "stream",
     "text": [
      "\u001b[32m\u001b[1m  Activating\u001b[22m\u001b[39m project at `~/Desktop/Doktor/Lehre/computational_topology_exercises/CompTop2022`\n",
      "\u001b[32m\u001b[1m    Updating\u001b[22m\u001b[39m registry at `~/.julia/registries/General.toml`\n",
      "\u001b[32m\u001b[1m   Resolving\u001b[22m\u001b[39m package versions...\n",
      "\u001b[32m\u001b[1m  No Changes\u001b[22m\u001b[39m to `~/Desktop/Doktor/Lehre/computational_topology_exercises/CompTop2022/Project.toml`\n",
      "\u001b[32m\u001b[1m  No Changes\u001b[22m\u001b[39m to `~/Desktop/Doktor/Lehre/computational_topology_exercises/CompTop2022/Manifest.toml`\n",
      "\u001b[32m\u001b[1m   Resolving\u001b[22m\u001b[39m package versions...\n",
      "\u001b[32m\u001b[1m  No Changes\u001b[22m\u001b[39m to `~/Desktop/Doktor/Lehre/computational_topology_exercises/CompTop2022/Project.toml`\n",
      "\u001b[32m\u001b[1m  No Changes\u001b[22m\u001b[39m to `~/Desktop/Doktor/Lehre/computational_topology_exercises/CompTop2022/Manifest.toml`\n"
     ]
    }
   ],
   "source": [
    "using Pkg\n",
    "\n",
    "Pkg.activate(\"../CompTop2022\")\n",
    "Pkg.add(\"BenchmarkTools\")\n",
    "Pkg.add(\"Plots\");\n",
    "\n",
    "using BenchmarkTools, Plots;"
   ]
  },
  {
   "cell_type": "code",
   "execution_count": 6,
   "id": "4f888b98-8aee-41c7-9029-4d7feb7beee1",
   "metadata": {},
   "outputs": [
    {
     "data": {
      "text/plain": [
       "get_lowest_one (generic function with 1 method)"
      ]
     },
     "execution_count": 6,
     "metadata": {},
     "output_type": "execute_result"
    }
   ],
   "source": [
    "function get_lowest_one(i::Int, mat::Matrix{Int64})\n",
    "    cand = findlast(x->x==1, mat[:,i])\n",
    "    if isnothing(cand) cand = 0 end\n",
    "    cand\n",
    "end"
   ]
  },
  {
   "cell_type": "code",
   "execution_count": 7,
   "id": "265849ae-9c69-4600-b75e-dd2941b16530",
   "metadata": {},
   "outputs": [
    {
     "data": {
      "text/plain": [
       "column_algorithm! (generic function with 1 method)"
      ]
     },
     "execution_count": 7,
     "metadata": {},
     "output_type": "execute_result"
    }
   ],
   "source": [
    "function column_algorithm!(mat::Matrix{Int64})\n",
    "    n = size(mat)[2]\n",
    "    lowest_ones = [findlast(x->x==1, mat[:,i]) for i in 1:n]\n",
    "    for i in 1:n\n",
    "        j = findfirst(x->x==lowest_ones[i], lowest_ones[1:i-1])\n",
    "        while !isnothing(j) && lowest_ones[i] != 0\n",
    "            mat[:,i] = (x->x%2).(mat[:,i] + mat[:,j])\n",
    "            lowest_ones[i] = get_lowest_one(i, mat)\n",
    "            j = findfirst(x->x==lowest_ones[i], lowest_ones[1:i-1])\n",
    "        end\n",
    "    end\n",
    "    mat\n",
    "end"
   ]
  },
  {
   "cell_type": "code",
   "execution_count": 8,
   "id": "a5f2f9ef-f7f0-459b-bbec-7a87391b32f3",
   "metadata": {},
   "outputs": [
    {
     "data": {
      "text/plain": [
       "get_dimension (generic function with 1 method)"
      ]
     },
     "execution_count": 8,
     "metadata": {},
     "output_type": "execute_result"
    }
   ],
   "source": [
    "get_dimension(mat::Matrix{Int64}) = maximum([sum(mat[:,i]) for i in 1:size(mat)[2]])-1"
   ]
  },
  {
   "cell_type": "code",
   "execution_count": 9,
   "id": "9ca2a962-f52a-4808-be89-bcb14a6b0cb8",
   "metadata": {},
   "outputs": [
    {
     "data": {
      "text/plain": [
       "column_algorithm_with_a_twist! (generic function with 1 method)"
      ]
     },
     "execution_count": 9,
     "metadata": {},
     "output_type": "execute_result"
    }
   ],
   "source": [
    "function column_algorithm_with_a_twist!(mat::Matrix{Int64}) # 100 points\n",
    "    d = get_dimension(mat)\n",
    "    n = size(mat)[2]\n",
    "    lowest_ones = [findlast(x->x==1, mat[:,i]) for i in 1:n]\n",
    "    for k in d:-1:1\n",
    "        for i in 1:n\n",
    "            if sum(mat[:,i])-1 == k\n",
    "                j = findfirst(x->x==lowest_ones[i], lowest_ones[1:i-1])\n",
    "                while !isnothing(j) && lowest_ones[i] != 0\n",
    "                    mat[:,i] = (x->x%2).(mat[:,i] + mat[:,j])\n",
    "                    lowest_ones[i] = get_lowest_one(i, mat)\n",
    "                    j = findfirst(x->x==lowest_ones[i], lowest_ones[1:i-1])\n",
    "                end\n",
    "                x = get_lowest_one(i, mat)\n",
    "                if x != 0\n",
    "                    mat[:,x] = zeros(size(mat)[1])\n",
    "                    lowest_ones[x] = 0\n",
    "                end\n",
    "            end\n",
    "        end\n",
    "    end\n",
    "    mat        \n",
    "end"
   ]
  },
  {
   "cell_type": "code",
   "execution_count": 11,
   "id": "b052ae1b-ad8b-40e1-884a-217af435edd5",
   "metadata": {},
   "outputs": [
    {
     "data": {
      "text/plain": [
       "6×6 Matrix{Int64}:\n",
       " 0  0  0  1  1  0\n",
       " 0  0  0  0  1  0\n",
       " 0  0  0  1  0  0\n",
       " 0  0  0  0  0  0\n",
       " 0  0  0  0  0  0\n",
       " 0  0  0  0  0  0"
      ]
     },
     "execution_count": 11,
     "metadata": {},
     "output_type": "execute_result"
    }
   ],
   "source": [
    "ex_mat = [[0,0,0,0,0,0] [0,0,0,0,0,0] [0,0,0,0,0,0] [1,0,1,0,0,0] [1,1,0,0,0,0] [0,1,1,0,0,0]]\n",
    "\n",
    "column_algorithm_with_a_twist!(ex_mat)"
   ]
  },
  {
   "cell_type": "markdown",
   "id": "7b7e8f78-241f-484c-a09a-c9c63d297af6",
   "metadata": {},
   "source": [
    "## Testing\n",
    "\n",
    "You can use the same tests as in the last exercise. If you want you can copy the algorithm from last exercise into this notebook and compare the two algorithms. Just uncomment the two lines in the `for` loop. Note that we need to create a copy of the `boundary_mat`, since it gets altered during algorithm execution. "
   ]
  },
  {
   "cell_type": "code",
   "execution_count": 43,
   "id": "0c0854e7-7146-408c-8e62-b2a3db3de30e",
   "metadata": {},
   "outputs": [
    {
     "name": "stdout",
     "output_type": "stream",
     "text": [
      "Solving Examples/10_points_2d.in\n",
      "  31.668 μs (291 allocations: 87.45 KiB)\n",
      "  23.169 μs (271 allocations: 105.95 KiB)\n",
      " ---> successful\n",
      "Solving Examples/10_points_3d.in\n",
      "  27.968 μs (278 allocations: 75.94 KiB)\n",
      "  26.842 μs (388 allocations: 141.34 KiB)\n",
      " ---> successful\n",
      "Solving Examples/10_points_4d.in\n",
      "  25.897 μs (265 allocations: 71.77 KiB)\n",
      "  23.807 μs (329 allocations: 118.64 KiB)\n",
      " ---> successful\n",
      "Solving Examples/30_points_2d.in\n",
      "  25.405 μs (265 allocations: 71.70 KiB)\n",
      "  23.426 μs (329 allocations: 118.70 KiB)\n",
      " ---> successful\n",
      "Solving Examples/30_points_3d.in\n",
      "  27.674 μs (278 allocations: 75.94 KiB)\n",
      "  23.490 μs (302 allocations: 107.75 KiB)\n",
      " ---> successful\n",
      "Solving Examples/30_points_4d.in\n",
      "  30.233 μs (291 allocations: 87.34 KiB)\n",
      "  25.563 μs (316 allocations: 125.75 KiB)\n",
      " ---> successful\n",
      "Solving Examples/50_points_2d.in\n",
      "  30.604 μs (291 allocations: 87.30 KiB)\n",
      "  25.821 μs (316 allocations: 125.80 KiB)\n",
      " ---> successful\n",
      "Solving Examples/50_points_3d.in\n",
      "  30.459 μs (291 allocations: 87.34 KiB)\n",
      "  25.439 μs (316 allocations: 125.75 KiB)\n",
      " ---> successful\n",
      "Solving Examples/50_points_4d.in\n",
      "  506.975 μs (1669 allocations: 2.39 MiB)\n",
      "  748.186 μs (2057 allocations: 4.01 MiB)\n",
      " ---> successful\n",
      "Solving Examples/99_points_2d.in\n",
      "  521.828 μs (1695 allocations: 2.44 MiB)\n",
      "  872.139 μs (2350 allocations: 4.63 MiB)\n",
      " ---> successful\n",
      "Solving Examples/99_points_3d.in\n",
      "  329.278 μs (1500 allocations: 1.95 MiB)\n",
      "  432.330 μs (1849 allocations: 3.27 MiB)\n",
      " ---> successful\n",
      "Solving Examples/99_points_4d.in\n",
      "  320.556 μs (1474 allocations: 1.91 MiB)\n",
      "  467.838 μs (2044 allocations: 3.65 MiB)\n",
      " ---> successful\n",
      "\n",
      "Congratulations: All examples successfully solved!\n"
     ]
    }
   ],
   "source": [
    "examples = filter(x -> occursin(\".in\", x), readdir(\"Examples/\"; join=true))\n",
    "    \n",
    "for example in examples\n",
    "    println(\"Solving \", example)\n",
    "    include(example)\n",
    "    copied_mat = copy(boundary_mat)\n",
    "    @btime column_algorithm!($copied_mat)\n",
    "    @btime column_algorithm_with_a_twist!($boundary_mat)\n",
    "    @assert boundary_mat == reduced_mat\n",
    "    println(\" ---> successful\")\n",
    "end\n",
    "\n",
    "println()\n",
    "println(\"Congratulations: All examples successfully solved!\")"
   ]
  },
  {
   "cell_type": "code",
   "execution_count": null,
   "id": "d7875621-784d-4453-ae71-d1160057e997",
   "metadata": {},
   "outputs": [],
   "source": []
  }
 ],
 "metadata": {
  "kernelspec": {
   "display_name": "Julia 1.7.2",
   "language": "julia",
   "name": "julia-1.7"
  },
  "language_info": {
   "file_extension": ".jl",
   "mimetype": "application/julia",
   "name": "julia",
   "version": "1.7.2"
  }
 },
 "nbformat": 4,
 "nbformat_minor": 5
}
