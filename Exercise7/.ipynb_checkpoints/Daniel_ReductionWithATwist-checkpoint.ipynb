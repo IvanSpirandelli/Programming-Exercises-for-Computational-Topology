{
 "cells": [
  {
   "cell_type": "markdown",
   "id": "2e6d747e-b49b-4fe7-b492-23d26705910e",
   "metadata": {},
   "source": [
    "# Reduction with a Twist\n",
    "\n",
    "In this exercise you are tasked with implementing a simple optimization for the column reduction algorithm. \n",
    "Understand and implement Algorithm 2 from [this paper!](https://chaochen.github.io/publications/chen_eurocg_2011.pdf)"
   ]
  },
  {
   "cell_type": "code",
   "execution_count": 1,
   "id": "d1237cf7-f7c7-4958-9854-cd8e10c194d5",
   "metadata": {},
   "outputs": [
    {
     "name": "stderr",
     "output_type": "stream",
     "text": [
      "\u001b[32m\u001b[1m  Activating\u001b[22m\u001b[39m project at `~/Desktop/Doktor/Lehre/computational_topology_exercises/CompTop2022`\n",
      "\u001b[32m\u001b[1m    Updating\u001b[22m\u001b[39m registry at `~/.julia/registries/General.toml`\n",
      "\u001b[32m\u001b[1m   Resolving\u001b[22m\u001b[39m package versions...\n",
      "\u001b[32m\u001b[1m  No Changes\u001b[22m\u001b[39m to `~/Desktop/Doktor/Lehre/computational_topology_exercises/CompTop2022/Project.toml`\n",
      "\u001b[32m\u001b[1m  No Changes\u001b[22m\u001b[39m to `~/Desktop/Doktor/Lehre/computational_topology_exercises/CompTop2022/Manifest.toml`\n",
      "\u001b[32m\u001b[1m   Resolving\u001b[22m\u001b[39m package versions...\n",
      "\u001b[32m\u001b[1m  No Changes\u001b[22m\u001b[39m to `~/Desktop/Doktor/Lehre/computational_topology_exercises/CompTop2022/Project.toml`\n",
      "\u001b[32m\u001b[1m  No Changes\u001b[22m\u001b[39m to `~/Desktop/Doktor/Lehre/computational_topology_exercises/CompTop2022/Manifest.toml`\n"
     ]
    }
   ],
   "source": [
    "using Pkg\n",
    "\n",
    "Pkg.activate(\"../CompTop2022\")\n",
    "Pkg.add(\"BenchmarkTools\")\n",
    "Pkg.add(\"Plots\")\n",
    "\n",
    "using BenchmarkTools, Plots"
   ]
  },
  {
   "cell_type": "markdown",
   "id": "e2604d0d",
   "metadata": {},
   "source": [
    "function column_algorithm_with_a_twist!(mat::Matrix{Int64}) # 100 points\n",
    "    #R = copy(mat)\n",
    "    d = maximum([sum(mat[:,k])-1 for k in 1:size(mat)[2]])\n",
    "    n = size(mat)[2]\n",
    "    lowest_ones = [findlast(x->x==1, mat[:,i]) for i in 1:n]\n",
    "\n",
    "    for δ in reverse(1:d)\n",
    "        for j in 1:n\n",
    "            if (sum(mat[:,j])-1)==δ\n",
    "                k = findfirst(x->x==lowest_ones[j], lowest_ones[1:j-1])\n",
    "                while !isnothing(k) && !isnothing(lowest_ones[j])\n",
    "                    mat[:,j] = (x->x%2).(mat[:,j] + mat[:,k])\n",
    "                    lowest_ones[j] = findlast(x->x==1, mat[:,j])\n",
    "                    print(\"while\")\n",
    "                end\n",
    "                if !isnothing(lowest_ones[j])\n",
    "                    i = lowest_ones[j]\n",
    "                    lowest_ones[i] = j\n",
    "                    mat[:,j]=zeros(size(mat)[1])\n",
    "                end\n",
    "                print(\"end if second\")\n",
    "            end\n",
    "            print(\"end if first\")\n",
    "        end\n",
    "        print(\"end j\")\n",
    "    end\n",
    "    print(\"end δ\")\n",
    "\n",
    "end"
   ]
  },
  {
   "cell_type": "code",
   "execution_count": 2,
   "id": "9cf51e38",
   "metadata": {},
   "outputs": [
    {
     "data": {
      "text/plain": [
       "column_algorithm_with_a_twist (generic function with 1 method)"
      ]
     },
     "execution_count": 2,
     "metadata": {},
     "output_type": "execute_result"
    }
   ],
   "source": [
    "function column_algorithm_with_a_twist(mat::Matrix{Int64}) # 100 points\n",
    "    \n",
    "    function simplex_dimension(col::Vector{Int64})\n",
    "        sum(col)-1\n",
    "    end\n",
    "    \n",
    "    function is_column_not_zero(col::Vector{Int64})\n",
    "        #!isnothing(findlast(x->x==1, col))\n",
    "        col!=zeros(Int64,length(col))\n",
    "        #print(\"is_column_not_zero\")\n",
    "    end\n",
    "    \n",
    "    function low(col::Vector{Int64})\n",
    "        findlast(x->x==1, col)\n",
    "    end\n",
    "    \n",
    "    function is_L_of_low_column_not_zero(vector,index)\n",
    "        if !isnothing(index)\n",
    "            if vector[index]!=0\n",
    "                return true\n",
    "            else\n",
    "                return false\n",
    "            end\n",
    "        else\n",
    "            return false\n",
    "        end\n",
    "    end\n",
    "    \n",
    "    \n",
    "    \n",
    "    #init\n",
    "    R = copy(mat)\n",
    "    n = size(mat)[2]\n",
    "    L = zeros(Int64,n)\n",
    "    d = maximum([simplex_dimension(mat[:,k]) for k in 1:n])\n",
    "    \n",
    "    \n",
    "    #lowest_ones = zeros(size(mat)[2])#[findlast(x->x==1, mat[:,i]) for i in 1:n]\n",
    "\n",
    "    for δ in reverse(1:d)\n",
    "        for j in 1:n\n",
    "            if simplex_dimension(mat[:,j])==δ\n",
    "                while is_column_not_zero(R[:,j]) && is_L_of_low_column_not_zero(L,low(R[:,j]))\n",
    "                    R[:,j] = (x->x%2).(R[:,j] + R[:,L[low(R[:,j])]])\n",
    "                    #display(R)\n",
    "                end\n",
    "                if is_column_not_zero(R[:,j])\n",
    "                    i = low(R[:,j])\n",
    "                    L[i] = j\n",
    "                    R[:,j]=zeros(Int64,size(R)[1])\n",
    "                end\n",
    "            end\n",
    "        end\n",
    "    end\n",
    "end"
   ]
  },
  {
   "cell_type": "code",
   "execution_count": 3,
   "id": "4da2a1cf",
   "metadata": {},
   "outputs": [],
   "source": [
    "#ex_mat = [[1,0,1] [1,1,0] [0,1,1]]"
   ]
  },
  {
   "cell_type": "code",
   "execution_count": 4,
   "id": "74ea67cc",
   "metadata": {},
   "outputs": [],
   "source": [
    "#column_algorithm_with_a_twist(ex_mat)"
   ]
  },
  {
   "cell_type": "code",
   "execution_count": 5,
   "id": "9ca2a962-f52a-4808-be89-bcb14a6b0cb8",
   "metadata": {},
   "outputs": [
    {
     "data": {
      "text/plain": [
       "column_algorithm! (generic function with 1 method)"
      ]
     },
     "execution_count": 5,
     "metadata": {},
     "output_type": "execute_result"
    }
   ],
   "source": [
    "function column_algorithm!(mat::Matrix{Int64}) #last week\n",
    "    n = size(mat)[2]\n",
    "    lowest_ones = [findlast(x->x==1, mat[:,i]) for i in 1:n]\n",
    "    for i in 1:n\n",
    "        j = findfirst(x->x==lowest_ones[i], lowest_ones[1:i-1])\n",
    "        while !isnothing(j) && !isnothing(lowest_ones[i])\n",
    "            mat[:,i] = (x->x%2).(mat[:,i] + mat[:,j])\n",
    "            lowest_ones[i] = findlast(x->x==1, mat[:,i])\n",
    "            j = findfirst(x->x==lowest_ones[i], lowest_ones[1:i-1])\n",
    "        end\n",
    "    end\n",
    "    mat\n",
    "end"
   ]
  },
  {
   "cell_type": "markdown",
   "id": "7b7e8f78-241f-484c-a09a-c9c63d297af6",
   "metadata": {},
   "source": [
    "## Testing\n",
    "\n",
    "You can use the same tests as in the last exercise. If you want you can copy the algorithm from last exercise into this notebook and compare the two algorithms. Just uncomment the two lines in the `for` loop. Note that we need to create a copy of the `boundary_mat`, since it gets altered during algorithm execution. "
   ]
  },
  {
   "cell_type": "code",
   "execution_count": null,
   "id": "0c0854e7-7146-408c-8e62-b2a3db3de30e",
   "metadata": {},
   "outputs": [],
   "source": [
    "examples = filter(x -> occursin(\".in\", x), readdir(\"Examples/\"; join=true))\n",
    "    \n",
    "for example in examples\n",
    "    println(\"Solving \", example)\n",
    "    include(example)\n",
    "    #copied_mat = copy(boundary_mat)\n",
    "    #@btime column_algorithm!(copied_mat)\n",
    "    #@btime \n",
    "    column_algorithm_with_a_twist(boundary_mat)\n",
    "    @assert column_algorithm_with_a_twist(boundary_mat) == reduced_mat\n",
    "    #@assert boundary_mat == reduced_mat\n",
    "    println(\" ---> successful\")\n",
    "end\n",
    "\n",
    "println()\n",
    "println(\"Congratulations: All examples successfully solved!\")"
   ]
  },
  {
   "cell_type": "code",
   "execution_count": null,
   "id": "96f19d0b",
   "metadata": {},
   "outputs": [],
   "source": []
  }
 ],
 "metadata": {
  "kernelspec": {
   "display_name": "Julia 1.7.2",
   "language": "julia",
   "name": "julia-1.7"
  },
  "language_info": {
   "file_extension": ".jl",
   "mimetype": "application/julia",
   "name": "julia",
   "version": "1.7.2"
  }
 },
 "nbformat": 4,
 "nbformat_minor": 5
}
