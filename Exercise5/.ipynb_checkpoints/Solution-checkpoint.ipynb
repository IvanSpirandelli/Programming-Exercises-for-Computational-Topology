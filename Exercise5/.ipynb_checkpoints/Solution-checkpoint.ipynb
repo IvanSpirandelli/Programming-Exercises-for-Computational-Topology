{
 "cells": [
  {
   "cell_type": "code",
   "execution_count": 8,
   "id": "0c2f7fac-7580-4d28-bccd-1cbfb98a84e7",
   "metadata": {},
   "outputs": [
    {
     "name": "stderr",
     "output_type": "stream",
     "text": [
      "\u001b[32m\u001b[1m  Activating\u001b[22m\u001b[39m project at `~/Desktop/Doktor/Lehre/Exercise5/CompTop2022`\n",
      "\u001b[32m\u001b[1m    Updating\u001b[22m\u001b[39m registry at `~/.julia/registries/General.toml`\n",
      "┌ Warning: could not download https://pkg.julialang.org/registries\n",
      "│   exception = Downloads.RequestError(\"https://pkg.julialang.org/registries\", 6, \"Could not resolve host: pkg.julialang.org\", Downloads.Response(nothing, \"https://pkg.julialang.org/registries\", 0, \"\", Pair{String, String}[]))\n",
      "└ @ Pkg.Registry /buildworker/worker/package_linux64/build/usr/share/julia/stdlib/v1.7/Pkg/src/Registry/Registry.jl:82\n",
      "\u001b[32m\u001b[1m   Resolving\u001b[22m\u001b[39m package versions...\n",
      "\u001b[32m\u001b[1m  No Changes\u001b[22m\u001b[39m to `~/Desktop/Doktor/Lehre/Exercise5/CompTop2022/Project.toml`\n",
      "\u001b[32m\u001b[1m  No Changes\u001b[22m\u001b[39m to `~/Desktop/Doktor/Lehre/Exercise5/CompTop2022/Manifest.toml`\n",
      "\u001b[32m\u001b[1m   Resolving\u001b[22m\u001b[39m package versions...\n",
      "\u001b[32m\u001b[1m  No Changes\u001b[22m\u001b[39m to `~/Desktop/Doktor/Lehre/Exercise5/CompTop2022/Project.toml`\n",
      "\u001b[32m\u001b[1m  No Changes\u001b[22m\u001b[39m to `~/Desktop/Doktor/Lehre/Exercise5/CompTop2022/Manifest.toml`\n",
      "\u001b[32m\u001b[1m   Resolving\u001b[22m\u001b[39m package versions...\n",
      "\u001b[32m\u001b[1m  No Changes\u001b[22m\u001b[39m to `~/Desktop/Doktor/Lehre/Exercise5/CompTop2022/Project.toml`\n",
      "\u001b[32m\u001b[1m  No Changes\u001b[22m\u001b[39m to `~/Desktop/Doktor/Lehre/Exercise5/CompTop2022/Manifest.toml`\n",
      "\u001b[32m\u001b[1m   Resolving\u001b[22m\u001b[39m package versions...\n",
      "\u001b[32m\u001b[1m  No Changes\u001b[22m\u001b[39m to `~/Desktop/Doktor/Lehre/Exercise5/CompTop2022/Project.toml`\n",
      "\u001b[32m\u001b[1m  No Changes\u001b[22m\u001b[39m to `~/Desktop/Doktor/Lehre/Exercise5/CompTop2022/Manifest.toml`\n",
      "\u001b[32m\u001b[1m   Resolving\u001b[22m\u001b[39m package versions...\n",
      "\u001b[32m\u001b[1m  No Changes\u001b[22m\u001b[39m to `~/Desktop/Doktor/Lehre/Exercise5/CompTop2022/Project.toml`\n",
      "\u001b[32m\u001b[1m  No Changes\u001b[22m\u001b[39m to `~/Desktop/Doktor/Lehre/Exercise5/CompTop2022/Manifest.toml`\n",
      "┌ Info: Precompiling Plots [91a5bcdd-55d7-5caf-9e0b-520d859cae80]\n",
      "└ @ Base loading.jl:1423\n"
     ]
    }
   ],
   "source": [
    "using Pkg\n",
    "\n",
    "Pkg.activate(\"../CompTop2022\")\n",
    "Pkg.add(\"BenchmarkTools\")\n",
    "Pkg.add(\"StaticArrays\")\n",
    "Pkg.add(\"Plots\")\n",
    "Pkg.add(\"Distances\")\n",
    "Pkg.add(\"Combinatorics\")\n",
    "\n",
    "using BenchmarkTools, StaticArrays, Plots, Distances, Combinatorics"
   ]
  },
  {
   "cell_type": "markdown",
   "id": "3581d60d-5be3-4981-bdac-907443dbb567",
   "metadata": {},
   "source": [
    "# Cech and Rips complexes\n",
    "\n",
    "In this exercise we will implement the `miniball` algorithm from [III.2](https://www.maths.ed.ac.uk/~v1ranick/papers/edelcomp.pdf) and then use it to construct a Cech complex for a given radius $r$ on a set of points $S$. Furthermore we will also implement a function that constructs the Rips complex on $S$ with radius $r$.\n",
    "\n",
    "Consider the following struct that defines a $T-Ball$ where $T$ is an `Int` representing the dimension. An uppercase $T$ is an unusual choice for a variable representing dimensions, however it is the standard letter to indicate some template variable. We will stick to this convention. "
   ]
  },
  {
   "cell_type": "code",
   "execution_count": 1,
   "id": "b7478d34-0b1b-4767-b6da-63410f00b57f",
   "metadata": {},
   "outputs": [
    {
     "ename": "LoadError",
     "evalue": "UndefVarError: SVector not defined",
     "output_type": "error",
     "traceback": [
      "UndefVarError: SVector not defined",
      "",
      "Stacktrace:",
      " [1] top-level scope",
      "   @ In[1]:1",
      " [2] eval",
      "   @ ./boot.jl:373 [inlined]",
      " [3] include_string(mapexpr::typeof(REPL.softscope), mod::Module, code::String, filename::String)",
      "   @ Base ./loading.jl:1196"
     ]
    }
   ],
   "source": [
    "struct Ball{T}\n",
    "    center::SVector{T, Float64}\n",
    "    radius::Float64\n",
    "end   "
   ]
  },
  {
   "cell_type": "markdown",
   "id": "ede1f368-55b4-44bf-823a-9248d002dc45",
   "metadata": {},
   "source": [
    "Although we defined a general dimension struct `Ball`. We will stick to two dimensions for this task. The following helperfunction `find_enclosing_circle_2d` takes an index set and a set of points as input. The index set is intended to contain the indices of the points that lie on the boundary. Note that in two dimensions a circle is uniquely determined by three points on its boundary. "
   ]
  },
  {
   "cell_type": "code",
   "execution_count": 2,
   "id": "20b57d14-729a-4a13-9c63-cb966c015f1e",
   "metadata": {},
   "outputs": [
    {
     "ename": "LoadError",
     "evalue": "LoadError: UndefVarError: @SVector not defined\nin expression starting at In[2]:6",
     "output_type": "error",
     "traceback": [
      "LoadError: UndefVarError: @SVector not defined\nin expression starting at In[2]:6",
      "",
      "Stacktrace:",
      " [1] top-level scope",
      "   @ :0",
      " [2] eval",
      "   @ ./boot.jl:373 [inlined]",
      " [3] include_string(mapexpr::typeof(REPL.softscope), mod::Module, code::String, filename::String)",
      "   @ Base ./loading.jl:1196"
     ]
    }
   ],
   "source": [
    "function find_enclosing_circle_2d(boundary_subset::Vector{Int}, points::Vector{Vector{Float64}})\n",
    "   \n",
    "    if length(boundary_subset) == 0\n",
    "        # Moving the center to Inf,Inf and setting the radius to zero means \n",
    "        # nothing can be contained in the ball as long as we are in R^2\n",
    "        return Ball{2}(@SVector[Inf,Inf], 0.0)\n",
    "    end\n",
    "    \n",
    "    if length(boundary_subset) == 1\n",
    "        x,y = points[boundary_subset[1]]\n",
    "        return Ball{2}(@SVector[x,y], 0.0)\n",
    "    end\n",
    "\n",
    "    if length(boundary_subset) == 2\n",
    "        p = points[boundary_subset[1]]\n",
    "        q = points[boundary_subset[2]]\n",
    "        x,y = (p+q)/2.0\n",
    "        return Ball{2}(@SVector[x,y], euclidean(p,q)/2.0)\n",
    "    end\n",
    "    \n",
    "    # We are ignoring all indexed points larger 4 because a circle in 2D is \n",
    "    # uniquely determined by three boundary points.\n",
    "    # Code from https://www.geeksforgeeks.org/equation-of-circle-when-three-points-on-the-circle-are-given/\n",
    "    \n",
    "    x1, y1 = points[boundary_subset[1]]\n",
    "    x2, y2 = points[boundary_subset[2]]\n",
    "    x3, y3 = points[boundary_subset[3]]\n",
    "    \n",
    "    x12 = x1 - x2;\n",
    "    x13 = x1 - x3;\n",
    " \n",
    "    y12 = y1 - y2;\n",
    "    y13 = y1 - y3;\n",
    " \n",
    "    y31 = y3 - y1;\n",
    "    y21 = y2 - y1;\n",
    " \n",
    "    x31 = x3 - x1;\n",
    "    x21 = x2 - x1;\n",
    " \n",
    "    sx13 = x1^2 - x3^2;\n",
    "\n",
    "    sy13 = y1^2 - y3^2;\n",
    " \n",
    "    sx21 = x2^2 - x1^2;\n",
    "    sy21 = y2^2 - y1^2;\n",
    " \n",
    "    f = (((sx13) * (x12) + (sy13) *\n",
    "          (x12) + (sx21) * (x13) +\n",
    "          (sy21) * (x13)) / (2.0 *\n",
    "          ((y31) * (x12) - (y21) * (x13))));\n",
    "             \n",
    "    g = (((sx13) * (y12) + (sy13) * (y12) +\n",
    "          (sx21) * (y13) + (sy21) * (y13)) /\n",
    "          (2.0 * ((x31) * (y12) - (x21) * (y13))));\n",
    " \n",
    "    c = (-x1^2 - y1^2 -\n",
    "         2.0 * g * x1 - 2 * f * y1);\n",
    "\n",
    "    h = -g;\n",
    "    k = -f;\n",
    "    r = sqrt(h * h + k * k - c);\n",
    "\n",
    "    return Ball{2}(@SVector[h,k], r)\n",
    "end "
   ]
  },
  {
   "cell_type": "markdown",
   "id": "0665b457-53d5-40e9-86f5-4bef7ccaf26a",
   "metadata": {},
   "source": [
    "The following functions can be used to plot balls and point sets. These may be helpful for debugging."
   ]
  },
  {
   "cell_type": "code",
   "execution_count": 3,
   "id": "0031899c-6b36-43f6-a5de-7add1d49e304",
   "metadata": {
    "tags": []
   },
   "outputs": [
    {
     "data": {
      "text/plain": [
       "plot_ball_and_points (generic function with 1 method)"
      ]
     },
     "execution_count": 3,
     "metadata": {},
     "output_type": "execute_result"
    }
   ],
   "source": [
    "# circle_shape and plot_ball are based on\n",
    "# https://discourse.julialang.org/t/plot-a-circle-with-a-given-radius-with-plots-jl/23295/3\n",
    "function circle_shape(c, r)\n",
    "    θ = LinRange(0,2*π, 500)\n",
    "    c[1] .+ r*sin.(θ), c[2] .+ r*cos.(θ)\n",
    "end\n",
    "\n",
    "function plot_ball!(fig, b::Ball)\n",
    "    plot!(fig, circle_shape(b.center,b.radius), \n",
    "        seriestype = [:shape], \n",
    "        lw = 0.5,\n",
    "        c= :blue, \n",
    "        linecolor = :black, \n",
    "        legend = false,\n",
    "        fillalpha = 0.2, \n",
    "        aspect_ratio = 1)\n",
    "end \n",
    "\n",
    "function plot_ball_and_points(ball::Ball, points::Vector{Vector{Float64}})\n",
    "    fig = scatter(getindex.(points, 1), getindex.(points, 2))\n",
    "    plot_ball!(fig, ball)\n",
    "    fig\n",
    "end"
   ]
  },
  {
   "cell_type": "markdown",
   "id": "73c810dc-5fab-4afa-8901-b5a2ce89fb7b",
   "metadata": {},
   "source": [
    "The following is an example of this visualization."
   ]
  },
  {
   "cell_type": "code",
   "execution_count": 4,
   "id": "881a6fe7-66e1-4e61-aa76-0efd32cfbb47",
   "metadata": {},
   "outputs": [
    {
     "ename": "LoadError",
     "evalue": "UndefVarError: find_enclosing_circle_2d not defined",
     "output_type": "error",
     "traceback": [
      "UndefVarError: find_enclosing_circle_2d not defined",
      "",
      "Stacktrace:",
      " [1] top-level scope",
      "   @ In[4]:2",
      " [2] eval",
      "   @ ./boot.jl:373 [inlined]",
      " [3] include_string(mapexpr::typeof(REPL.softscope), mod::Module, code::String, filename::String)",
      "   @ Base ./loading.jl:1196"
     ]
    }
   ],
   "source": [
    "points = [randn(2) for _ in 1:10]\n",
    "b = find_enclosing_circle_2d([1,2,5], points)\n",
    "plot_ball_and_points(b, points)"
   ]
  },
  {
   "cell_type": "markdown",
   "id": "2acf574b-c2c4-4112-af0a-f655086d92d8",
   "metadata": {},
   "source": [
    "Your task is to write the following three functions: \n",
    "* `mini_ball`\n",
    "* `chech_complex`\n",
    "* `rips_copmplex`\n",
    "\n",
    "Think about what helper functions you might need. The output of `miniball` should be a `Ball`. The output of the other functions should be a `Vector{Vector{Int}}` representing the generated abstract simplicial complex. An example would be the abstract simplicial complex of a triangle with all its faces. \n",
    "$\\{\\{1\\}, \\{2\\}, \\{3\\}, \\{1,2\\}, \\{1,3\\}, \\{2,3\\}, \\{1,2,3\\}\\}$\n",
    "\n",
    "Note that we did not include the empty set $\\emptyset$, since we do not require it to be represented in the output vector of the functions.\n"
   ]
  },
  {
   "cell_type": "code",
   "execution_count": 13,
   "id": "d77502d0-635d-4e39-aad1-803a237d3906",
   "metadata": {},
   "outputs": [
    {
     "data": {
      "text/plain": [
       "is_in_ball (generic function with 1 method)"
      ]
     },
     "execution_count": 13,
     "metadata": {},
     "output_type": "execute_result"
    }
   ],
   "source": [
    "function is_in_ball(point::Vector{Float64}, b::Ball)\n",
    "    dist = euclidean(point, b.center)\n",
    "    return dist < b.radius || isapprox(dist, b.radius)\n",
    "end"
   ]
  },
  {
   "cell_type": "code",
   "execution_count": 14,
   "id": "3857da85-4261-4633-b0a9-d8ed56855ce1",
   "metadata": {
    "tags": []
   },
   "outputs": [
    {
     "data": {
      "text/plain": [
       "mini_ball (generic function with 1 method)"
      ]
     },
     "execution_count": 14,
     "metadata": {},
     "output_type": "execute_result"
    }
   ],
   "source": [
    "function mini_ball(τ, ν, points)     \n",
    "    if τ == Int[]\n",
    "        return find_enclosing_circle_2d(ν, points)\n",
    "    else\n",
    "        index_u = rand(1:length(τ))\n",
    "            \n",
    "        u = τ[index_u]\n",
    "        μ = [elem for elem in ν]\n",
    "        \n",
    "        ω = [elem for elem in τ if elem != u]\n",
    "        b = mini_ball(ω, μ, points)\n",
    "                \n",
    "        if !is_in_ball(points[u], b)    \n",
    "            push!(μ, u)\n",
    "            b = mini_ball(ω, μ, points)\n",
    "        end\n",
    "    end\n",
    "    return b\n",
    "end"
   ]
  },
  {
   "cell_type": "code",
   "execution_count": 15,
   "id": "4d39a3d7-eb81-44e3-b7af-5c71643ecff6",
   "metadata": {},
   "outputs": [
    {
     "data": {
      "text/plain": [
       "chech_complex (generic function with 1 method)"
      ]
     },
     "execution_count": 15,
     "metadata": {},
     "output_type": "execute_result"
    }
   ],
   "source": [
    "function chech_complex(points, r)\n",
    "    complex = []\n",
    "    for σ in collect(powerset(collect(1:length(points)), 1))\n",
    "        if mini_ball(σ, Int[], points).radius < r\n",
    "            push!(complex, σ)\n",
    "        end\n",
    "    end\n",
    "    complex\n",
    "end"
   ]
  },
  {
   "cell_type": "code",
   "execution_count": 26,
   "id": "087e6372-6751-498b-966b-f316c83fd238",
   "metadata": {},
   "outputs": [
    {
     "name": "stdout",
     "output_type": "stream",
     "text": [
      "Any[[1], [2], [3], [4], [5], [6], [7], [8], [9], [10], [1, 4], [1, 8], [2, 7], [2, 8], [2, 10], [3, 4], [4, 7], [4, 8], [5, 6], [7, 8], [7, 10], [8, 10], [1, 4, 8], [2, 7, 8], [2, 7, 10], [4, 7, 8], [7, 8, 10]]\n"
     ]
    }
   ],
   "source": [
    "points = [[0.6722160492277268, 0.6999383545999939],\n",
    " [-0.37682086050714175, 0.37126922448266264],\n",
    " [1.468937306183007, -0.2687385812642815],\n",
    " [0.8397029901863983, -0.1815031668940114],\n",
    " [2.148159755905217, 1.5104610118822424],\n",
    " [1.8883608408716654, 1.9017511847501798],\n",
    " [-0.0690161774084484, -0.16357579722103666],\n",
    " [0.458594683733351, -0.05956829787443805],\n",
    " [-1.3252094574927165, 1.1124175613596903],\n",
    " [-0.2561915220307307, -0.5003762140518727]]\n",
    "\n",
    "complex = chech_complex(points, 0.5)\n",
    "println(complex)\n",
    "@assert complex == [[1], [2], [3], [4], [5], [6], [7], [8], [9], [10], \n",
    "    [1, 4], [1, 8], [2, 7], [2, 8], [2, 10], [3, 4], [4, 7], [4, 8], [5, 6], [7, 8], [7, 10], [8, 10], \n",
    "    [1, 4, 8], [2, 7, 8], [2, 7, 10], [4, 7, 8], [7, 8, 10]]"
   ]
  },
  {
   "cell_type": "code",
   "execution_count": 17,
   "id": "35cdaece-0643-4fd7-a8cf-defc01522329",
   "metadata": {},
   "outputs": [
    {
     "data": {
      "text/plain": [
       "rips_complex (generic function with 1 method)"
      ]
     },
     "execution_count": 17,
     "metadata": {},
     "output_type": "execute_result"
    }
   ],
   "source": [
    "function is_diam_sufficiently_small(σ, points, r)\n",
    "    # Implementation farrrrr from optimal. I am a bit lazy right now though. \n",
    "    for ν ∈ σ\n",
    "        for μ ∈ σ\n",
    "            if euclidean(points[ν], points[μ]) > 2*r\n",
    "                return false\n",
    "            end\n",
    "        end\n",
    "    end\n",
    "    true\n",
    "end\n",
    "\n",
    "\n",
    "function rips_complex(points, r)    \n",
    "    complex = []\n",
    "    for σ in collect(powerset(collect(1:length(points)), 1))\n",
    "        if is_diam_sufficiently_small(σ, points, r)\n",
    "            push!(complex, σ)\n",
    "        end\n",
    "    end\n",
    "    complex\n",
    "end"
   ]
  },
  {
   "cell_type": "code",
   "execution_count": 27,
   "id": "74a71b81-95e3-43e4-9575-c5ff206a4027",
   "metadata": {},
   "outputs": [
    {
     "name": "stdout",
     "output_type": "stream",
     "text": [
      "Any[[1], [2], [3], [4], [5], [6], [7], [8], [9], [10], [1, 4], [1, 8], [2, 7], [2, 8], [2, 10], [3, 4], [4, 7], [4, 8], [5, 6], [7, 8], [7, 10], [8, 10], [1, 4, 8], [2, 7, 8], [2, 7, 10], [2, 8, 10], [4, 7, 8], [7, 8, 10], [2, 7, 8, 10]]\n"
     ]
    }
   ],
   "source": [
    "complex = rips_complex(points, 0.5) \n",
    "println(complex)\n",
    "@assert complex == [[1], [2], [3], [4], [5], [6], [7], [8], [9], [10], \n",
    "[1, 4], [1, 8], [2, 7], [2, 8], [2, 10], [3, 4], [4, 7], [4, 8], [5, 6], [7, 8], [7, 10], [8, 10], \n",
    "[1, 4, 8], [2, 7, 8], [2, 7, 10], [2, 8, 10], [4, 7, 8], [7, 8, 10], \n",
    "[2, 7, 8, 10]]"
   ]
  },
  {
   "cell_type": "code",
   "execution_count": null,
   "id": "49b5075e-3868-4388-8f67-1d0048094f8b",
   "metadata": {},
   "outputs": [],
   "source": []
  }
 ],
 "metadata": {
  "kernelspec": {
   "display_name": "Julia 1.8.1",
   "language": "julia",
   "name": "julia-1.8"
  },
  "language_info": {
   "file_extension": ".jl",
   "mimetype": "application/julia",
   "name": "julia",
   "version": "1.7.2"
  }
 },
 "nbformat": 4,
 "nbformat_minor": 5
}
