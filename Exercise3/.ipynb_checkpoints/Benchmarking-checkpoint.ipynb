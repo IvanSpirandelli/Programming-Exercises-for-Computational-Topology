{
 "cells": [
  {
   "cell_type": "markdown",
   "id": "43bc0f98-6bd1-4be8-bebb-836d7383fc7c",
   "metadata": {},
   "source": [
    "# Benchmarking \n",
    "\n",
    "An important aspect of implementing algorithms is running time. \n",
    "\n",
    "The theoretical part of this is done by analysing how algorithms behave asymptotically. \n",
    "\n",
    "But still. For given asymptotical bounds: Implementation matters. A LOT. Especially for large problems. \n",
    "\n",
    "The difference between 10 seconds and 1000 seconds might be negligible but running a program for one week or two **years** can make all the difference.\n",
    "\n",
    "Therefor one important part of writing performant code is benchmarking.\n",
    "\n",
    "Luckily the `BenchmarkTools` package has us covered. ;)"
   ]
  },
  {
   "cell_type": "code",
   "execution_count": 4,
   "id": "133e02ed-1463-4553-a687-11c80b8bfd47",
   "metadata": {},
   "outputs": [
    {
     "name": "stderr",
     "output_type": "stream",
     "text": [
      "\u001b[32m\u001b[1m  Activating\u001b[22m\u001b[39m project at `~/Desktop/Doktor/Lehre/Exercise3/CompTop2022`\n",
      "\u001b[32m\u001b[1m   Resolving\u001b[22m\u001b[39m package versions...\n",
      "\u001b[32m\u001b[1m  No Changes\u001b[22m\u001b[39m to `~/Desktop/Doktor/Lehre/Exercise3/CompTop2022/Project.toml`\n",
      "\u001b[32m\u001b[1m  No Changes\u001b[22m\u001b[39m to `~/Desktop/Doktor/Lehre/Exercise3/CompTop2022/Manifest.toml`\n"
     ]
    }
   ],
   "source": [
    "using Pkg\n",
    "Pkg.activate(\"CompTop2022\")\n",
    "Pkg.add(\"BenchmarkTools\")"
   ]
  },
  {
   "cell_type": "code",
   "execution_count": 5,
   "id": "ea9bbaa5-edeb-411c-9037-d911b4e686f7",
   "metadata": {},
   "outputs": [],
   "source": [
    "using BenchmarkTools"
   ]
  },
  {
   "cell_type": "markdown",
   "id": "815c0987-abc7-422f-995c-0f557c7b72b5",
   "metadata": {},
   "source": [
    "Write two functions: \n",
    "\n",
    "`squares_push`\n",
    "\n",
    "`squares_comprehension`\n",
    "\n",
    "The functions take an integer `n` as Input and return an array containing the `i^2`at index `i`. This means calling them with `n = 3` for example returns an array `[1, 4, 9]`. \n",
    "\n",
    "`squares_push` should contain a for loop in which you iterate from `1`to `n` and push the square number into some array that is returned after the loop. \n",
    "\n",
    "`squares_comprehension` should return the same array using array comprehension.\n"
   ]
  },
  {
   "cell_type": "code",
   "execution_count": 6,
   "id": "3fa7f4b3-438b-4861-9847-45741a50533d",
   "metadata": {},
   "outputs": [
    {
     "data": {
      "text/plain": [
       "squares_straight_forward (generic function with 1 method)"
      ]
     },
     "execution_count": 6,
     "metadata": {},
     "output_type": "execute_result"
    }
   ],
   "source": [
    "# 10 points\n",
    "function squares_straight_forward(n::Int)\n",
    "    # YOUR CODE HERE\n",
    "end\n",
    "\n",
    "function squares_comprehension(n)\n",
    "    # YOUR CODE HERE\n",
    "end"
   ]
  },
  {
   "cell_type": "markdown",
   "id": "68325f9e-cd95-444a-8e0d-69a8a5e20a0c",
   "metadata": {},
   "source": [
    "Now execute the following blocks using the `@benchmark` macro to see how these implementations perform. "
   ]
  },
  {
   "cell_type": "code",
   "execution_count": null,
   "id": "ed6c23e9-51e6-470f-a84b-2b83a2c58548",
   "metadata": {},
   "outputs": [],
   "source": [
    "n = 10000"
   ]
  },
  {
   "cell_type": "code",
   "execution_count": null,
   "id": "e794bb7e-ff1e-49a6-8f16-77267e6b6573",
   "metadata": {},
   "outputs": [],
   "source": [
    "comprehension_bench = @benchmark squares_straight_forward($n)"
   ]
  },
  {
   "cell_type": "code",
   "execution_count": null,
   "id": "83b9117d-94cd-4058-b960-a4cf05b3b4d8",
   "metadata": {},
   "outputs": [],
   "source": [
    "straight_forward_bench = @benchmark squares_comprehension($n)"
   ]
  },
  {
   "cell_type": "markdown",
   "id": "d2bd2120-8056-4738-bfbe-4c30b5befc9a",
   "metadata": {},
   "source": [
    "Want to be even faster? Check out the [Static Arrays package.](https://github.com/JuliaArrays/StaticArrays.jl)"
   ]
  },
  {
   "cell_type": "markdown",
   "id": "b20ba204-0c67-440c-af73-c3e4d52d7153",
   "metadata": {},
   "source": [
    "# Theoretical exercises\n",
    "\n"
   ]
  },
  {
   "cell_type": "markdown",
   "id": "d53de026-bf4d-4d7d-87db-13feb729deba",
   "metadata": {},
   "source": [
    "## 1. Klein Bottle: \n",
    "\n",
    "Cut the polygonal schema for the Klein Bottle $(a, b, a^{-1}, b)$ from figure II.3 from the [lecture](https://moodle2.uni-potsdam.de/pluginfile.php/2365273/mod_resource/content/1/Lecture_4_3May.pdf) and glue it back together such that we get the standart polygonal schema for the Klein Bottle $(a,a,b,b)$\n",
    "\n",
    "The following is an example for rearranging the polygonal schema of the sphere. ![](sphere.jpeg)\n",
    "\n",
    "*30 points*"
   ]
  },
  {
   "cell_type": "markdown",
   "id": "c9b68d42-65b5-41c8-9f72-5555b8a70aee",
   "metadata": {},
   "source": [
    "## 2. Triangulation of a 2-Manifold\n",
    "\n",
    "Let $N = \\{1 ..., n\\}$ be a set of $n$ vertices. Let $F = {N \\choose 3}$ be a set of $|F| = m$ triangles. Give $\\mathcal{O}(n+m)$-time algorithms for the following tasks:\n",
    "\n",
    "a.) decide whether or not every edge is shared by exactly two triangles.\n",
    "\n",
    "b.) decide whether or not every vertex belongs to a set of triangles whose union is a disk\n",
    "\n",
    "*40 points*"
   ]
  },
  {
   "cell_type": "markdown",
   "id": "ff041cf0-e48b-4301-b342-94ceacde40f5",
   "metadata": {},
   "source": [
    "## 3. Graphs on the Projective Plane\n",
    "\n",
    "Is every graph that can be embedded on the projective plane planar? \n",
    "\n",
    "*20 points*"
   ]
  },
  {
   "cell_type": "code",
   "execution_count": null,
   "id": "008c379c-ba36-48c0-9c9f-5cc44c72ce33",
   "metadata": {},
   "outputs": [],
   "source": [
    "for i in 1:N #O(n)\n",
    "    # do some stuff\n",
    "end\n",
    "\n",
    "for i in 1:N #O(n)\n",
    "    # do some stuff\n",
    "end\n",
    "\n",
    "for i in 1:N #O(n)\n",
    "    # do some stuff\n",
    "end\n",
    "\n",
    "for i in 1:N #O(n)\n",
    "    # do some stuff\n",
    "end"
   ]
  }
 ],
 "metadata": {
  "kernelspec": {
   "display_name": "Julia 1.7.2",
   "language": "julia",
   "name": "julia-1.7"
  },
  "language_info": {
   "file_extension": ".jl",
   "mimetype": "application/julia",
   "name": "julia",
   "version": "1.7.2"
  }
 },
 "nbformat": 4,
 "nbformat_minor": 5
}
