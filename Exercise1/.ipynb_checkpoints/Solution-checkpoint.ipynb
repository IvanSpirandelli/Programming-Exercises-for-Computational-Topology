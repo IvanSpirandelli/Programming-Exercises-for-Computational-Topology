{
 "cells": [
  {
   "cell_type": "markdown",
   "id": "92adba30-db9a-4d98-9ee0-e595ed6e08dc",
   "metadata": {},
   "source": [
    "## Exercise 1: Connected Components of Graphs\n",
    "\n",
    "In this exercise you will implement the algorithm to generate connected components of a graph as outlined in the first lecture. "
   ]
  },
  {
   "cell_type": "code",
   "execution_count": 35,
   "id": "32e174ae-effa-424a-af49-cfa5d59f0dab",
   "metadata": {},
   "outputs": [
    {
     "data": {
      "text/plain": [
       "4-element Vector{Tuple{Int64, Int64}}:\n",
       " (1, 2)\n",
       " (2, 3)\n",
       " (1, 3)\n",
       " (4, 5)"
      ]
     },
     "execution_count": 35,
     "metadata": {},
     "output_type": "execute_result"
    }
   ],
   "source": [
    "# Initial example\n",
    "n = 5\n",
    "edges = [(1,2), (2,3), (1,3), (4,5)]"
   ]
  },
  {
   "cell_type": "code",
   "execution_count": 36,
   "id": "527b3864-2fa2-4c6d-b644-7b2c74ce2855",
   "metadata": {},
   "outputs": [
    {
     "data": {
      "text/plain": [
       "initalize_components (generic function with 1 method)"
      ]
     },
     "execution_count": 36,
     "metadata": {},
     "output_type": "execute_result"
    }
   ],
   "source": [
    "function initalize_components(n::Int)\n",
    "    [i for i=1:n]\n",
    "end"
   ]
  },
  {
   "cell_type": "code",
   "execution_count": 37,
   "id": "005b8a26-3616-4c3f-8413-313245d02ffe",
   "metadata": {},
   "outputs": [
    {
     "data": {
      "text/plain": [
       "union! (generic function with 1 method)"
      ]
     },
     "execution_count": 37,
     "metadata": {},
     "output_type": "execute_result"
    }
   ],
   "source": [
    "function find!(i::Int, components::Vector{Int})\n",
    "    components[i] == i ? i : components[i] = find!(components[i], components)\n",
    "end\n",
    "\n",
    "function union!(i::Integer, j::Integer, components::Vector{Int})\n",
    "    my_size(k, comp) = count(x -> x == k, comp) \n",
    "    \n",
    "    a = find!(i, components)\n",
    "    b = find!(j, components)\n",
    "\n",
    "    my_size(a, components) > my_size(b, components) ? components[a] = b : components[b] = a   \n",
    "end"
   ]
  },
  {
   "cell_type": "code",
   "execution_count": 38,
   "id": "09e4d1af-1ff8-43fe-b257-43e04a650719",
   "metadata": {},
   "outputs": [
    {
     "data": {
      "text/plain": [
       "path_compress_components! (generic function with 1 method)"
      ]
     },
     "execution_count": 38,
     "metadata": {},
     "output_type": "execute_result"
    }
   ],
   "source": [
    "function construct_connected_components!(edges::Vector{Tuple{Int, Int}}, components::Vector{Int})\n",
    "    for edge in edges\n",
    "        union!(edge[1], edge[2], components)\n",
    "    end    \n",
    "end\n",
    "\n",
    "function path_compress_components!(components::Vector{Int})\n",
    "    for i in 1:Base.size(components, 1)\n",
    "        find!(i, components)\n",
    "    end\n",
    "end"
   ]
  },
  {
   "cell_type": "code",
   "execution_count": 39,
   "id": "e27e05e0-afe6-4d0c-845e-cf4fe0754f0c",
   "metadata": {},
   "outputs": [
    {
     "data": {
      "text/plain": [
       "count_connected_components (generic function with 1 method)"
      ]
     },
     "execution_count": 39,
     "metadata": {},
     "output_type": "execute_result"
    }
   ],
   "source": [
    "function count_connected_components(components::Vector{Int})\n",
    "    path_compress_components!(components)\n",
    "    length(unique(components))\n",
    "end"
   ]
  },
  {
   "cell_type": "code",
   "execution_count": 40,
   "id": "5349e6b0-ee92-442e-9b08-a96c42bf8431",
   "metadata": {},
   "outputs": [
    {
     "data": {
      "text/plain": [
       "10-element Vector{String}:\n",
       " \"Examples/ex1.in\"\n",
       " \"Examples/ex10.in\"\n",
       " \"Examples/ex2.in\"\n",
       " \"Examples/ex3.in\"\n",
       " \"Examples/ex4.in\"\n",
       " \"Examples/ex5.in\"\n",
       " \"Examples/ex6.in\"\n",
       " \"Examples/ex7.in\"\n",
       " \"Examples/ex8.in\"\n",
       " \"Examples/ex9.in\""
      ]
     },
     "execution_count": 40,
     "metadata": {},
     "output_type": "execute_result"
    }
   ],
   "source": [
    "examples = filter(x -> occursin(\".in\", x), readdir(\"Examples/\"; join=true))"
   ]
  },
  {
   "cell_type": "code",
   "execution_count": 47,
   "id": "086558ea-bd63-479e-935f-b9d701b0e542",
   "metadata": {},
   "outputs": [
    {
     "name": "stdout",
     "output_type": "stream",
     "text": [
      "Solving Examples/ex1.in ---> successful\n",
      "Solving Examples/ex10.in ---> successful\n",
      "Solving Examples/ex2.in ---> successful\n",
      "Solving Examples/ex3.in ---> successful\n",
      "Solving Examples/ex4.in ---> successful\n",
      "Solving Examples/ex5.in ---> successful\n",
      "Solving Examples/ex6.in ---> successful\n",
      "Solving Examples/ex7.in ---> successful\n",
      "Solving Examples/ex8.in ---> successful\n",
      "Solving Examples/ex9.in ---> successful\n",
      "\n",
      "All examples successfully solved. Congratulations!\n"
     ]
    }
   ],
   "source": [
    "for example in examples\n",
    "    print(\"Solving \", example)\n",
    "    include(example)\n",
    "    components = initalize_components(n) \n",
    "    @assert components == initial_components\n",
    "    construct_connected_components!(edges, components)\n",
    "    @assert count_connected_components(components) == number_of_connected_components\n",
    "    println(\" ---> successful\")\n",
    "end\n",
    "\n",
    "println(\"\\nAll examples successfully solved. Congratulations!\")"
   ]
  },
  {
   "cell_type": "code",
   "execution_count": null,
   "id": "811aeef9-41be-4590-8e68-02b54655684d",
   "metadata": {},
   "outputs": [],
   "source": []
  }
 ],
 "metadata": {
  "kernelspec": {
   "display_name": "Julia 1.6.3",
   "language": "julia",
   "name": "julia-1.6"
  },
  "language_info": {
   "file_extension": ".jl",
   "mimetype": "application/julia",
   "name": "julia",
   "version": "1.6.3"
  }
 },
 "nbformat": 4,
 "nbformat_minor": 5
}
