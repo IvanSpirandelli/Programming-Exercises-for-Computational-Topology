{
 "cells": [
  {
   "cell_type": "markdown",
   "id": "88e881ab-0449-450f-9a6f-5615ef3530a2",
   "metadata": {},
   "source": [
    "# Unittests \n",
    "\n",
    "Implement the functions for the exercise and make sure they generate the expected output. \n",
    "The `@assert` macro throws an error if the boolean expression after it evaluates to false. \n",
    "For example:"
   ]
  },
  {
   "cell_type": "code",
   "execution_count": 47,
   "id": "1de2b0ca-e12f-42e0-8aa4-cfae106567c6",
   "metadata": {},
   "outputs": [
    {
     "name": "stdout",
     "output_type": "stream",
     "text": [
      "True is true!\n"
     ]
    },
    {
     "ename": "LoadError",
     "evalue": "AssertionError: false",
     "output_type": "error",
     "traceback": [
      "AssertionError: false",
      "",
      "Stacktrace:",
      " [1] top-level scope",
      "   @ In[47]:4",
      " [2] eval",
      "   @ ./boot.jl:360 [inlined]",
      " [3] include_string(mapexpr::typeof(REPL.softscope), mod::Module, code::String, filename::String)",
      "   @ Base ./loading.jl:1116"
     ]
    }
   ],
   "source": [
    "@assert true\n",
    "println(\"True is true!\")\n",
    "\n",
    "@assert false\n",
    "println(\"THIS WONT  BE PRINTED\")"
   ]
  },
  {
   "cell_type": "markdown",
   "id": "0b1b6fec-15f7-4b02-ae3e-1604ddd8af3d",
   "metadata": {},
   "source": [
    "Try to implement the functions and see if they generate the expected output."
   ]
  },
  {
   "cell_type": "code",
   "execution_count": 48,
   "id": "2fede5a5-8ea6-46db-9b49-2d2df752d353",
   "metadata": {},
   "outputs": [
    {
     "data": {
      "text/plain": [
       "initalize_components (generic function with 1 method)"
      ]
     },
     "execution_count": 48,
     "metadata": {},
     "output_type": "execute_result"
    }
   ],
   "source": [
    "function initalize_components(n::Int)\n",
    "    # YOUR CODE HERE\n",
    "end"
   ]
  },
  {
   "cell_type": "code",
   "execution_count": 49,
   "id": "e8b2c26e-e9d5-4f12-ab8c-d381a94e9d40",
   "metadata": {},
   "outputs": [],
   "source": [
    "@assert initalize_components(1) == [1]\n",
    "@assert initalize_components(4) == [1,2,3,4]\n",
    "@assert initalize_components(7) == [1,2,3,4,5,6,7]"
   ]
  },
  {
   "cell_type": "code",
   "execution_count": 50,
   "id": "114eceb6-0e1e-45bf-ae9d-d812b9a42db9",
   "metadata": {},
   "outputs": [
    {
     "data": {
      "text/plain": [
       "find! (generic function with 1 method)"
      ]
     },
     "execution_count": 50,
     "metadata": {},
     "output_type": "execute_result"
    }
   ],
   "source": [
    "function find!(i::Int, components::Vector{Int})\n",
    "    # YOUR CODE HERE\n",
    "end"
   ]
  },
  {
   "cell_type": "code",
   "execution_count": 51,
   "id": "ec592541-6ce7-4d6e-bb60-766f480b4ead",
   "metadata": {},
   "outputs": [],
   "source": [
    "@assert find!(1, [1,2,3]) == 1\n",
    "@assert find!(2, [1,1,3]) == 1\n",
    "@assert find!(3, [1,1,2]) == 1\n",
    "\n",
    "components = [1,1,2]\n",
    "find!(3, components)\n",
    "@assert components == [1,1,1]"
   ]
  },
  {
   "cell_type": "markdown",
   "id": "7de3e51b-6b59-42b5-b582-0565478b4624",
   "metadata": {},
   "source": [
    "## Helper Functions\n",
    "\n",
    "The following two cells contain helper functions to implement the `union!()` function as in the lecture."
   ]
  },
  {
   "cell_type": "code",
   "execution_count": 52,
   "id": "81bc25b8-bbef-480b-babc-e0b8f4f3fa3d",
   "metadata": {},
   "outputs": [],
   "source": [
    "function path_compress_components!(components::Vector{Int})\n",
    "    for i in 1:Base.size(components, 1)\n",
    "        find!(i, components)\n",
    "    end\n",
    "end\n",
    "\n",
    "components = [1,1,2,3]\n",
    "path_compress_components!(components)\n",
    "@assert components == [1,1,1,1]\n",
    "\n",
    "components = [1,1,3,2]\n",
    "path_compress_components!(components)\n",
    "@assert components == [1,1,3,1]"
   ]
  },
  {
   "cell_type": "code",
   "execution_count": 53,
   "id": "a6d8b86c-3f88-4980-b642-c05d606c3638",
   "metadata": {},
   "outputs": [],
   "source": [
    "component_size(i, comp) = count(x -> x == i, comp);\n",
    "\n",
    "@assert component_size(1, [1,1,3,4]) == 2\n",
    "@assert component_size(1, [1,1,1,4]) == 3\n",
    "@assert component_size(4, [1,1,3,1]) == 0"
   ]
  },
  {
   "cell_type": "markdown",
   "id": "130d8161-acce-44e1-ac5c-b59ead9a5f1e",
   "metadata": {},
   "source": [
    "## Union\n",
    "\n",
    "The union function tests expect you to do weighted merging of the components. One way to do this is to `path_compress` all components after  each union step. "
   ]
  },
  {
   "cell_type": "code",
   "execution_count": 54,
   "id": "137a68d4-5d77-43ad-bf46-b75cd063449b",
   "metadata": {},
   "outputs": [
    {
     "data": {
      "text/plain": [
       "union! (generic function with 1 method)"
      ]
     },
     "execution_count": 54,
     "metadata": {},
     "output_type": "execute_result"
    }
   ],
   "source": [
    "function union!(i::Integer, j::Integer, components::Vector{Int})\n",
    "    # YOUR CODE HERE\n",
    "    path_compress_components!(components)\n",
    "end"
   ]
  },
  {
   "cell_type": "code",
   "execution_count": 55,
   "id": "4462cd68-7d8f-4a43-aff5-e2dba9fd5be3",
   "metadata": {},
   "outputs": [],
   "source": [
    "components = [1,2,2]\n",
    "union!(1,2, components)\n",
    "@assert components[1] == 2\n",
    "\n",
    "# Redefining components. Note that union should change the components vector.\n",
    "components = [1,2,2,2,5,5,5]\n",
    "union!(1,4, components)\n",
    "@assert components[1] == 2\n",
    "\n",
    "union!(1,6, components)\n",
    "# Note that before calling union the root of 6 is 5. So after calling union the root of 5 must be 2 if we use weighted merging.\n",
    "@assert components[5] == 2 \n",
    "\n",
    "#How would components look if we did not pathcompress?\n",
    "@assert components == [2,2,2,2,2,2,2]"
   ]
  }
 ],
 "metadata": {
  "kernelspec": {
   "display_name": "Julia 1.6.3",
   "language": "julia",
   "name": "julia-1.6"
  },
  "language_info": {
   "file_extension": ".jl",
   "mimetype": "application/julia",
   "name": "julia",
   "version": "1.6.3"
  }
 },
 "nbformat": 4,
 "nbformat_minor": 5
}
