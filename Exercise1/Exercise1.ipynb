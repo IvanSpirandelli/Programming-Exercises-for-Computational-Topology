{
 "cells": [
  {
   "cell_type": "markdown",
   "id": "92adba30-db9a-4d98-9ee0-e595ed6e08dc",
   "metadata": {},
   "source": [
    "# Exercise 1: Connected Components of Graphs\n",
    "\n",
    "In this exercise you will implement an algorithm to find connected components of a graph as outlined in the chapter [I.1 Connected Components](https://www.maths.ed.ac.uk/~v1ranick/papers/edelcomp.pdf)\n",
    "\n",
    "## Grading and Deadline\n",
    "\n",
    "The exercise will have 20 points in total. Please hand in your solution until 23:59 of 01.05.2022.\n",
    "\n",
    "## Input example\n",
    "\n",
    "You are given an `Int` variable called `n` that represents the number of nodes in a graph $G = (V,E)$, where $V = \\{1, ..., n\\}$, i.e. the nodes of the graph are labeled $1,...,n$. \n",
    "\n",
    "Furthermore you are given a `Vector{Tuple{Int, Int}}` called `edges`representing the edgeset $E$. "
   ]
  },
  {
   "cell_type": "code",
   "execution_count": null,
   "id": "32e174ae-effa-424a-af49-cfa5d59f0dab",
   "metadata": {},
   "outputs": [],
   "source": [
    "# Simple example to illustrate the input format.\n",
    "n = 3\n",
    "# if you want to supress the cell output add a ; to the end of the last line. \n",
    "edges = [(1,2), (2,3), (1,3)]"
   ]
  },
  {
   "cell_type": "markdown",
   "id": "a8779f99-53cf-423d-b941-fb68b6756908",
   "metadata": {},
   "source": [
    "## Initialization\n",
    "\n",
    "As suggested in the [first lecture](https://moodle2.uni-potsdam.de/pluginfile.php/2327332/mod_resource/content/1/Lecture_1_21Apr.pdf) we will maintain a datastructure, in which each connected component is represented as a tree. \n",
    "\n",
    "As hinted in figure $I.5$ we will keep track of all trees in a single `Vector{Int}` called  `components` where node $i$ is represented by index $i$ and the root of node $i$ is the entry `components[i]`. \n",
    "\n",
    "Now implement `initalize_components(n::Int)`. It takes an `Integer n` as input and should return a `Vector{Int}` in which each node points to itself as its root.\n",
    "\n",
    "*WARNING: This is a slight deviation from the process discussed in the lecture. After initializing the components in this way we already added all nodes to our data structure and no longer need an `add` function!*"
   ]
  },
  {
   "cell_type": "code",
   "execution_count": null,
   "id": "527b3864-2fa2-4c6d-b644-7b2c74ce2855",
   "metadata": {},
   "outputs": [],
   "source": [
    "function initalize_components(n::Int) # 2 points\n",
    "    # YOUR CODE HERE\n",
    "end;"
   ]
  },
  {
   "cell_type": "markdown",
   "id": "1b829eba-55b0-4210-b556-91c91bcee115",
   "metadata": {},
   "source": [
    "## Find\n",
    "\n",
    "Implement the find function from the lecture."
   ]
  },
  {
   "cell_type": "code",
   "execution_count": null,
   "id": "7b2fb907-5c41-4ed9-b7de-68ec6e82b27c",
   "metadata": {},
   "outputs": [],
   "source": [
    "function find!(i::Int, components::Vector{Int}) # 5 points\n",
    "    # YOUR CODE HERE\n",
    "end"
   ]
  },
  {
   "cell_type": "markdown",
   "id": "e350ab86-e32a-4c48-998a-fd8ecb3ef2a4",
   "metadata": {},
   "source": [
    "## Helper Functions\n",
    "\n",
    "To implement the `union!()` function as in the lecture you will need a size function. One way to do this is to path compress the data structure after each `union!()` step and have a size function that just counts the occurences of a root index. See the UnitTests.ipynb for examples."
   ]
  },
  {
   "cell_type": "code",
   "execution_count": null,
   "id": "2da863df-1388-4aa1-9802-591c22ea941b",
   "metadata": {},
   "outputs": [],
   "source": [
    "function path_compress_components!(components::Vector{Int})\n",
    "    for i in 1:Base.size(components, 1)\n",
    "        find!(i, components)\n",
    "    end\n",
    "end\n",
    "\n",
    "# Note this special way of defining functions in julia.\n",
    "component_size(i, comp) = count(x -> x == i, comp);"
   ]
  },
  {
   "cell_type": "markdown",
   "id": "2c6a9f6a-fef9-4569-9388-e9bcda67abf9",
   "metadata": {},
   "source": [
    "## Union\n",
    "\n",
    "Implement the `union!` function. Note that we are path compressing the components AFTER doing a union step. \n",
    "\n",
    "This is not particularly elegant but ensures that all nodes point to the root of their component after each union step."
   ]
  },
  {
   "cell_type": "code",
   "execution_count": null,
   "id": "005b8a26-3616-4c3f-8413-313245d02ffe",
   "metadata": {},
   "outputs": [],
   "source": [
    "function union!(i::Integer, j::Integer, components::Vector{Int}) # 5 points\n",
    "    # YOUR CODE HERE  \n",
    "    path_compress_components!(components)\n",
    "end;"
   ]
  },
  {
   "cell_type": "markdown",
   "id": "258b7ea8-b033-409c-84d4-91b5d1e5a30c",
   "metadata": {},
   "source": [
    "## Constructing the Connected Components.\n",
    "\n",
    "Now use the previously written functions to iterate over the set of `edges` and construct the connected components."
   ]
  },
  {
   "cell_type": "code",
   "execution_count": null,
   "id": "09e4d1af-1ff8-43fe-b257-43e04a650719",
   "metadata": {},
   "outputs": [],
   "source": [
    "function construct_connected_components!(edges::Vector{Tuple{Int, Int}}, components::Vector{Int}) # 5 points\n",
    "    # YOUR CODE HERE\n",
    "end;"
   ]
  },
  {
   "cell_type": "markdown",
   "id": "cdb2f7d1-c4c3-4071-922a-a14bacdd9fb1",
   "metadata": {},
   "source": [
    "## Counting the Connected Components.\n",
    "\n",
    "Implement a function `count_connected_components`. "
   ]
  },
  {
   "cell_type": "code",
   "execution_count": null,
   "id": "e27e05e0-afe6-4d0c-845e-cf4fe0754f0c",
   "metadata": {},
   "outputs": [],
   "source": [
    "function count_connected_components(components::Vector{Int}) #3 points\n",
    "    # YOUR CODE HERE\n",
    "end;"
   ]
  },
  {
   "cell_type": "code",
   "execution_count": null,
   "id": "5349e6b0-ee92-442e-9b08-a96c42bf8431",
   "metadata": {},
   "outputs": [],
   "source": [
    "examples = filter(x -> occursin(\".in\", x), readdir(\"Examples/\"; join=true))"
   ]
  },
  {
   "cell_type": "code",
   "execution_count": null,
   "id": "086558ea-bd63-479e-935f-b9d701b0e542",
   "metadata": {},
   "outputs": [],
   "source": [
    "for example in examples\n",
    "    println(example)\n",
    "    include(example)\n",
    "    components = initalize_components(n) \n",
    "    @assert components == initial_components\n",
    "    construct_connected_components!(edges, components)\n",
    "    @assert count_connected_components(components) == number_of_connected_components\n",
    "end"
   ]
  },
  {
   "cell_type": "markdown",
   "id": "0b668cfd-5386-4f66-9445-aeeffb688e8a",
   "metadata": {},
   "source": [
    "# Visualizing Examples\n",
    "\n",
    "Luckily for us there is a nice Julia Package called [GraphPlot](https://github.com/JuliaGraphs/GraphPlot.jl) that makes it easy for us to visualize examples. \n",
    "\n",
    "Before we can use its functionality we need to import it and its dependencies. "
   ]
  },
  {
   "cell_type": "code",
   "execution_count": null,
   "id": "ffbd312f-53a7-405b-9b4a-8e28153ccc52",
   "metadata": {},
   "outputs": [],
   "source": [
    "import Pkg; \n",
    "Pkg.activate(\"../CompTop2022\") # This creates a new package environment on your computer.\n",
    "\n",
    "Pkg.add(\"Graphs\")\n",
    "Pkg.add(\"GraphPlot\")\n",
    "\n",
    "using Graphs\n",
    "using GraphPlot"
   ]
  },
  {
   "cell_type": "markdown",
   "id": "f3436b87-00dd-4452-ba6a-4f4d0b156265",
   "metadata": {},
   "source": [
    "The following function `visualize_example` takes the path to an example file as input and uses the `GraphPlot` package to visualize the graph described in the file."
   ]
  },
  {
   "cell_type": "code",
   "execution_count": null,
   "id": "26297e90-e3d6-4357-aa6a-be708768cb5e",
   "metadata": {},
   "outputs": [],
   "source": [
    "function visualize_example(example::String) \n",
    "    include(example)\n",
    "    g = SimpleGraph(n)\n",
    "    nodelabel = collect(1:nv(g))\n",
    "    \n",
    "    for edge in edges\n",
    "        add_edge!(g, edge[1], edge[2])\n",
    "    end\n",
    "    \n",
    "    gplot(g, nodelabel=nodelabel)\n",
    "end"
   ]
  },
  {
   "cell_type": "code",
   "execution_count": null,
   "id": "905fba82-48de-434f-8bf0-725bda76ae92",
   "metadata": {},
   "outputs": [],
   "source": [
    "visualize_example(\"Examples/ex1.in\")"
   ]
  }
 ],
 "metadata": {
  "kernelspec": {
   "display_name": "Julia 1.8.1",
   "language": "julia",
   "name": "julia-1.8"
  },
  "language_info": {
   "file_extension": ".jl",
   "mimetype": "application/julia",
   "name": "julia",
   "version": "1.8.1"
  }
 },
 "nbformat": 4,
 "nbformat_minor": 5
}
