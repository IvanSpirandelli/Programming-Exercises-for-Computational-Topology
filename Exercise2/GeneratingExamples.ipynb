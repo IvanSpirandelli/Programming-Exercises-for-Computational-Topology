{
 "cells": [
  {
   "cell_type": "code",
   "execution_count": 1,
   "id": "538412fa-361e-4388-9373-66ab5a0035e2",
   "metadata": {},
   "outputs": [
    {
     "name": "stderr",
     "output_type": "stream",
     "text": [
      "\u001b[32m\u001b[1m  Activating\u001b[22m\u001b[39m environment at `~/Desktop/Doktor/Lehre/Exercise2/CompTop2022/Project.toml`\n",
      "\u001b[32m\u001b[1m    Updating\u001b[22m\u001b[39m registry at `~/.julia/registries/General`\n",
      "\u001b[32m\u001b[1m   Resolving\u001b[22m\u001b[39m package versions...\n",
      "\u001b[32m\u001b[1m  No Changes\u001b[22m\u001b[39m to `~/Desktop/Doktor/Lehre/Exercise2/CompTop2022/Project.toml`\n",
      "\u001b[32m\u001b[1m  No Changes\u001b[22m\u001b[39m to `~/Desktop/Doktor/Lehre/Exercise2/CompTop2022/Manifest.toml`\n",
      "\u001b[32m\u001b[1mPrecompiling\u001b[22m\u001b[39m project...\n",
      "\u001b[32m  ✓ \u001b[39m\u001b[90mTriangle_jll\u001b[39m\n",
      "\u001b[32m  ✓ \u001b[39mTriangulate\n",
      "\u001b[32m  ✓ \u001b[39mPlots\n",
      "  3 dependencies successfully precompiled in 40 seconds (129 already precompiled)\n"
     ]
    }
   ],
   "source": [
    "import Pkg; \n",
    "Pkg.activate(\"../CompTop2022\")\n",
    "Pkg.add(\"Triangle\");"
   ]
  },
  {
   "cell_type": "code",
   "execution_count": 5,
   "id": "b399cbdc-63ee-40e7-a873-10242a4c1672",
   "metadata": {},
   "outputs": [],
   "source": [
    "using Triangle"
   ]
  },
  {
   "cell_type": "code",
   "execution_count": 7,
   "id": "62a2695e-a837-433e-8eb4-dc5de91cd5e6",
   "metadata": {},
   "outputs": [],
   "source": [
    "for i in 1:10\n",
    "    io = open(string(\"Examples/ex\",i,\".in\"), \"w\")\n",
    "    n = i + 2\n",
    "    points = rand(n, 2)\n",
    "    node_labels = [i for i in 1:n]\n",
    "    faces = basic_triangulation(points, node_labels)\n",
    "    \n",
    "    println(io, string(\"points=\",points))\n",
    "    println(io, string(\"node_labels=\",node_labels))\n",
    "    println(io, string(\"faces=\",faces))\n",
    "\n",
    "    close(io)\n",
    "end"
   ]
  }
 ],
 "metadata": {
  "kernelspec": {
   "display_name": "Julia 1.6.3",
   "language": "julia",
   "name": "julia-1.6"
  },
  "language_info": {
   "file_extension": ".jl",
   "mimetype": "application/julia",
   "name": "julia",
   "version": "1.6.3"
  }
 },
 "nbformat": 4,
 "nbformat_minor": 5
}
