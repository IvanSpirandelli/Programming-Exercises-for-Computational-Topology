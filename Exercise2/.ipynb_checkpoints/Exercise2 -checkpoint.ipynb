{
 "cells": [
  {
   "cell_type": "markdown",
   "id": "66bccc79-2a3b-4a11-99da-b58e503e2c8e",
   "metadata": {},
   "source": [
    "# Exercise 2: Plotting and Array Manipulation\n",
    "\n",
    "In this exercise you will create a custom Plot for a triangulation of a random set of points. The end result should look something like this: \n",
    "\n",
    "![](example.png)\n",
    "\n",
    "As you can see interior and exterior edges and vertices are colored differently. So you need to implement some algorithms to distinguish these. \n",
    "\n",
    "## Grading and Deadline\n",
    "Please hand in this exercise before the exercise session on Monday 09.05.2022. Unlike the last exercise this one will give 100 points in total to align with the grading system of Moodle. The grade of the last exercise will be scaled accordingly.\n",
    "\n",
    "## Preparing Julia\n",
    "\n",
    "Let's start by loading the necessary packages."
   ]
  },
  {
   "cell_type": "code",
   "execution_count": 2,
   "id": "ce329cba-e6db-4110-93ae-cf9d8201e701",
   "metadata": {},
   "outputs": [
    {
     "name": "stderr",
     "output_type": "stream",
     "text": [
      "\u001b[32m\u001b[1m  Activating\u001b[22m\u001b[39m environment at `~/Desktop/Doktor/Lehre/Exercise2/CompTop2022/Project.toml`\n",
      "\u001b[32m\u001b[1m    Updating\u001b[22m\u001b[39m registry at `~/.julia/registries/General`\n",
      "\u001b[32m\u001b[1m   Resolving\u001b[22m\u001b[39m package versions...\n",
      "\u001b[32m\u001b[1m  No Changes\u001b[22m\u001b[39m to `~/Desktop/Doktor/Lehre/Exercise2/CompTop2022/Project.toml`\n",
      "\u001b[32m\u001b[1m  No Changes\u001b[22m\u001b[39m to `~/Desktop/Doktor/Lehre/Exercise2/CompTop2022/Manifest.toml`\n",
      "\u001b[32m\u001b[1m   Resolving\u001b[22m\u001b[39m package versions...\n",
      "\u001b[32m\u001b[1m  No Changes\u001b[22m\u001b[39m to `~/Desktop/Doktor/Lehre/Exercise2/CompTop2022/Project.toml`\n",
      "\u001b[32m\u001b[1m  No Changes\u001b[22m\u001b[39m to `~/Desktop/Doktor/Lehre/Exercise2/CompTop2022/Manifest.toml`\n",
      "\u001b[32m\u001b[1m   Resolving\u001b[22m\u001b[39m package versions...\n",
      "\u001b[32m\u001b[1m  No Changes\u001b[22m\u001b[39m to `~/Desktop/Doktor/Lehre/Exercise2/CompTop2022/Project.toml`\n",
      "\u001b[32m\u001b[1m  No Changes\u001b[22m\u001b[39m to `~/Desktop/Doktor/Lehre/Exercise2/CompTop2022/Manifest.toml`\n"
     ]
    }
   ],
   "source": [
    "using Pkg;\n",
    "\n",
    "Pkg.activate(\"../CompTop2022\")\n",
    "\n",
    "Pkg.add(\"Triangle\");\n",
    "Pkg.add(\"Combinatorics\")\n",
    "Pkg.add(\"Plots\");"
   ]
  },
  {
   "cell_type": "code",
   "execution_count": 3,
   "id": "41beeabe-b7b4-4594-9e26-62a5f3dd6538",
   "metadata": {},
   "outputs": [],
   "source": [
    "using Triangle\n",
    "using Plots\n",
    "using Combinatorics"
   ]
  },
  {
   "cell_type": "markdown",
   "id": "6a2fbcc2-70a5-44e1-b696-f087213f6ae0",
   "metadata": {},
   "source": [
    "## Initialization\n",
    "\n",
    "We will start by defining an Integer `n`, the number of points. Then we will define a $n \\times 2$  Matrix representing a random choice of $n$ points that lie in the unit square."
   ]
  },
  {
   "cell_type": "code",
   "execution_count": null,
   "id": "7ff471ef-5c0c-4098-887f-a5c09866ef39",
   "metadata": {},
   "outputs": [],
   "source": [
    "n = 8\n",
    "points = rand(n, 2)"
   ]
  },
  {
   "cell_type": "code",
   "execution_count": 5,
   "id": "dffda25a-95d2-4b88-b25c-a91d71f5cc12",
   "metadata": {},
   "outputs": [
    {
     "data": {
      "text/plain": [
       "8×2 Matrix{Float64}:\n",
       " 0.436494  0.406318\n",
       " 0.696892  0.27707\n",
       " 0.402659  0.643802\n",
       " 0.601637  0.594702\n",
       " 0.75828   0.414715\n",
       " 0.235316  0.856146\n",
       " 0.60031   0.464816\n",
       " 0.97675   0.325166"
      ]
     },
     "execution_count": 5,
     "metadata": {},
     "output_type": "execute_result"
    }
   ],
   "source": [
    "points\n"
   ]
  },
  {
   "cell_type": "code",
   "execution_count": 7,
   "id": "0f6d2a1c-f9f3-481c-b2f4-38a0ee27c947",
   "metadata": {},
   "outputs": [
    {
     "data": {
      "image/svg+xml": [
       "<?xml version=\"1.0\" encoding=\"utf-8\"?>\n",
       "<svg xmlns=\"http://www.w3.org/2000/svg\" xmlns:xlink=\"http://www.w3.org/1999/xlink\" width=\"600\" height=\"400\" viewBox=\"0 0 2400 1600\">\n",
       "<defs>\n",
       "  <clipPath id=\"clip940\">\n",
       "    <rect x=\"0\" y=\"0\" width=\"2400\" height=\"1600\"/>\n",
       "  </clipPath>\n",
       "</defs>\n",
       "<path clip-path=\"url(#clip940)\" d=\"\n",
       "M0 1600 L2400 1600 L2400 0 L0 0  Z\n",
       "  \" fill=\"#ffffff\" fill-rule=\"evenodd\" fill-opacity=\"1\"/>\n",
       "<defs>\n",
       "  <clipPath id=\"clip941\">\n",
       "    <rect x=\"480\" y=\"0\" width=\"1681\" height=\"1600\"/>\n",
       "  </clipPath>\n",
       "</defs>\n",
       "<path clip-path=\"url(#clip940)\" d=\"\n",
       "M156.598 1486.45 L2352.76 1486.45 L2352.76 47.2441 L156.598 47.2441  Z\n",
       "  \" fill=\"#ffffff\" fill-rule=\"evenodd\" fill-opacity=\"1\"/>\n",
       "<defs>\n",
       "  <clipPath id=\"clip942\">\n",
       "    <rect x=\"156\" y=\"47\" width=\"2197\" height=\"1440\"/>\n",
       "  </clipPath>\n",
       "</defs>\n",
       "<polyline clip-path=\"url(#clip942)\" style=\"stroke:#000000; stroke-linecap:butt; stroke-linejoin:round; stroke-width:2; stroke-opacity:0.1; fill:none\" points=\"\n",
       "  399.506,1486.45 399.506,47.2441 \n",
       "  \"/>\n",
       "<polyline clip-path=\"url(#clip942)\" style=\"stroke:#000000; stroke-linecap:butt; stroke-linejoin:round; stroke-width:2; stroke-opacity:0.1; fill:none\" points=\"\n",
       "  678.944,1486.45 678.944,47.2441 \n",
       "  \"/>\n",
       "<polyline clip-path=\"url(#clip942)\" style=\"stroke:#000000; stroke-linecap:butt; stroke-linejoin:round; stroke-width:2; stroke-opacity:0.1; fill:none\" points=\"\n",
       "  958.381,1486.45 958.381,47.2441 \n",
       "  \"/>\n",
       "<polyline clip-path=\"url(#clip942)\" style=\"stroke:#000000; stroke-linecap:butt; stroke-linejoin:round; stroke-width:2; stroke-opacity:0.1; fill:none\" points=\"\n",
       "  1237.82,1486.45 1237.82,47.2441 \n",
       "  \"/>\n",
       "<polyline clip-path=\"url(#clip942)\" style=\"stroke:#000000; stroke-linecap:butt; stroke-linejoin:round; stroke-width:2; stroke-opacity:0.1; fill:none\" points=\"\n",
       "  1517.26,1486.45 1517.26,47.2441 \n",
       "  \"/>\n",
       "<polyline clip-path=\"url(#clip942)\" style=\"stroke:#000000; stroke-linecap:butt; stroke-linejoin:round; stroke-width:2; stroke-opacity:0.1; fill:none\" points=\"\n",
       "  1796.69,1486.45 1796.69,47.2441 \n",
       "  \"/>\n",
       "<polyline clip-path=\"url(#clip942)\" style=\"stroke:#000000; stroke-linecap:butt; stroke-linejoin:round; stroke-width:2; stroke-opacity:0.1; fill:none\" points=\"\n",
       "  2076.13,1486.45 2076.13,47.2441 \n",
       "  \"/>\n",
       "<polyline clip-path=\"url(#clip940)\" style=\"stroke:#000000; stroke-linecap:butt; stroke-linejoin:round; stroke-width:4; stroke-opacity:1; fill:none\" points=\"\n",
       "  156.598,1486.45 2352.76,1486.45 \n",
       "  \"/>\n",
       "<polyline clip-path=\"url(#clip940)\" style=\"stroke:#000000; stroke-linecap:butt; stroke-linejoin:round; stroke-width:4; stroke-opacity:1; fill:none\" points=\"\n",
       "  399.506,1486.45 399.506,1467.55 \n",
       "  \"/>\n",
       "<polyline clip-path=\"url(#clip940)\" style=\"stroke:#000000; stroke-linecap:butt; stroke-linejoin:round; stroke-width:4; stroke-opacity:1; fill:none\" points=\"\n",
       "  678.944,1486.45 678.944,1467.55 \n",
       "  \"/>\n",
       "<polyline clip-path=\"url(#clip940)\" style=\"stroke:#000000; stroke-linecap:butt; stroke-linejoin:round; stroke-width:4; stroke-opacity:1; fill:none\" points=\"\n",
       "  958.381,1486.45 958.381,1467.55 \n",
       "  \"/>\n",
       "<polyline clip-path=\"url(#clip940)\" style=\"stroke:#000000; stroke-linecap:butt; stroke-linejoin:round; stroke-width:4; stroke-opacity:1; fill:none\" points=\"\n",
       "  1237.82,1486.45 1237.82,1467.55 \n",
       "  \"/>\n",
       "<polyline clip-path=\"url(#clip940)\" style=\"stroke:#000000; stroke-linecap:butt; stroke-linejoin:round; stroke-width:4; stroke-opacity:1; fill:none\" points=\"\n",
       "  1517.26,1486.45 1517.26,1467.55 \n",
       "  \"/>\n",
       "<polyline clip-path=\"url(#clip940)\" style=\"stroke:#000000; stroke-linecap:butt; stroke-linejoin:round; stroke-width:4; stroke-opacity:1; fill:none\" points=\"\n",
       "  1796.69,1486.45 1796.69,1467.55 \n",
       "  \"/>\n",
       "<polyline clip-path=\"url(#clip940)\" style=\"stroke:#000000; stroke-linecap:butt; stroke-linejoin:round; stroke-width:4; stroke-opacity:1; fill:none\" points=\"\n",
       "  2076.13,1486.45 2076.13,1467.55 \n",
       "  \"/>\n",
       "<path clip-path=\"url(#clip940)\" d=\"M377.215 1517.37 Q373.604 1517.37 371.775 1520.93 Q369.969 1524.47 369.969 1531.6 Q369.969 1538.71 371.775 1542.27 Q373.604 1545.82 377.215 1545.82 Q380.849 1545.82 382.655 1542.27 Q384.483 1538.71 384.483 1531.6 Q384.483 1524.47 382.655 1520.93 Q380.849 1517.37 377.215 1517.37 M377.215 1513.66 Q383.025 1513.66 386.08 1518.27 Q389.159 1522.85 389.159 1531.6 Q389.159 1540.33 386.08 1544.94 Q383.025 1549.52 377.215 1549.52 Q371.405 1549.52 368.326 1544.94 Q365.27 1540.33 365.27 1531.6 Q365.27 1522.85 368.326 1518.27 Q371.405 1513.66 377.215 1513.66 Z\" fill=\"#000000\" fill-rule=\"evenodd\" fill-opacity=\"1\" /><path clip-path=\"url(#clip940)\" d=\"M397.377 1542.97 L402.261 1542.97 L402.261 1548.85 L397.377 1548.85 L397.377 1542.97 Z\" fill=\"#000000\" fill-rule=\"evenodd\" fill-opacity=\"1\" /><path clip-path=\"url(#clip940)\" d=\"M426.613 1530.21 Q429.969 1530.93 431.844 1533.2 Q433.742 1535.47 433.742 1538.8 Q433.742 1543.92 430.224 1546.72 Q426.705 1549.52 420.224 1549.52 Q418.048 1549.52 415.733 1549.08 Q413.441 1548.66 410.988 1547.81 L410.988 1543.29 Q412.932 1544.43 415.247 1545.01 Q417.562 1545.58 420.085 1545.58 Q424.483 1545.58 426.775 1543.85 Q429.089 1542.11 429.089 1538.8 Q429.089 1535.75 426.937 1534.03 Q424.807 1532.3 420.988 1532.3 L416.96 1532.3 L416.96 1528.45 L421.173 1528.45 Q424.622 1528.45 426.451 1527.09 Q428.279 1525.7 428.279 1523.11 Q428.279 1520.45 426.381 1519.03 Q424.506 1517.6 420.988 1517.6 Q419.066 1517.6 416.867 1518.01 Q414.668 1518.43 412.029 1519.31 L412.029 1515.14 Q414.691 1514.4 417.006 1514.03 Q419.344 1513.66 421.404 1513.66 Q426.728 1513.66 429.83 1516.09 Q432.932 1518.5 432.932 1522.62 Q432.932 1525.49 431.289 1527.48 Q429.645 1529.45 426.613 1530.21 Z\" fill=\"#000000\" fill-rule=\"evenodd\" fill-opacity=\"1\" /><path clip-path=\"url(#clip940)\" d=\"M656.085 1517.37 Q652.474 1517.37 650.645 1520.93 Q648.84 1524.47 648.84 1531.6 Q648.84 1538.71 650.645 1542.27 Q652.474 1545.82 656.085 1545.82 Q659.719 1545.82 661.525 1542.27 Q663.354 1538.71 663.354 1531.6 Q663.354 1524.47 661.525 1520.93 Q659.719 1517.37 656.085 1517.37 M656.085 1513.66 Q661.895 1513.66 664.951 1518.27 Q668.03 1522.85 668.03 1531.6 Q668.03 1540.33 664.951 1544.94 Q661.895 1549.52 656.085 1549.52 Q650.275 1549.52 647.196 1544.94 Q644.141 1540.33 644.141 1531.6 Q644.141 1522.85 647.196 1518.27 Q650.275 1513.66 656.085 1513.66 Z\" fill=\"#000000\" fill-rule=\"evenodd\" fill-opacity=\"1\" /><path clip-path=\"url(#clip940)\" d=\"M676.247 1542.97 L681.131 1542.97 L681.131 1548.85 L676.247 1548.85 L676.247 1542.97 Z\" fill=\"#000000\" fill-rule=\"evenodd\" fill-opacity=\"1\" /><path clip-path=\"url(#clip940)\" d=\"M704.164 1518.36 L692.358 1536.81 L704.164 1536.81 L704.164 1518.36 M702.937 1514.29 L708.816 1514.29 L708.816 1536.81 L713.747 1536.81 L713.747 1540.7 L708.816 1540.7 L708.816 1548.85 L704.164 1548.85 L704.164 1540.7 L688.562 1540.7 L688.562 1536.19 L702.937 1514.29 Z\" fill=\"#000000\" fill-rule=\"evenodd\" fill-opacity=\"1\" /><path clip-path=\"url(#clip940)\" d=\"M936.264 1517.37 Q932.652 1517.37 930.824 1520.93 Q929.018 1524.47 929.018 1531.6 Q929.018 1538.71 930.824 1542.27 Q932.652 1545.82 936.264 1545.82 Q939.898 1545.82 941.703 1542.27 Q943.532 1538.71 943.532 1531.6 Q943.532 1524.47 941.703 1520.93 Q939.898 1517.37 936.264 1517.37 M936.264 1513.66 Q942.074 1513.66 945.129 1518.27 Q948.208 1522.85 948.208 1531.6 Q948.208 1540.33 945.129 1544.94 Q942.074 1549.52 936.264 1549.52 Q930.453 1549.52 927.375 1544.94 Q924.319 1540.33 924.319 1531.6 Q924.319 1522.85 927.375 1518.27 Q930.453 1513.66 936.264 1513.66 Z\" fill=\"#000000\" fill-rule=\"evenodd\" fill-opacity=\"1\" /><path clip-path=\"url(#clip940)\" d=\"M956.425 1542.97 L961.31 1542.97 L961.31 1548.85 L956.425 1548.85 L956.425 1542.97 Z\" fill=\"#000000\" fill-rule=\"evenodd\" fill-opacity=\"1\" /><path clip-path=\"url(#clip940)\" d=\"M971.541 1514.29 L989.897 1514.29 L989.897 1518.22 L975.823 1518.22 L975.823 1526.7 Q976.842 1526.35 977.861 1526.19 Q978.879 1526 979.898 1526 Q985.685 1526 989.064 1529.17 Q992.444 1532.34 992.444 1537.76 Q992.444 1543.34 988.972 1546.44 Q985.499 1549.52 979.18 1549.52 Q977.004 1549.52 974.736 1549.15 Q972.49 1548.78 970.083 1548.04 L970.083 1543.34 Q972.166 1544.47 974.388 1545.03 Q976.611 1545.58 979.087 1545.58 Q983.092 1545.58 985.43 1543.48 Q987.768 1541.37 987.768 1537.76 Q987.768 1534.15 985.43 1532.04 Q983.092 1529.94 979.087 1529.94 Q977.212 1529.94 975.337 1530.35 Q973.486 1530.77 971.541 1531.65 L971.541 1514.29 Z\" fill=\"#000000\" fill-rule=\"evenodd\" fill-opacity=\"1\" /><path clip-path=\"url(#clip940)\" d=\"M1215.12 1517.37 Q1211.51 1517.37 1209.68 1520.93 Q1207.88 1524.47 1207.88 1531.6 Q1207.88 1538.71 1209.68 1542.27 Q1211.51 1545.82 1215.12 1545.82 Q1218.76 1545.82 1220.56 1542.27 Q1222.39 1538.71 1222.39 1531.6 Q1222.39 1524.47 1220.56 1520.93 Q1218.76 1517.37 1215.12 1517.37 M1215.12 1513.66 Q1220.93 1513.66 1223.99 1518.27 Q1227.07 1522.85 1227.07 1531.6 Q1227.07 1540.33 1223.99 1544.94 Q1220.93 1549.52 1215.12 1549.52 Q1209.31 1549.52 1206.23 1544.94 Q1203.18 1540.33 1203.18 1531.6 Q1203.18 1522.85 1206.23 1518.27 Q1209.31 1513.66 1215.12 1513.66 Z\" fill=\"#000000\" fill-rule=\"evenodd\" fill-opacity=\"1\" /><path clip-path=\"url(#clip940)\" d=\"M1235.28 1542.97 L1240.17 1542.97 L1240.17 1548.85 L1235.28 1548.85 L1235.28 1542.97 Z\" fill=\"#000000\" fill-rule=\"evenodd\" fill-opacity=\"1\" /><path clip-path=\"url(#clip940)\" d=\"M1260.93 1529.7 Q1257.78 1529.7 1255.93 1531.86 Q1254.1 1534.01 1254.1 1537.76 Q1254.1 1541.49 1255.93 1543.66 Q1257.78 1545.82 1260.93 1545.82 Q1264.08 1545.82 1265.91 1543.66 Q1267.76 1541.49 1267.76 1537.76 Q1267.76 1534.01 1265.91 1531.86 Q1264.08 1529.7 1260.93 1529.7 M1270.21 1515.05 L1270.21 1519.31 Q1268.46 1518.48 1266.65 1518.04 Q1264.87 1517.6 1263.11 1517.6 Q1258.48 1517.6 1256.02 1520.72 Q1253.59 1523.85 1253.25 1530.17 Q1254.61 1528.15 1256.67 1527.09 Q1258.73 1526 1261.21 1526 Q1266.42 1526 1269.43 1529.17 Q1272.46 1532.32 1272.46 1537.76 Q1272.46 1543.08 1269.31 1546.3 Q1266.16 1549.52 1260.93 1549.52 Q1254.94 1549.52 1251.77 1544.94 Q1248.59 1540.33 1248.59 1531.6 Q1248.59 1523.41 1252.48 1518.55 Q1256.37 1513.66 1262.92 1513.66 Q1264.68 1513.66 1266.46 1514.01 Q1268.27 1514.36 1270.21 1515.05 Z\" fill=\"#000000\" fill-rule=\"evenodd\" fill-opacity=\"1\" /><path clip-path=\"url(#clip940)\" d=\"M1495.09 1517.37 Q1491.48 1517.37 1489.65 1520.93 Q1487.85 1524.47 1487.85 1531.6 Q1487.85 1538.71 1489.65 1542.27 Q1491.48 1545.82 1495.09 1545.82 Q1498.73 1545.82 1500.53 1542.27 Q1502.36 1538.71 1502.36 1531.6 Q1502.36 1524.47 1500.53 1520.93 Q1498.73 1517.37 1495.09 1517.37 M1495.09 1513.66 Q1500.9 1513.66 1503.96 1518.27 Q1507.04 1522.85 1507.04 1531.6 Q1507.04 1540.33 1503.96 1544.94 Q1500.9 1549.52 1495.09 1549.52 Q1489.28 1549.52 1486.2 1544.94 Q1483.15 1540.33 1483.15 1531.6 Q1483.15 1522.85 1486.2 1518.27 Q1489.28 1513.66 1495.09 1513.66 Z\" fill=\"#000000\" fill-rule=\"evenodd\" fill-opacity=\"1\" /><path clip-path=\"url(#clip940)\" d=\"M1515.25 1542.97 L1520.14 1542.97 L1520.14 1548.85 L1515.25 1548.85 L1515.25 1542.97 Z\" fill=\"#000000\" fill-rule=\"evenodd\" fill-opacity=\"1\" /><path clip-path=\"url(#clip940)\" d=\"M1529.14 1514.29 L1551.37 1514.29 L1551.37 1516.28 L1538.82 1548.85 L1533.93 1548.85 L1545.74 1518.22 L1529.14 1518.22 L1529.14 1514.29 Z\" fill=\"#000000\" fill-rule=\"evenodd\" fill-opacity=\"1\" /><path clip-path=\"url(#clip940)\" d=\"M1774.12 1517.37 Q1770.51 1517.37 1768.69 1520.93 Q1766.88 1524.47 1766.88 1531.6 Q1766.88 1538.71 1768.69 1542.27 Q1770.51 1545.82 1774.12 1545.82 Q1777.76 1545.82 1779.56 1542.27 Q1781.39 1538.71 1781.39 1531.6 Q1781.39 1524.47 1779.56 1520.93 Q1777.76 1517.37 1774.12 1517.37 M1774.12 1513.66 Q1779.94 1513.66 1782.99 1518.27 Q1786.07 1522.85 1786.07 1531.6 Q1786.07 1540.33 1782.99 1544.94 Q1779.94 1549.52 1774.12 1549.52 Q1768.31 1549.52 1765.24 1544.94 Q1762.18 1540.33 1762.18 1531.6 Q1762.18 1522.85 1765.24 1518.27 Q1768.31 1513.66 1774.12 1513.66 Z\" fill=\"#000000\" fill-rule=\"evenodd\" fill-opacity=\"1\" /><path clip-path=\"url(#clip940)\" d=\"M1794.29 1542.97 L1799.17 1542.97 L1799.17 1548.85 L1794.29 1548.85 L1794.29 1542.97 Z\" fill=\"#000000\" fill-rule=\"evenodd\" fill-opacity=\"1\" /><path clip-path=\"url(#clip940)\" d=\"M1819.36 1532.44 Q1816.02 1532.44 1814.1 1534.22 Q1812.2 1536 1812.2 1539.13 Q1812.2 1542.25 1814.1 1544.03 Q1816.02 1545.82 1819.36 1545.82 Q1822.69 1545.82 1824.61 1544.03 Q1826.53 1542.23 1826.53 1539.13 Q1826.53 1536 1824.61 1534.22 Q1822.71 1532.44 1819.36 1532.44 M1814.68 1530.45 Q1811.67 1529.7 1809.98 1527.64 Q1808.31 1525.58 1808.31 1522.62 Q1808.31 1518.48 1811.25 1516.07 Q1814.22 1513.66 1819.36 1513.66 Q1824.52 1513.66 1827.46 1516.07 Q1830.4 1518.48 1830.4 1522.62 Q1830.4 1525.58 1828.71 1527.64 Q1827.04 1529.7 1824.06 1530.45 Q1827.43 1531.23 1829.31 1533.52 Q1831.21 1535.82 1831.21 1539.13 Q1831.21 1544.15 1828.13 1546.83 Q1825.07 1549.52 1819.36 1549.52 Q1813.64 1549.52 1810.56 1546.83 Q1807.5 1544.15 1807.5 1539.13 Q1807.5 1535.82 1809.4 1533.52 Q1811.3 1531.23 1814.68 1530.45 M1812.97 1523.06 Q1812.97 1525.75 1814.63 1527.25 Q1816.32 1528.76 1819.36 1528.76 Q1822.37 1528.76 1824.06 1527.25 Q1825.77 1525.75 1825.77 1523.06 Q1825.77 1520.38 1824.06 1518.87 Q1822.37 1517.37 1819.36 1517.37 Q1816.32 1517.37 1814.63 1518.87 Q1812.97 1520.38 1812.97 1523.06 Z\" fill=\"#000000\" fill-rule=\"evenodd\" fill-opacity=\"1\" /><path clip-path=\"url(#clip940)\" d=\"M2053.61 1517.37 Q2050 1517.37 2048.17 1520.93 Q2046.36 1524.47 2046.36 1531.6 Q2046.36 1538.71 2048.17 1542.27 Q2050 1545.82 2053.61 1545.82 Q2057.24 1545.82 2059.05 1542.27 Q2060.88 1538.71 2060.88 1531.6 Q2060.88 1524.47 2059.05 1520.93 Q2057.24 1517.37 2053.61 1517.37 M2053.61 1513.66 Q2059.42 1513.66 2062.47 1518.27 Q2065.55 1522.85 2065.55 1531.6 Q2065.55 1540.33 2062.47 1544.94 Q2059.42 1549.52 2053.61 1549.52 Q2047.8 1549.52 2044.72 1544.94 Q2041.66 1540.33 2041.66 1531.6 Q2041.66 1522.85 2044.72 1518.27 Q2047.8 1513.66 2053.61 1513.66 Z\" fill=\"#000000\" fill-rule=\"evenodd\" fill-opacity=\"1\" /><path clip-path=\"url(#clip940)\" d=\"M2073.77 1542.97 L2078.65 1542.97 L2078.65 1548.85 L2073.77 1548.85 L2073.77 1542.97 Z\" fill=\"#000000\" fill-rule=\"evenodd\" fill-opacity=\"1\" /><path clip-path=\"url(#clip940)\" d=\"M2088.98 1548.13 L2088.98 1543.87 Q2090.74 1544.7 2092.54 1545.14 Q2094.35 1545.58 2096.09 1545.58 Q2100.72 1545.58 2103.15 1542.48 Q2105.6 1539.36 2105.95 1533.01 Q2104.6 1535.01 2102.54 1536.07 Q2100.48 1537.13 2097.98 1537.13 Q2092.8 1537.13 2089.77 1534.01 Q2086.76 1530.86 2086.76 1525.42 Q2086.76 1520.1 2089.9 1516.88 Q2093.05 1513.66 2098.28 1513.66 Q2104.28 1513.66 2107.43 1518.27 Q2110.6 1522.85 2110.6 1531.6 Q2110.6 1539.77 2106.71 1544.66 Q2102.84 1549.52 2096.29 1549.52 Q2094.53 1549.52 2092.73 1549.17 Q2090.92 1548.82 2088.98 1548.13 M2098.28 1533.48 Q2101.43 1533.48 2103.26 1531.32 Q2105.11 1529.17 2105.11 1525.42 Q2105.11 1521.7 2103.26 1519.54 Q2101.43 1517.37 2098.28 1517.37 Q2095.14 1517.37 2093.28 1519.54 Q2091.46 1521.7 2091.46 1525.42 Q2091.46 1529.17 2093.28 1531.32 Q2095.14 1533.48 2098.28 1533.48 Z\" fill=\"#000000\" fill-rule=\"evenodd\" fill-opacity=\"1\" /><polyline clip-path=\"url(#clip942)\" style=\"stroke:#000000; stroke-linecap:butt; stroke-linejoin:round; stroke-width:2; stroke-opacity:0.1; fill:none\" points=\"\n",
       "  156.598,1391.95 2352.76,1391.95 \n",
       "  \"/>\n",
       "<polyline clip-path=\"url(#clip942)\" style=\"stroke:#000000; stroke-linecap:butt; stroke-linejoin:round; stroke-width:2; stroke-opacity:0.1; fill:none\" points=\"\n",
       "  156.598,1157.49 2352.76,1157.49 \n",
       "  \"/>\n",
       "<polyline clip-path=\"url(#clip942)\" style=\"stroke:#000000; stroke-linecap:butt; stroke-linejoin:round; stroke-width:2; stroke-opacity:0.1; fill:none\" points=\"\n",
       "  156.598,923.019 2352.76,923.019 \n",
       "  \"/>\n",
       "<polyline clip-path=\"url(#clip942)\" style=\"stroke:#000000; stroke-linecap:butt; stroke-linejoin:round; stroke-width:2; stroke-opacity:0.1; fill:none\" points=\"\n",
       "  156.598,688.552 2352.76,688.552 \n",
       "  \"/>\n",
       "<polyline clip-path=\"url(#clip942)\" style=\"stroke:#000000; stroke-linecap:butt; stroke-linejoin:round; stroke-width:2; stroke-opacity:0.1; fill:none\" points=\"\n",
       "  156.598,454.086 2352.76,454.086 \n",
       "  \"/>\n",
       "<polyline clip-path=\"url(#clip942)\" style=\"stroke:#000000; stroke-linecap:butt; stroke-linejoin:round; stroke-width:2; stroke-opacity:0.1; fill:none\" points=\"\n",
       "  156.598,219.619 2352.76,219.619 \n",
       "  \"/>\n",
       "<polyline clip-path=\"url(#clip940)\" style=\"stroke:#000000; stroke-linecap:butt; stroke-linejoin:round; stroke-width:4; stroke-opacity:1; fill:none\" points=\"\n",
       "  156.598,1486.45 156.598,47.2441 \n",
       "  \"/>\n",
       "<polyline clip-path=\"url(#clip940)\" style=\"stroke:#000000; stroke-linecap:butt; stroke-linejoin:round; stroke-width:4; stroke-opacity:1; fill:none\" points=\"\n",
       "  156.598,1391.95 175.496,1391.95 \n",
       "  \"/>\n",
       "<polyline clip-path=\"url(#clip940)\" style=\"stroke:#000000; stroke-linecap:butt; stroke-linejoin:round; stroke-width:4; stroke-opacity:1; fill:none\" points=\"\n",
       "  156.598,1157.49 175.496,1157.49 \n",
       "  \"/>\n",
       "<polyline clip-path=\"url(#clip940)\" style=\"stroke:#000000; stroke-linecap:butt; stroke-linejoin:round; stroke-width:4; stroke-opacity:1; fill:none\" points=\"\n",
       "  156.598,923.019 175.496,923.019 \n",
       "  \"/>\n",
       "<polyline clip-path=\"url(#clip940)\" style=\"stroke:#000000; stroke-linecap:butt; stroke-linejoin:round; stroke-width:4; stroke-opacity:1; fill:none\" points=\"\n",
       "  156.598,688.552 175.496,688.552 \n",
       "  \"/>\n",
       "<polyline clip-path=\"url(#clip940)\" style=\"stroke:#000000; stroke-linecap:butt; stroke-linejoin:round; stroke-width:4; stroke-opacity:1; fill:none\" points=\"\n",
       "  156.598,454.086 175.496,454.086 \n",
       "  \"/>\n",
       "<polyline clip-path=\"url(#clip940)\" style=\"stroke:#000000; stroke-linecap:butt; stroke-linejoin:round; stroke-width:4; stroke-opacity:1; fill:none\" points=\"\n",
       "  156.598,219.619 175.496,219.619 \n",
       "  \"/>\n",
       "<path clip-path=\"url(#clip940)\" d=\"M64.0708 1377.75 Q60.4597 1377.75 58.631 1381.31 Q56.8254 1384.86 56.8254 1391.99 Q56.8254 1399.09 58.631 1402.66 Q60.4597 1406.2 64.0708 1406.2 Q67.705 1406.2 69.5105 1402.66 Q71.3392 1399.09 71.3392 1391.99 Q71.3392 1384.86 69.5105 1381.31 Q67.705 1377.75 64.0708 1377.75 M64.0708 1374.05 Q69.8809 1374.05 72.9365 1378.65 Q76.0151 1383.24 76.0151 1391.99 Q76.0151 1400.71 72.9365 1405.32 Q69.8809 1409.9 64.0708 1409.9 Q58.2606 1409.9 55.1819 1405.32 Q52.1264 1400.71 52.1264 1391.99 Q52.1264 1383.24 55.1819 1378.65 Q58.2606 1374.05 64.0708 1374.05 Z\" fill=\"#000000\" fill-rule=\"evenodd\" fill-opacity=\"1\" /><path clip-path=\"url(#clip940)\" d=\"M84.2327 1403.35 L89.1169 1403.35 L89.1169 1409.23 L84.2327 1409.23 L84.2327 1403.35 Z\" fill=\"#000000\" fill-rule=\"evenodd\" fill-opacity=\"1\" /><path clip-path=\"url(#clip940)\" d=\"M113.469 1390.6 Q116.825 1391.31 118.7 1393.58 Q120.598 1395.85 120.598 1399.19 Q120.598 1404.3 117.08 1407.1 Q113.561 1409.9 107.08 1409.9 Q104.904 1409.9 102.589 1409.46 Q100.297 1409.05 97.8437 1408.19 L97.8437 1403.68 Q99.7882 1404.81 102.103 1405.39 Q104.418 1405.97 106.941 1405.97 Q111.339 1405.97 113.631 1404.23 Q115.945 1402.5 115.945 1399.19 Q115.945 1396.13 113.793 1394.42 Q111.663 1392.68 107.844 1392.68 L103.816 1392.68 L103.816 1388.84 L108.029 1388.84 Q111.478 1388.84 113.307 1387.47 Q115.135 1386.08 115.135 1383.49 Q115.135 1380.83 113.237 1379.42 Q111.362 1377.98 107.844 1377.98 Q105.922 1377.98 103.723 1378.4 Q101.524 1378.81 98.8854 1379.69 L98.8854 1375.53 Q101.547 1374.79 103.862 1374.42 Q106.2 1374.05 108.26 1374.05 Q113.584 1374.05 116.686 1376.48 Q119.788 1378.88 119.788 1383 Q119.788 1385.88 118.145 1387.87 Q116.501 1389.83 113.469 1390.6 Z\" fill=\"#000000\" fill-rule=\"evenodd\" fill-opacity=\"1\" /><path clip-path=\"url(#clip940)\" d=\"M62.9365 1143.28 Q59.3254 1143.28 57.4967 1146.85 Q55.6912 1150.39 55.6912 1157.52 Q55.6912 1164.63 57.4967 1168.19 Q59.3254 1171.73 62.9365 1171.73 Q66.5707 1171.73 68.3763 1168.19 Q70.205 1164.63 70.205 1157.52 Q70.205 1150.39 68.3763 1146.85 Q66.5707 1143.28 62.9365 1143.28 M62.9365 1139.58 Q68.7467 1139.58 71.8022 1144.19 Q74.8809 1148.77 74.8809 1157.52 Q74.8809 1166.25 71.8022 1170.85 Q68.7467 1175.44 62.9365 1175.44 Q57.1264 1175.44 54.0477 1170.85 Q50.9921 1166.25 50.9921 1157.52 Q50.9921 1148.77 54.0477 1144.19 Q57.1264 1139.58 62.9365 1139.58 Z\" fill=\"#000000\" fill-rule=\"evenodd\" fill-opacity=\"1\" /><path clip-path=\"url(#clip940)\" d=\"M83.0984 1168.89 L87.9827 1168.89 L87.9827 1174.77 L83.0984 1174.77 L83.0984 1168.89 Z\" fill=\"#000000\" fill-rule=\"evenodd\" fill-opacity=\"1\" /><path clip-path=\"url(#clip940)\" d=\"M111.015 1144.28 L99.2095 1162.73 L111.015 1162.73 L111.015 1144.28 M109.788 1140.21 L115.668 1140.21 L115.668 1162.73 L120.598 1162.73 L120.598 1166.62 L115.668 1166.62 L115.668 1174.77 L111.015 1174.77 L111.015 1166.62 L95.4132 1166.62 L95.4132 1162.1 L109.788 1140.21 Z\" fill=\"#000000\" fill-rule=\"evenodd\" fill-opacity=\"1\" /><path clip-path=\"url(#clip940)\" d=\"M64.418 908.817 Q60.8069 908.817 58.9782 912.382 Q57.1726 915.924 57.1726 923.053 Q57.1726 930.16 58.9782 933.725 Q60.8069 937.266 64.418 937.266 Q68.0522 937.266 69.8578 933.725 Q71.6865 930.16 71.6865 923.053 Q71.6865 915.924 69.8578 912.382 Q68.0522 908.817 64.418 908.817 M64.418 905.114 Q70.2281 905.114 73.2837 909.72 Q76.3624 914.303 76.3624 923.053 Q76.3624 931.78 73.2837 936.387 Q70.2281 940.97 64.418 940.97 Q58.6078 940.97 55.5291 936.387 Q52.4736 931.78 52.4736 923.053 Q52.4736 914.303 55.5291 909.72 Q58.6078 905.114 64.418 905.114 Z\" fill=\"#000000\" fill-rule=\"evenodd\" fill-opacity=\"1\" /><path clip-path=\"url(#clip940)\" d=\"M84.5799 934.419 L89.4641 934.419 L89.4641 940.299 L84.5799 940.299 L84.5799 934.419 Z\" fill=\"#000000\" fill-rule=\"evenodd\" fill-opacity=\"1\" /><path clip-path=\"url(#clip940)\" d=\"M99.6956 905.739 L118.052 905.739 L118.052 909.674 L103.978 909.674 L103.978 918.146 Q104.996 917.799 106.015 917.637 Q107.033 917.452 108.052 917.452 Q113.839 917.452 117.219 920.623 Q120.598 923.794 120.598 929.211 Q120.598 934.789 117.126 937.891 Q113.654 940.97 107.334 940.97 Q105.159 940.97 102.89 940.6 Q100.645 940.229 98.2372 939.488 L98.2372 934.789 Q100.321 935.924 102.543 936.479 Q104.765 937.035 107.242 937.035 Q111.246 937.035 113.584 934.928 Q115.922 932.822 115.922 929.211 Q115.922 925.6 113.584 923.493 Q111.246 921.387 107.242 921.387 Q105.367 921.387 103.492 921.803 Q101.64 922.22 99.6956 923.1 L99.6956 905.739 Z\" fill=\"#000000\" fill-rule=\"evenodd\" fill-opacity=\"1\" /><path clip-path=\"url(#clip940)\" d=\"M63.2606 674.351 Q59.6495 674.351 57.8208 677.916 Q56.0152 681.457 56.0152 688.587 Q56.0152 695.693 57.8208 699.258 Q59.6495 702.8 63.2606 702.8 Q66.8948 702.8 68.7004 699.258 Q70.5291 695.693 70.5291 688.587 Q70.5291 681.457 68.7004 677.916 Q66.8948 674.351 63.2606 674.351 M63.2606 670.647 Q69.0707 670.647 72.1263 675.254 Q75.205 679.837 75.205 688.587 Q75.205 697.314 72.1263 701.92 Q69.0707 706.504 63.2606 706.504 Q57.4504 706.504 54.3717 701.92 Q51.3162 697.314 51.3162 688.587 Q51.3162 679.837 54.3717 675.254 Q57.4504 670.647 63.2606 670.647 Z\" fill=\"#000000\" fill-rule=\"evenodd\" fill-opacity=\"1\" /><path clip-path=\"url(#clip940)\" d=\"M83.4225 699.953 L88.3067 699.953 L88.3067 705.832 L83.4225 705.832 L83.4225 699.953 Z\" fill=\"#000000\" fill-rule=\"evenodd\" fill-opacity=\"1\" /><path clip-path=\"url(#clip940)\" d=\"M109.071 686.689 Q105.922 686.689 104.071 688.842 Q102.242 690.994 102.242 694.744 Q102.242 698.471 104.071 700.647 Q105.922 702.8 109.071 702.8 Q112.219 702.8 114.047 700.647 Q115.899 698.471 115.899 694.744 Q115.899 690.994 114.047 688.842 Q112.219 686.689 109.071 686.689 M118.353 672.036 L118.353 676.295 Q116.594 675.462 114.788 675.022 Q113.006 674.582 111.246 674.582 Q106.617 674.582 104.163 677.707 Q101.733 680.832 101.385 687.152 Q102.751 685.138 104.811 684.073 Q106.871 682.985 109.348 682.985 Q114.557 682.985 117.566 686.156 Q120.598 689.305 120.598 694.744 Q120.598 700.068 117.45 703.286 Q114.302 706.504 109.071 706.504 Q103.075 706.504 99.9039 701.92 Q96.7326 697.314 96.7326 688.587 Q96.7326 680.393 100.621 675.532 Q104.51 670.647 111.061 670.647 Q112.82 670.647 114.603 670.994 Q116.408 671.342 118.353 672.036 Z\" fill=\"#000000\" fill-rule=\"evenodd\" fill-opacity=\"1\" /><path clip-path=\"url(#clip940)\" d=\"M64.3254 439.885 Q60.7143 439.885 58.8856 443.449 Q57.0801 446.991 57.0801 454.121 Q57.0801 461.227 58.8856 464.792 Q60.7143 468.333 64.3254 468.333 Q67.9596 468.333 69.7652 464.792 Q71.5939 461.227 71.5939 454.121 Q71.5939 446.991 69.7652 443.449 Q67.9596 439.885 64.3254 439.885 M64.3254 436.181 Q70.1355 436.181 73.1911 440.787 Q76.2698 445.371 76.2698 454.121 Q76.2698 462.847 73.1911 467.454 Q70.1355 472.037 64.3254 472.037 Q58.5152 472.037 55.4365 467.454 Q52.381 462.847 52.381 454.121 Q52.381 445.371 55.4365 440.787 Q58.5152 436.181 64.3254 436.181 Z\" fill=\"#000000\" fill-rule=\"evenodd\" fill-opacity=\"1\" /><path clip-path=\"url(#clip940)\" d=\"M84.4873 465.486 L89.3715 465.486 L89.3715 471.366 L84.4873 471.366 L84.4873 465.486 Z\" fill=\"#000000\" fill-rule=\"evenodd\" fill-opacity=\"1\" /><path clip-path=\"url(#clip940)\" d=\"M98.3761 436.806 L120.598 436.806 L120.598 438.797 L108.052 471.366 L103.168 471.366 L114.973 440.741 L98.3761 440.741 L98.3761 436.806 Z\" fill=\"#000000\" fill-rule=\"evenodd\" fill-opacity=\"1\" /><path clip-path=\"url(#clip940)\" d=\"M63.5152 205.418 Q59.9041 205.418 58.0754 208.983 Q56.2699 212.525 56.2699 219.654 Q56.2699 226.761 58.0754 230.325 Q59.9041 233.867 63.5152 233.867 Q67.1494 233.867 68.955 230.325 Q70.7837 226.761 70.7837 219.654 Q70.7837 212.525 68.955 208.983 Q67.1494 205.418 63.5152 205.418 M63.5152 201.714 Q69.3254 201.714 72.3809 206.321 Q75.4596 210.904 75.4596 219.654 Q75.4596 228.381 72.3809 232.987 Q69.3254 237.571 63.5152 237.571 Q57.7051 237.571 54.6264 232.987 Q51.5708 228.381 51.5708 219.654 Q51.5708 210.904 54.6264 206.321 Q57.7051 201.714 63.5152 201.714 Z\" fill=\"#000000\" fill-rule=\"evenodd\" fill-opacity=\"1\" /><path clip-path=\"url(#clip940)\" d=\"M83.6771 231.02 L88.5614 231.02 L88.5614 236.899 L83.6771 236.899 L83.6771 231.02 Z\" fill=\"#000000\" fill-rule=\"evenodd\" fill-opacity=\"1\" /><path clip-path=\"url(#clip940)\" d=\"M108.746 220.488 Q105.413 220.488 103.492 222.27 Q101.594 224.052 101.594 227.177 Q101.594 230.302 103.492 232.085 Q105.413 233.867 108.746 233.867 Q112.08 233.867 114.001 232.085 Q115.922 230.279 115.922 227.177 Q115.922 224.052 114.001 222.27 Q112.103 220.488 108.746 220.488 M104.071 218.497 Q101.061 217.756 99.3715 215.696 Q97.7048 213.636 97.7048 210.673 Q97.7048 206.529 100.645 204.122 Q103.608 201.714 108.746 201.714 Q113.908 201.714 116.848 204.122 Q119.788 206.529 119.788 210.673 Q119.788 213.636 118.098 215.696 Q116.432 217.756 113.445 218.497 Q116.825 219.284 118.7 221.575 Q120.598 223.867 120.598 227.177 Q120.598 232.2 117.52 234.886 Q114.464 237.571 108.746 237.571 Q103.029 237.571 99.9502 234.886 Q96.8947 232.2 96.8947 227.177 Q96.8947 223.867 98.7928 221.575 Q100.691 219.284 104.071 218.497 M102.358 211.113 Q102.358 213.798 104.024 215.302 Q105.714 216.807 108.746 216.807 Q111.756 216.807 113.445 215.302 Q115.158 213.798 115.158 211.113 Q115.158 208.427 113.445 206.923 Q111.756 205.418 108.746 205.418 Q105.714 205.418 104.024 206.923 Q102.358 208.427 102.358 211.113 Z\" fill=\"#000000\" fill-rule=\"evenodd\" fill-opacity=\"1\" /><circle clip-path=\"url(#clip942)\" cx=\"780.922\" cy=\"1142.67\" r=\"14\" fill=\"#009af9\" fill-rule=\"evenodd\" fill-opacity=\"1\" stroke=\"#000000\" stroke-opacity=\"1\" stroke-width=\"3.2\"/>\n",
       "<circle clip-path=\"url(#clip942)\" cx=\"1508.57\" cy=\"1445.72\" r=\"14\" fill=\"#009af9\" fill-rule=\"evenodd\" fill-opacity=\"1\" stroke=\"#000000\" stroke-opacity=\"1\" stroke-width=\"3.2\"/>\n",
       "<circle clip-path=\"url(#clip942)\" cx=\"686.375\" cy=\"585.85\" r=\"14\" fill=\"#009af9\" fill-rule=\"evenodd\" fill-opacity=\"1\" stroke=\"#000000\" stroke-opacity=\"1\" stroke-width=\"3.2\"/>\n",
       "<circle clip-path=\"url(#clip942)\" cx=\"1242.39\" cy=\"700.975\" r=\"14\" fill=\"#009af9\" fill-rule=\"evenodd\" fill-opacity=\"1\" stroke=\"#000000\" stroke-opacity=\"1\" stroke-width=\"3.2\"/>\n",
       "<circle clip-path=\"url(#clip942)\" cx=\"1680.11\" cy=\"1122.98\" r=\"14\" fill=\"#009af9\" fill-rule=\"evenodd\" fill-opacity=\"1\" stroke=\"#000000\" stroke-opacity=\"1\" stroke-width=\"3.2\"/>\n",
       "<circle clip-path=\"url(#clip942)\" cx=\"218.754\" cy=\"87.9763\" r=\"14\" fill=\"#009af9\" fill-rule=\"evenodd\" fill-opacity=\"1\" stroke=\"#000000\" stroke-opacity=\"1\" stroke-width=\"3.2\"/>\n",
       "<circle clip-path=\"url(#clip942)\" cx=\"1238.68\" cy=\"1005.51\" r=\"14\" fill=\"#009af9\" fill-rule=\"evenodd\" fill-opacity=\"1\" stroke=\"#000000\" stroke-opacity=\"1\" stroke-width=\"3.2\"/>\n",
       "<circle clip-path=\"url(#clip942)\" cx=\"2290.6\" cy=\"1332.95\" r=\"14\" fill=\"#009af9\" fill-rule=\"evenodd\" fill-opacity=\"1\" stroke=\"#000000\" stroke-opacity=\"1\" stroke-width=\"3.2\"/>\n",
       "<path clip-path=\"url(#clip940)\" d=\"\n",
       "M1983.1 198.898 L2279.55 198.898 L2279.55 95.2176 L1983.1 95.2176  Z\n",
       "  \" fill=\"#ffffff\" fill-rule=\"evenodd\" fill-opacity=\"1\"/>\n",
       "<polyline clip-path=\"url(#clip940)\" style=\"stroke:#000000; stroke-linecap:butt; stroke-linejoin:round; stroke-width:4; stroke-opacity:1; fill:none\" points=\"\n",
       "  1983.1,198.898 2279.55,198.898 2279.55,95.2176 1983.1,95.2176 1983.1,198.898 \n",
       "  \"/>\n",
       "<circle clip-path=\"url(#clip940)\" cx=\"2080.71\" cy=\"147.058\" r=\"23\" fill=\"#009af9\" fill-rule=\"evenodd\" fill-opacity=\"1\" stroke=\"#000000\" stroke-opacity=\"1\" stroke-width=\"5.12\"/>\n",
       "<path clip-path=\"url(#clip940)\" d=\"M2192.16 166.745 Q2190.35 171.375 2188.64 172.787 Q2186.93 174.199 2184.06 174.199 L2180.65 174.199 L2180.65 170.634 L2183.15 170.634 Q2184.91 170.634 2185.89 169.8 Q2186.86 168.967 2188.04 165.865 L2188.8 163.921 L2178.32 138.412 L2182.83 138.412 L2190.93 158.689 L2199.03 138.412 L2203.55 138.412 L2192.16 166.745 Z\" fill=\"#000000\" fill-rule=\"evenodd\" fill-opacity=\"1\" /><path clip-path=\"url(#clip940)\" d=\"M2210.84 160.402 L2218.48 160.402 L2218.48 134.037 L2210.17 135.703 L2210.17 131.444 L2218.43 129.778 L2223.11 129.778 L2223.11 160.402 L2230.75 160.402 L2230.75 164.338 L2210.84 164.338 L2210.84 160.402 Z\" fill=\"#000000\" fill-rule=\"evenodd\" fill-opacity=\"1\" /></svg>\n"
      ]
     },
     "execution_count": 7,
     "metadata": {},
     "output_type": "execute_result"
    }
   ],
   "source": [
    "scatter(points[:, 1], points[:, 2])"
   ]
  },
  {
   "cell_type": "markdown",
   "id": "b2e29a11-5fc8-4cdc-9024-b3d66749960d",
   "metadata": {},
   "source": [
    "Now use the `basic_triangulation` function of the `Triangle` package to create a triangulation of the *convex hull* of our point set. You also need to pass a labeling of the points to the function.\n",
    "\n",
    "The `basic_triangulation` returns a `Vector` containing the combinatorial data of the faces of a so called [Delaunay Triangulation](https://de.wikipedia.org/wiki/Delaunay-Triangulierung).\n",
    "\n",
    "You will learn about the details of this particular type of triangulation later in the lecture. \n",
    "\n",
    "For now it suffices to know that given our random set of points it is homeomorphic to $\\mathbb{B}^2$ and it's edge skeleton is a planar graph. (See [chapter I.4](https://www.maths.ed.ac.uk/~v1ranick/papers/edelcomp.pdf))\n",
    "\n",
    "Use the `?basic_triangulation` command to understand in and outputs of that function."
   ]
  },
  {
   "cell_type": "code",
   "execution_count": 8,
   "id": "1fe7b677-28ca-4f22-a69d-3003d1210ea2",
   "metadata": {},
   "outputs": [
    {
     "name": "stdout",
     "output_type": "stream",
     "text": [
      "search: \u001b[0m\u001b[1mb\u001b[22m\u001b[0m\u001b[1ma\u001b[22m\u001b[0m\u001b[1ms\u001b[22m\u001b[0m\u001b[1mi\u001b[22m\u001b[0m\u001b[1mc\u001b[22m\u001b[0m\u001b[1m_\u001b[22m\u001b[0m\u001b[1mt\u001b[22m\u001b[0m\u001b[1mr\u001b[22m\u001b[0m\u001b[1mi\u001b[22m\u001b[0m\u001b[1ma\u001b[22m\u001b[0m\u001b[1mn\u001b[22m\u001b[0m\u001b[1mg\u001b[22m\u001b[0m\u001b[1mu\u001b[22m\u001b[0m\u001b[1ml\u001b[22m\u001b[0m\u001b[1ma\u001b[22m\u001b[0m\u001b[1mt\u001b[22m\u001b[0m\u001b[1mi\u001b[22m\u001b[0m\u001b[1mo\u001b[22m\u001b[0m\u001b[1mn\u001b[22m \u001b[0m\u001b[1mb\u001b[22m\u001b[0m\u001b[1ma\u001b[22m\u001b[0m\u001b[1ms\u001b[22m\u001b[0m\u001b[1mi\u001b[22m\u001b[0m\u001b[1mc\u001b[22m\u001b[0m\u001b[1m_\u001b[22m\u001b[0m\u001b[1mt\u001b[22m\u001b[0m\u001b[1mr\u001b[22m\u001b[0m\u001b[1mi\u001b[22m\u001b[0m\u001b[1ma\u001b[22m\u001b[0m\u001b[1mn\u001b[22m\u001b[0m\u001b[1mg\u001b[22m\u001b[0m\u001b[1mu\u001b[22m\u001b[0m\u001b[1ml\u001b[22m\u001b[0m\u001b[1ma\u001b[22m\u001b[0m\u001b[1mt\u001b[22m\u001b[0m\u001b[1mi\u001b[22m\u001b[0m\u001b[1mo\u001b[22m\u001b[0m\u001b[1mn\u001b[22m_vertices\n",
      "\n"
     ]
    },
    {
     "data": {
      "text/latex": [
       "\\begin{verbatim}\n",
       "basic_triangulation(vertices::Array{Float64,2},vertices_map::Array{Int64,1})\n",
       "\\end{verbatim}\n",
       "Compute a Delaunay triangulation for a list of \\texttt{vertices} in the form of \\texttt{[x1 y1; x2 y2; ... ; xn yn]}\n",
       "\n",
       "A list of indexes is provided in \\texttt{vertices\\_map} so that each vertex can have a custom integer identifier.\n",
       "\n",
       "The function will return an array of array of 3-vertices lists (triangles with the correct vertices order) using the vertex identifiers in each triangle definition.\n",
       "\n",
       "\\section{Example}\n",
       "\\begin{verbatim}\n",
       "julia> using Triangle\n",
       "\n",
       "julia> points = Array{Float64,2}([0. 0.; 1. 0.; 0. 1.])\n",
       "3×2 Array{Float64,2}:\n",
       " 0.0  0.0\n",
       " 1.0  0.0\n",
       " 0.0  1.0\n",
       "\n",
       "julia> points_map = [1, 2, 3]\n",
       "3-element Array{Int64,1}:\n",
       " 1\n",
       " 2\n",
       " 3\n",
       "\n",
       "julia> Triangle.basic_triangulation(points,points_map)\n",
       "1-element Array{Array{Int64,1},1}:\n",
       " [1, 2, 3]\n",
       "\\end{verbatim}\n"
      ],
      "text/markdown": [
       "```\n",
       "basic_triangulation(vertices::Array{Float64,2},vertices_map::Array{Int64,1})\n",
       "```\n",
       "\n",
       "Compute a Delaunay triangulation for a list of `vertices` in the form of `[x1 y1; x2 y2; ... ; xn yn]`\n",
       "\n",
       "A list of indexes is provided in `vertices_map` so that each vertex can have a custom integer identifier.\n",
       "\n",
       "The function will return an array of array of 3-vertices lists (triangles with the correct vertices order) using the vertex identifiers in each triangle definition.\n",
       "\n",
       "# Example\n",
       "\n",
       "```jldoctest\n",
       "julia> using Triangle\n",
       "\n",
       "julia> points = Array{Float64,2}([0. 0.; 1. 0.; 0. 1.])\n",
       "3×2 Array{Float64,2}:\n",
       " 0.0  0.0\n",
       " 1.0  0.0\n",
       " 0.0  1.0\n",
       "\n",
       "julia> points_map = [1, 2, 3]\n",
       "3-element Array{Int64,1}:\n",
       " 1\n",
       " 2\n",
       " 3\n",
       "\n",
       "julia> Triangle.basic_triangulation(points,points_map)\n",
       "1-element Array{Array{Int64,1},1}:\n",
       " [1, 2, 3]\n",
       "```\n"
      ],
      "text/plain": [
       "\u001b[36m  basic_triangulation(vertices::Array{Float64,2},vertices_map::Array{Int64,1})\u001b[39m\n",
       "\n",
       "  Compute a Delaunay triangulation for a list of \u001b[36mvertices\u001b[39m in the form of \u001b[36m[x1\n",
       "  y1; x2 y2; ... ; xn yn]\u001b[39m\n",
       "\n",
       "  A list of indexes is provided in \u001b[36mvertices_map\u001b[39m so that each vertex can have a\n",
       "  custom integer identifier.\n",
       "\n",
       "  The function will return an array of array of 3-vertices lists (triangles\n",
       "  with the correct vertices order) using the vertex identifiers in each\n",
       "  triangle definition.\n",
       "\n",
       "\u001b[1m  Example\u001b[22m\n",
       "\u001b[1m  ≡≡≡≡≡≡≡≡≡\u001b[22m\n",
       "\n",
       "\u001b[36m  julia> using Triangle\u001b[39m\n",
       "\u001b[36m  \u001b[39m\n",
       "\u001b[36m  julia> points = Array{Float64,2}([0. 0.; 1. 0.; 0. 1.])\u001b[39m\n",
       "\u001b[36m  3×2 Array{Float64,2}:\u001b[39m\n",
       "\u001b[36m   0.0  0.0\u001b[39m\n",
       "\u001b[36m   1.0  0.0\u001b[39m\n",
       "\u001b[36m   0.0  1.0\u001b[39m\n",
       "\u001b[36m  \u001b[39m\n",
       "\u001b[36m  julia> points_map = [1, 2, 3]\u001b[39m\n",
       "\u001b[36m  3-element Array{Int64,1}:\u001b[39m\n",
       "\u001b[36m   1\u001b[39m\n",
       "\u001b[36m   2\u001b[39m\n",
       "\u001b[36m   3\u001b[39m\n",
       "\u001b[36m  \u001b[39m\n",
       "\u001b[36m  julia> Triangle.basic_triangulation(points,points_map)\u001b[39m\n",
       "\u001b[36m  1-element Array{Array{Int64,1},1}:\u001b[39m\n",
       "\u001b[36m   [1, 2, 3]\u001b[39m"
      ]
     },
     "execution_count": 8,
     "metadata": {},
     "output_type": "execute_result"
    }
   ],
   "source": [
    "?basic_triangulation"
   ]
  },
  {
   "cell_type": "markdown",
   "id": "b0e2d38c-2e23-452a-b413-bbeaebe53f91",
   "metadata": {},
   "source": [
    "*Note: Unlike in the last exercise you won't really need to implement functions here. You can of course choose to do this. However this exercise is straight forward to solve as a sequence of commands without the need for encapsulating logic within functions.*"
   ]
  },
  {
   "cell_type": "code",
   "execution_count": null,
   "id": "05d68ae5-26e6-43db-9dd4-3755be806e06",
   "metadata": {},
   "outputs": [],
   "source": [
    "# YOUR CODE HERE -> 15 points"
   ]
  },
  {
   "cell_type": "markdown",
   "id": "911b28e0-c9ef-4a14-bc42-d16e9f2b44ae",
   "metadata": {},
   "source": [
    "## Extracting the relevant data\n",
    "\n",
    "Construct data containers that contain the information you need to later on generate the desired plot of the triangulation.  \n",
    "\n",
    "You need:\n",
    "\n",
    "`interior points`\n",
    "\n",
    "`exterior points`\n",
    "\n",
    "`interior edges`\n",
    "\n",
    "`exterior edges`\n",
    "\n",
    "Before you generate this data: Take a look at the plots example below and think of where you need combinatorial data, i.e. the labels of the nodes and where you need geometric data, i.e. the coordinates of `points`.\n",
    "\n",
    "Some functions that **MIGHT** be helpful (depending on your implementation) are: \n",
    "\n",
    "`powerset` from the `Combinatorics` package. \n",
    "\n",
    "`collect`and `any` from the `Base` package. (Base is always loaded and precompiled when starting Julia.)\n",
    "\n",
    "Again you can use `?powerset` etc. to get some further information on these functions."
   ]
  },
  {
   "cell_type": "code",
   "execution_count": null,
   "id": "265bdc72-2954-439d-85c2-77ff22fef7ed",
   "metadata": {},
   "outputs": [],
   "source": [
    "?powerset"
   ]
  },
  {
   "cell_type": "code",
   "execution_count": null,
   "id": "6ddca761-5c90-4946-9f82-980df9a73fa4",
   "metadata": {},
   "outputs": [],
   "source": [
    "?collect"
   ]
  },
  {
   "cell_type": "code",
   "execution_count": null,
   "id": "d85621d5-b4a9-4aa2-9951-6e7e55dd9325",
   "metadata": {},
   "outputs": [],
   "source": [
    "?any"
   ]
  },
  {
   "cell_type": "markdown",
   "id": "23236b13-ffb9-4f82-b638-06b1a848b320",
   "metadata": {},
   "source": [
    "## A Simple Plots Example\n",
    "\n",
    "It might be useful to play around with the `Plots` package a bit before you generate the data you need.\n"
   ]
  },
  {
   "cell_type": "code",
   "execution_count": 3,
   "id": "7221aed4-60f9-47f4-8d5a-736a87a1c358",
   "metadata": {},
   "outputs": [
    {
     "data": {
      "image/svg+xml": [
       "<?xml version=\"1.0\" encoding=\"utf-8\"?>\n",
       "<svg xmlns=\"http://www.w3.org/2000/svg\" xmlns:xlink=\"http://www.w3.org/1999/xlink\" width=\"600\" height=\"400\" viewBox=\"0 0 2400 1600\">\n",
       "<defs>\n",
       "  <clipPath id=\"clip480\">\n",
       "    <rect x=\"0\" y=\"0\" width=\"2400\" height=\"1600\"/>\n",
       "  </clipPath>\n",
       "</defs>\n",
       "<path clip-path=\"url(#clip480)\" d=\"\n",
       "M0 1600 L2400 1600 L2400 0 L0 0  Z\n",
       "  \" fill=\"#ffffff\" fill-rule=\"evenodd\" fill-opacity=\"1\"/>\n",
       "<defs>\n",
       "  <clipPath id=\"clip481\">\n",
       "    <rect x=\"480\" y=\"0\" width=\"1681\" height=\"1600\"/>\n",
       "  </clipPath>\n",
       "</defs>\n",
       "<path clip-path=\"url(#clip480)\" d=\"\n",
       "M156.112 1486.45 L2352.76 1486.45 L2352.76 47.2441 L156.112 47.2441  Z\n",
       "  \" fill=\"#ffffff\" fill-rule=\"evenodd\" fill-opacity=\"1\"/>\n",
       "<defs>\n",
       "  <clipPath id=\"clip482\">\n",
       "    <rect x=\"156\" y=\"47\" width=\"2198\" height=\"1440\"/>\n",
       "  </clipPath>\n",
       "</defs>\n",
       "<polyline clip-path=\"url(#clip482)\" style=\"stroke:#000000; stroke-linecap:butt; stroke-linejoin:round; stroke-width:2; stroke-opacity:0.1; fill:none\" points=\"\n",
       "  218.281,1486.45 218.281,47.2441 \n",
       "  \"/>\n",
       "<polyline clip-path=\"url(#clip482)\" style=\"stroke:#000000; stroke-linecap:butt; stroke-linejoin:round; stroke-width:2; stroke-opacity:0.1; fill:none\" points=\"\n",
       "  736.358,1486.45 736.358,47.2441 \n",
       "  \"/>\n",
       "<polyline clip-path=\"url(#clip482)\" style=\"stroke:#000000; stroke-linecap:butt; stroke-linejoin:round; stroke-width:2; stroke-opacity:0.1; fill:none\" points=\"\n",
       "  1254.43,1486.45 1254.43,47.2441 \n",
       "  \"/>\n",
       "<polyline clip-path=\"url(#clip482)\" style=\"stroke:#000000; stroke-linecap:butt; stroke-linejoin:round; stroke-width:2; stroke-opacity:0.1; fill:none\" points=\"\n",
       "  1772.51,1486.45 1772.51,47.2441 \n",
       "  \"/>\n",
       "<polyline clip-path=\"url(#clip482)\" style=\"stroke:#000000; stroke-linecap:butt; stroke-linejoin:round; stroke-width:2; stroke-opacity:0.1; fill:none\" points=\"\n",
       "  2290.59,1486.45 2290.59,47.2441 \n",
       "  \"/>\n",
       "<polyline clip-path=\"url(#clip480)\" style=\"stroke:#000000; stroke-linecap:butt; stroke-linejoin:round; stroke-width:4; stroke-opacity:1; fill:none\" points=\"\n",
       "  156.112,1486.45 2352.76,1486.45 \n",
       "  \"/>\n",
       "<polyline clip-path=\"url(#clip480)\" style=\"stroke:#000000; stroke-linecap:butt; stroke-linejoin:round; stroke-width:4; stroke-opacity:1; fill:none\" points=\"\n",
       "  218.281,1486.45 218.281,1467.55 \n",
       "  \"/>\n",
       "<polyline clip-path=\"url(#clip480)\" style=\"stroke:#000000; stroke-linecap:butt; stroke-linejoin:round; stroke-width:4; stroke-opacity:1; fill:none\" points=\"\n",
       "  736.358,1486.45 736.358,1467.55 \n",
       "  \"/>\n",
       "<polyline clip-path=\"url(#clip480)\" style=\"stroke:#000000; stroke-linecap:butt; stroke-linejoin:round; stroke-width:4; stroke-opacity:1; fill:none\" points=\"\n",
       "  1254.43,1486.45 1254.43,1467.55 \n",
       "  \"/>\n",
       "<polyline clip-path=\"url(#clip480)\" style=\"stroke:#000000; stroke-linecap:butt; stroke-linejoin:round; stroke-width:4; stroke-opacity:1; fill:none\" points=\"\n",
       "  1772.51,1486.45 1772.51,1467.55 \n",
       "  \"/>\n",
       "<polyline clip-path=\"url(#clip480)\" style=\"stroke:#000000; stroke-linecap:butt; stroke-linejoin:round; stroke-width:4; stroke-opacity:1; fill:none\" points=\"\n",
       "  2290.59,1486.45 2290.59,1467.55 \n",
       "  \"/>\n",
       "<path clip-path=\"url(#clip480)\" d=\"M195.666 1517.37 Q192.055 1517.37 190.226 1520.93 Q188.42 1524.47 188.42 1531.6 Q188.42 1538.71 190.226 1542.27 Q192.055 1545.82 195.666 1545.82 Q199.3 1545.82 201.105 1542.27 Q202.934 1538.71 202.934 1531.6 Q202.934 1524.47 201.105 1520.93 Q199.3 1517.37 195.666 1517.37 M195.666 1513.66 Q201.476 1513.66 204.531 1518.27 Q207.61 1522.85 207.61 1531.6 Q207.61 1540.33 204.531 1544.94 Q201.476 1549.52 195.666 1549.52 Q189.856 1549.52 186.777 1544.94 Q183.721 1540.33 183.721 1531.6 Q183.721 1522.85 186.777 1518.27 Q189.856 1513.66 195.666 1513.66 Z\" fill=\"#000000\" fill-rule=\"evenodd\" fill-opacity=\"1\" /><path clip-path=\"url(#clip480)\" d=\"M215.828 1542.97 L220.712 1542.97 L220.712 1548.85 L215.828 1548.85 L215.828 1542.97 Z\" fill=\"#000000\" fill-rule=\"evenodd\" fill-opacity=\"1\" /><path clip-path=\"url(#clip480)\" d=\"M240.897 1517.37 Q237.286 1517.37 235.457 1520.93 Q233.652 1524.47 233.652 1531.6 Q233.652 1538.71 235.457 1542.27 Q237.286 1545.82 240.897 1545.82 Q244.531 1545.82 246.337 1542.27 Q248.165 1538.71 248.165 1531.6 Q248.165 1524.47 246.337 1520.93 Q244.531 1517.37 240.897 1517.37 M240.897 1513.66 Q246.707 1513.66 249.763 1518.27 Q252.841 1522.85 252.841 1531.6 Q252.841 1540.33 249.763 1544.94 Q246.707 1549.52 240.897 1549.52 Q235.087 1549.52 232.008 1544.94 Q228.953 1540.33 228.953 1531.6 Q228.953 1522.85 232.008 1518.27 Q235.087 1513.66 240.897 1513.66 Z\" fill=\"#000000\" fill-rule=\"evenodd\" fill-opacity=\"1\" /><path clip-path=\"url(#clip480)\" d=\"M714.24 1517.37 Q710.629 1517.37 708.8 1520.93 Q706.994 1524.47 706.994 1531.6 Q706.994 1538.71 708.8 1542.27 Q710.629 1545.82 714.24 1545.82 Q717.874 1545.82 719.68 1542.27 Q721.508 1538.71 721.508 1531.6 Q721.508 1524.47 719.68 1520.93 Q717.874 1517.37 714.24 1517.37 M714.24 1513.66 Q720.05 1513.66 723.105 1518.27 Q726.184 1522.85 726.184 1531.6 Q726.184 1540.33 723.105 1544.94 Q720.05 1549.52 714.24 1549.52 Q708.43 1549.52 705.351 1544.94 Q702.295 1540.33 702.295 1531.6 Q702.295 1522.85 705.351 1518.27 Q708.43 1513.66 714.24 1513.66 Z\" fill=\"#000000\" fill-rule=\"evenodd\" fill-opacity=\"1\" /><path clip-path=\"url(#clip480)\" d=\"M734.402 1542.97 L739.286 1542.97 L739.286 1548.85 L734.402 1548.85 L734.402 1542.97 Z\" fill=\"#000000\" fill-rule=\"evenodd\" fill-opacity=\"1\" /><path clip-path=\"url(#clip480)\" d=\"M749.517 1514.29 L767.874 1514.29 L767.874 1518.22 L753.8 1518.22 L753.8 1526.7 Q754.818 1526.35 755.837 1526.19 Q756.855 1526 757.874 1526 Q763.661 1526 767.04 1529.17 Q770.42 1532.34 770.42 1537.76 Q770.42 1543.34 766.948 1546.44 Q763.476 1549.52 757.156 1549.52 Q754.98 1549.52 752.712 1549.15 Q750.466 1548.78 748.059 1548.04 L748.059 1543.34 Q750.142 1544.47 752.365 1545.03 Q754.587 1545.58 757.064 1545.58 Q761.068 1545.58 763.406 1543.48 Q765.744 1541.37 765.744 1537.76 Q765.744 1534.15 763.406 1532.04 Q761.068 1529.94 757.064 1529.94 Q755.189 1529.94 753.314 1530.35 Q751.462 1530.77 749.517 1531.65 L749.517 1514.29 Z\" fill=\"#000000\" fill-rule=\"evenodd\" fill-opacity=\"1\" /><path clip-path=\"url(#clip480)\" d=\"M1221.59 1544.91 L1229.23 1544.91 L1229.23 1518.55 L1220.92 1520.21 L1220.92 1515.95 L1229.18 1514.29 L1233.86 1514.29 L1233.86 1544.91 L1241.49 1544.91 L1241.49 1548.85 L1221.59 1548.85 L1221.59 1544.91 Z\" fill=\"#000000\" fill-rule=\"evenodd\" fill-opacity=\"1\" /><path clip-path=\"url(#clip480)\" d=\"M1250.94 1542.97 L1255.82 1542.97 L1255.82 1548.85 L1250.94 1548.85 L1250.94 1542.97 Z\" fill=\"#000000\" fill-rule=\"evenodd\" fill-opacity=\"1\" /><path clip-path=\"url(#clip480)\" d=\"M1276.01 1517.37 Q1272.4 1517.37 1270.57 1520.93 Q1268.76 1524.47 1268.76 1531.6 Q1268.76 1538.71 1270.57 1542.27 Q1272.4 1545.82 1276.01 1545.82 Q1279.64 1545.82 1281.45 1542.27 Q1283.28 1538.71 1283.28 1531.6 Q1283.28 1524.47 1281.45 1520.93 Q1279.64 1517.37 1276.01 1517.37 M1276.01 1513.66 Q1281.82 1513.66 1284.87 1518.27 Q1287.95 1522.85 1287.95 1531.6 Q1287.95 1540.33 1284.87 1544.94 Q1281.82 1549.52 1276.01 1549.52 Q1270.2 1549.52 1267.12 1544.94 Q1264.06 1540.33 1264.06 1531.6 Q1264.06 1522.85 1267.12 1518.27 Q1270.2 1513.66 1276.01 1513.66 Z\" fill=\"#000000\" fill-rule=\"evenodd\" fill-opacity=\"1\" /><path clip-path=\"url(#clip480)\" d=\"M1740.16 1544.91 L1747.8 1544.91 L1747.8 1518.55 L1739.49 1520.21 L1739.49 1515.95 L1747.75 1514.29 L1752.43 1514.29 L1752.43 1544.91 L1760.07 1544.91 L1760.07 1548.85 L1740.16 1548.85 L1740.16 1544.91 Z\" fill=\"#000000\" fill-rule=\"evenodd\" fill-opacity=\"1\" /><path clip-path=\"url(#clip480)\" d=\"M1769.51 1542.97 L1774.4 1542.97 L1774.4 1548.85 L1769.51 1548.85 L1769.51 1542.97 Z\" fill=\"#000000\" fill-rule=\"evenodd\" fill-opacity=\"1\" /><path clip-path=\"url(#clip480)\" d=\"M1784.63 1514.29 L1802.98 1514.29 L1802.98 1518.22 L1788.91 1518.22 L1788.91 1526.7 Q1789.93 1526.35 1790.95 1526.19 Q1791.97 1526 1792.98 1526 Q1798.77 1526 1802.15 1529.17 Q1805.53 1532.34 1805.53 1537.76 Q1805.53 1543.34 1802.06 1546.44 Q1798.59 1549.52 1792.27 1549.52 Q1790.09 1549.52 1787.82 1549.15 Q1785.58 1548.78 1783.17 1548.04 L1783.17 1543.34 Q1785.25 1544.47 1787.48 1545.03 Q1789.7 1545.58 1792.17 1545.58 Q1796.18 1545.58 1798.52 1543.48 Q1800.86 1541.37 1800.86 1537.76 Q1800.86 1534.15 1798.52 1532.04 Q1796.18 1529.94 1792.17 1529.94 Q1790.3 1529.94 1788.42 1530.35 Q1786.57 1530.77 1784.63 1531.65 L1784.63 1514.29 Z\" fill=\"#000000\" fill-rule=\"evenodd\" fill-opacity=\"1\" /><path clip-path=\"url(#clip480)\" d=\"M2261.83 1544.91 L2278.14 1544.91 L2278.14 1548.85 L2256.2 1548.85 L2256.2 1544.91 Q2258.86 1542.16 2263.45 1537.53 Q2268.05 1532.88 2269.23 1531.53 Q2271.48 1529.01 2272.36 1527.27 Q2273.26 1525.51 2273.26 1523.82 Q2273.26 1521.07 2271.32 1519.33 Q2269.39 1517.6 2266.29 1517.6 Q2264.09 1517.6 2261.64 1518.36 Q2259.21 1519.13 2256.43 1520.68 L2256.43 1515.95 Q2259.26 1514.82 2261.71 1514.24 Q2264.16 1513.66 2266.2 1513.66 Q2271.57 1513.66 2274.77 1516.35 Q2277.96 1519.03 2277.96 1523.52 Q2277.96 1525.65 2277.15 1527.57 Q2276.36 1529.47 2274.26 1532.07 Q2273.68 1532.74 2270.58 1535.95 Q2267.47 1539.15 2261.83 1544.91 Z\" fill=\"#000000\" fill-rule=\"evenodd\" fill-opacity=\"1\" /><path clip-path=\"url(#clip480)\" d=\"M2287.96 1542.97 L2292.84 1542.97 L2292.84 1548.85 L2287.96 1548.85 L2287.96 1542.97 Z\" fill=\"#000000\" fill-rule=\"evenodd\" fill-opacity=\"1\" /><path clip-path=\"url(#clip480)\" d=\"M2313.03 1517.37 Q2309.42 1517.37 2307.59 1520.93 Q2305.78 1524.47 2305.78 1531.6 Q2305.78 1538.71 2307.59 1542.27 Q2309.42 1545.82 2313.03 1545.82 Q2316.66 1545.82 2318.47 1542.27 Q2320.3 1538.71 2320.3 1531.6 Q2320.3 1524.47 2318.47 1520.93 Q2316.66 1517.37 2313.03 1517.37 M2313.03 1513.66 Q2318.84 1513.66 2321.89 1518.27 Q2324.97 1522.85 2324.97 1531.6 Q2324.97 1540.33 2321.89 1544.94 Q2318.84 1549.52 2313.03 1549.52 Q2307.22 1549.52 2304.14 1544.94 Q2301.08 1540.33 2301.08 1531.6 Q2301.08 1522.85 2304.14 1518.27 Q2307.22 1513.66 2313.03 1513.66 Z\" fill=\"#000000\" fill-rule=\"evenodd\" fill-opacity=\"1\" /><polyline clip-path=\"url(#clip482)\" style=\"stroke:#000000; stroke-linecap:butt; stroke-linejoin:round; stroke-width:2; stroke-opacity:0.1; fill:none\" points=\"\n",
       "  156.112,1445.72 2352.76,1445.72 \n",
       "  \"/>\n",
       "<polyline clip-path=\"url(#clip482)\" style=\"stroke:#000000; stroke-linecap:butt; stroke-linejoin:round; stroke-width:2; stroke-opacity:0.1; fill:none\" points=\"\n",
       "  156.112,1106.28 2352.76,1106.28 \n",
       "  \"/>\n",
       "<polyline clip-path=\"url(#clip482)\" style=\"stroke:#000000; stroke-linecap:butt; stroke-linejoin:round; stroke-width:2; stroke-opacity:0.1; fill:none\" points=\"\n",
       "  156.112,766.846 2352.76,766.846 \n",
       "  \"/>\n",
       "<polyline clip-path=\"url(#clip482)\" style=\"stroke:#000000; stroke-linecap:butt; stroke-linejoin:round; stroke-width:2; stroke-opacity:0.1; fill:none\" points=\"\n",
       "  156.112,427.411 2352.76,427.411 \n",
       "  \"/>\n",
       "<polyline clip-path=\"url(#clip482)\" style=\"stroke:#000000; stroke-linecap:butt; stroke-linejoin:round; stroke-width:2; stroke-opacity:0.1; fill:none\" points=\"\n",
       "  156.112,87.9763 2352.76,87.9763 \n",
       "  \"/>\n",
       "<polyline clip-path=\"url(#clip480)\" style=\"stroke:#000000; stroke-linecap:butt; stroke-linejoin:round; stroke-width:4; stroke-opacity:1; fill:none\" points=\"\n",
       "  156.112,1486.45 156.112,47.2441 \n",
       "  \"/>\n",
       "<polyline clip-path=\"url(#clip480)\" style=\"stroke:#000000; stroke-linecap:butt; stroke-linejoin:round; stroke-width:4; stroke-opacity:1; fill:none\" points=\"\n",
       "  156.112,1445.72 175.01,1445.72 \n",
       "  \"/>\n",
       "<polyline clip-path=\"url(#clip480)\" style=\"stroke:#000000; stroke-linecap:butt; stroke-linejoin:round; stroke-width:4; stroke-opacity:1; fill:none\" points=\"\n",
       "  156.112,1106.28 175.01,1106.28 \n",
       "  \"/>\n",
       "<polyline clip-path=\"url(#clip480)\" style=\"stroke:#000000; stroke-linecap:butt; stroke-linejoin:round; stroke-width:4; stroke-opacity:1; fill:none\" points=\"\n",
       "  156.112,766.846 175.01,766.846 \n",
       "  \"/>\n",
       "<polyline clip-path=\"url(#clip480)\" style=\"stroke:#000000; stroke-linecap:butt; stroke-linejoin:round; stroke-width:4; stroke-opacity:1; fill:none\" points=\"\n",
       "  156.112,427.411 175.01,427.411 \n",
       "  \"/>\n",
       "<polyline clip-path=\"url(#clip480)\" style=\"stroke:#000000; stroke-linecap:butt; stroke-linejoin:round; stroke-width:4; stroke-opacity:1; fill:none\" points=\"\n",
       "  156.112,87.9763 175.01,87.9763 \n",
       "  \"/>\n",
       "<path clip-path=\"url(#clip480)\" d=\"M62.9365 1431.51 Q59.3254 1431.51 57.4967 1435.08 Q55.6912 1438.62 55.6912 1445.75 Q55.6912 1452.86 57.4967 1456.42 Q59.3254 1459.96 62.9365 1459.96 Q66.5707 1459.96 68.3763 1456.42 Q70.205 1452.86 70.205 1445.75 Q70.205 1438.62 68.3763 1435.08 Q66.5707 1431.51 62.9365 1431.51 M62.9365 1427.81 Q68.7467 1427.81 71.8022 1432.42 Q74.8809 1437 74.8809 1445.75 Q74.8809 1454.48 71.8022 1459.08 Q68.7467 1463.67 62.9365 1463.67 Q57.1264 1463.67 54.0477 1459.08 Q50.9921 1454.48 50.9921 1445.75 Q50.9921 1437 54.0477 1432.42 Q57.1264 1427.81 62.9365 1427.81 Z\" fill=\"#000000\" fill-rule=\"evenodd\" fill-opacity=\"1\" /><path clip-path=\"url(#clip480)\" d=\"M83.0984 1457.12 L87.9827 1457.12 L87.9827 1463 L83.0984 1463 L83.0984 1457.12 Z\" fill=\"#000000\" fill-rule=\"evenodd\" fill-opacity=\"1\" /><path clip-path=\"url(#clip480)\" d=\"M108.168 1431.51 Q104.557 1431.51 102.728 1435.08 Q100.922 1438.62 100.922 1445.75 Q100.922 1452.86 102.728 1456.42 Q104.557 1459.96 108.168 1459.96 Q111.802 1459.96 113.608 1456.42 Q115.436 1452.86 115.436 1445.75 Q115.436 1438.62 113.608 1435.08 Q111.802 1431.51 108.168 1431.51 M108.168 1427.81 Q113.978 1427.81 117.033 1432.42 Q120.112 1437 120.112 1445.75 Q120.112 1454.48 117.033 1459.08 Q113.978 1463.67 108.168 1463.67 Q102.358 1463.67 99.2789 1459.08 Q96.2234 1454.48 96.2234 1445.75 Q96.2234 1437 99.2789 1432.42 Q102.358 1427.81 108.168 1427.81 Z\" fill=\"#000000\" fill-rule=\"evenodd\" fill-opacity=\"1\" /><path clip-path=\"url(#clip480)\" d=\"M63.9319 1092.08 Q60.3208 1092.08 58.4921 1095.64 Q56.6865 1099.19 56.6865 1106.32 Q56.6865 1113.42 58.4921 1116.99 Q60.3208 1120.53 63.9319 1120.53 Q67.5661 1120.53 69.3717 1116.99 Q71.2004 1113.42 71.2004 1106.32 Q71.2004 1099.19 69.3717 1095.64 Q67.5661 1092.08 63.9319 1092.08 M63.9319 1088.38 Q69.742 1088.38 72.7976 1092.98 Q75.8763 1097.57 75.8763 1106.32 Q75.8763 1115.04 72.7976 1119.65 Q69.742 1124.23 63.9319 1124.23 Q58.1217 1124.23 55.043 1119.65 Q51.9875 1115.04 51.9875 1106.32 Q51.9875 1097.57 55.043 1092.98 Q58.1217 1088.38 63.9319 1088.38 Z\" fill=\"#000000\" fill-rule=\"evenodd\" fill-opacity=\"1\" /><path clip-path=\"url(#clip480)\" d=\"M84.0938 1117.68 L88.978 1117.68 L88.978 1123.56 L84.0938 1123.56 L84.0938 1117.68 Z\" fill=\"#000000\" fill-rule=\"evenodd\" fill-opacity=\"1\" /><path clip-path=\"url(#clip480)\" d=\"M99.2095 1089 L117.566 1089 L117.566 1092.94 L103.492 1092.94 L103.492 1101.41 Q104.51 1101.06 105.529 1100.9 Q106.547 1100.71 107.566 1100.71 Q113.353 1100.71 116.733 1103.89 Q120.112 1107.06 120.112 1112.47 Q120.112 1118.05 116.64 1121.15 Q113.168 1124.23 106.848 1124.23 Q104.672 1124.23 102.404 1123.86 Q100.159 1123.49 97.7511 1122.75 L97.7511 1118.05 Q99.8345 1119.19 102.057 1119.74 Q104.279 1120.3 106.756 1120.3 Q110.76 1120.3 113.098 1118.19 Q115.436 1116.08 115.436 1112.47 Q115.436 1108.86 113.098 1106.76 Q110.76 1104.65 106.756 1104.65 Q104.881 1104.65 103.006 1105.07 Q101.154 1105.48 99.2095 1106.36 L99.2095 1089 Z\" fill=\"#000000\" fill-rule=\"evenodd\" fill-opacity=\"1\" /><path clip-path=\"url(#clip480)\" d=\"M53.7467 780.191 L61.3856 780.191 L61.3856 753.825 L53.0754 755.492 L53.0754 751.233 L61.3393 749.566 L66.0152 749.566 L66.0152 780.191 L73.654 780.191 L73.654 784.126 L53.7467 784.126 L53.7467 780.191 Z\" fill=\"#000000\" fill-rule=\"evenodd\" fill-opacity=\"1\" /><path clip-path=\"url(#clip480)\" d=\"M83.0984 778.246 L87.9827 778.246 L87.9827 784.126 L83.0984 784.126 L83.0984 778.246 Z\" fill=\"#000000\" fill-rule=\"evenodd\" fill-opacity=\"1\" /><path clip-path=\"url(#clip480)\" d=\"M108.168 752.645 Q104.557 752.645 102.728 756.209 Q100.922 759.751 100.922 766.881 Q100.922 773.987 102.728 777.552 Q104.557 781.094 108.168 781.094 Q111.802 781.094 113.608 777.552 Q115.436 773.987 115.436 766.881 Q115.436 759.751 113.608 756.209 Q111.802 752.645 108.168 752.645 M108.168 748.941 Q113.978 748.941 117.033 753.547 Q120.112 758.131 120.112 766.881 Q120.112 775.608 117.033 780.214 Q113.978 784.797 108.168 784.797 Q102.358 784.797 99.2789 780.214 Q96.2234 775.608 96.2234 766.881 Q96.2234 758.131 99.2789 753.547 Q102.358 748.941 108.168 748.941 Z\" fill=\"#000000\" fill-rule=\"evenodd\" fill-opacity=\"1\" /><path clip-path=\"url(#clip480)\" d=\"M54.7421 440.756 L62.381 440.756 L62.381 414.39 L54.0708 416.057 L54.0708 411.798 L62.3347 410.131 L67.0106 410.131 L67.0106 440.756 L74.6494 440.756 L74.6494 444.691 L54.7421 444.691 L54.7421 440.756 Z\" fill=\"#000000\" fill-rule=\"evenodd\" fill-opacity=\"1\" /><path clip-path=\"url(#clip480)\" d=\"M84.0938 438.812 L88.978 438.812 L88.978 444.691 L84.0938 444.691 L84.0938 438.812 Z\" fill=\"#000000\" fill-rule=\"evenodd\" fill-opacity=\"1\" /><path clip-path=\"url(#clip480)\" d=\"M99.2095 410.131 L117.566 410.131 L117.566 414.066 L103.492 414.066 L103.492 422.538 Q104.51 422.191 105.529 422.029 Q106.547 421.844 107.566 421.844 Q113.353 421.844 116.733 425.015 Q120.112 428.187 120.112 433.603 Q120.112 439.182 116.64 442.284 Q113.168 445.362 106.848 445.362 Q104.672 445.362 102.404 444.992 Q100.159 444.622 97.7511 443.881 L97.7511 439.182 Q99.8345 440.316 102.057 440.872 Q104.279 441.427 106.756 441.427 Q110.76 441.427 113.098 439.321 Q115.436 437.214 115.436 433.603 Q115.436 429.992 113.098 427.886 Q110.76 425.779 106.756 425.779 Q104.881 425.779 103.006 426.196 Q101.154 426.613 99.2095 427.492 L99.2095 410.131 Z\" fill=\"#000000\" fill-rule=\"evenodd\" fill-opacity=\"1\" /><path clip-path=\"url(#clip480)\" d=\"M56.9643 101.321 L73.2837 101.321 L73.2837 105.256 L51.3393 105.256 L51.3393 101.321 Q54.0014 98.5665 58.5847 93.9369 Q63.1911 89.2841 64.3717 87.9416 Q66.617 85.4184 67.4967 83.6823 Q68.3994 81.9231 68.3994 80.2333 Q68.3994 77.4786 66.455 75.7425 Q64.5337 74.0064 61.4319 74.0064 Q59.2328 74.0064 56.7791 74.7703 Q54.3486 75.5342 51.5708 77.0851 L51.5708 72.3629 Q54.3949 71.2287 56.8486 70.65 Q59.3023 70.0713 61.3393 70.0713 Q66.7096 70.0713 69.9041 72.7565 Q73.0985 75.4416 73.0985 79.9323 Q73.0985 82.062 72.2883 83.9832 Q71.5013 85.8814 69.3948 88.474 Q68.8161 89.1453 65.7143 92.3628 Q62.6124 95.5573 56.9643 101.321 Z\" fill=\"#000000\" fill-rule=\"evenodd\" fill-opacity=\"1\" /><path clip-path=\"url(#clip480)\" d=\"M83.0984 99.3767 L87.9827 99.3767 L87.9827 105.256 L83.0984 105.256 L83.0984 99.3767 Z\" fill=\"#000000\" fill-rule=\"evenodd\" fill-opacity=\"1\" /><path clip-path=\"url(#clip480)\" d=\"M108.168 73.775 Q104.557 73.775 102.728 77.3398 Q100.922 80.8814 100.922 88.011 Q100.922 95.1174 102.728 98.6822 Q104.557 102.224 108.168 102.224 Q111.802 102.224 113.608 98.6822 Q115.436 95.1174 115.436 88.011 Q115.436 80.8814 113.608 77.3398 Q111.802 73.775 108.168 73.775 M108.168 70.0713 Q113.978 70.0713 117.033 74.6777 Q120.112 79.261 120.112 88.011 Q120.112 96.7378 117.033 101.344 Q113.978 105.928 108.168 105.928 Q102.358 105.928 99.2789 101.344 Q96.2234 96.7378 96.2234 88.011 Q96.2234 79.261 99.2789 74.6777 Q102.358 70.0713 108.168 70.0713 Z\" fill=\"#000000\" fill-rule=\"evenodd\" fill-opacity=\"1\" /><polyline clip-path=\"url(#clip482)\" style=\"stroke:#008000; stroke-linecap:butt; stroke-linejoin:round; stroke-width:4; stroke-opacity:1; fill:none\" points=\"\n",
       "  218.281,1445.72 1254.43,87.9763 \n",
       "  \"/>\n",
       "<polyline clip-path=\"url(#clip482)\" style=\"stroke:#ffa500; stroke-linecap:butt; stroke-linejoin:round; stroke-width:4; stroke-opacity:1; fill:none\" points=\"\n",
       "  1254.43,87.9763 2290.59,1445.72 \n",
       "  \"/>\n",
       "<polyline clip-path=\"url(#clip482)\" style=\"stroke:#800080; stroke-linecap:butt; stroke-linejoin:round; stroke-width:4; stroke-opacity:1; fill:none\" points=\"\n",
       "  218.281,1445.72 2290.59,1445.72 \n",
       "  \"/>\n",
       "<circle clip-path=\"url(#clip482)\" cx=\"218.281\" cy=\"1445.72\" r=\"14\" fill=\"#000000\" fill-rule=\"evenodd\" fill-opacity=\"1\" stroke=\"none\"/>\n",
       "<circle clip-path=\"url(#clip482)\" cx=\"1254.43\" cy=\"87.9763\" r=\"14\" fill=\"#000000\" fill-rule=\"evenodd\" fill-opacity=\"1\" stroke=\"none\"/>\n",
       "<circle clip-path=\"url(#clip482)\" cx=\"2290.59\" cy=\"1445.72\" r=\"14\" fill=\"#000000\" fill-rule=\"evenodd\" fill-opacity=\"1\" stroke=\"none\"/>\n",
       "</svg>\n"
      ]
     },
     "execution_count": 3,
     "metadata": {},
     "output_type": "execute_result"
    }
   ],
   "source": [
    "example_points_x = [0, 1, 2]\n",
    "example_points_y = [0, 2, 0]\n",
    "\n",
    "example_fig = plot()\n",
    "\n",
    "plot!(example_fig, example_points_x[1:2], example_points_y[1:2], color = :green)\n",
    "plot!(example_fig, example_points_x[2:3], example_points_y[2:3], color = :orange)\n",
    "\n",
    "# Is there a more elegant way to do this?\n",
    "plot!(example_fig, [example_points_x[1], example_points_x[3]], [example_points_y[1], example_points_y[3]], color = :purple)\n",
    "\n",
    "scatter!(example_fig, example_points_x, example_points_y, legend = false, color = :black)"
   ]
  },
  {
   "cell_type": "code",
   "execution_count": null,
   "id": "53891d94-0d69-4362-9ec5-5608e577577d",
   "metadata": {},
   "outputs": [],
   "source": [
    "# YOUR CODE HERE -> 70 points"
   ]
  },
  {
   "cell_type": "markdown",
   "id": "c37cb68f-bfaa-4d52-977d-99b7ff370f0f",
   "metadata": {},
   "source": [
    "## Some data evaluation\n",
    "\n",
    "To use some further functionality of the `Plots` package and get a visual representation of the ratio of interior to exterior points/edges create a side by side plot like the following: \n",
    "\n",
    "![](example_pies.png)\n",
    "\n",
    "Use the [pie!](https://docs.juliaplots.org/latest/gallery/gaston/generated/gaston-ref23/#gaston_demo_23)"
   ]
  },
  {
   "cell_type": "code",
   "execution_count": null,
   "id": "4ab30c1f-63e7-4bd1-bc3b-d112afce0c75",
   "metadata": {},
   "outputs": [],
   "source": [
    "# YOUR CODE HERE -> 15 points"
   ]
  }
 ],
 "metadata": {
  "kernelspec": {
   "display_name": "Julia 1.8.1",
   "language": "julia",
   "name": "julia-1.8"
  },
  "language_info": {
   "file_extension": ".jl",
   "mimetype": "application/julia",
   "name": "julia",
   "version": "1.8.1"
  }
 },
 "nbformat": 4,
 "nbformat_minor": 5
}
