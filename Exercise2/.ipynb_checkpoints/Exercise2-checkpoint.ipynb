{
 "cells": [
  {
   "cell_type": "markdown",
   "id": "66bccc79-2a3b-4a11-99da-b58e503e2c8e",
   "metadata": {},
   "source": [
    "# Exercise 2: Plotting and Array Manipulation\n",
    "\n",
    "In this exercise you will create a custom Plot for a triangulation of a random set of points. The end result should look something like this: \n",
    "\n",
    "![](example.png)\n",
    "\n",
    "As you can see interior and exterior edges and vertices are colored differently. So you need to implement some algorithms to distinguish these. \n",
    "\n",
    "## Grading and Deadline\n",
    "Please hand in this exercise before the exercise session on Monday 09.05.2022. Unlike the last exercise this one will give 100 points in total to align with the grading system of Moodle. The grade of the last exercise will be scaled accordingly.\n",
    "\n",
    "## Preparing Julia\n",
    "\n",
    "Let's start by loading the necessary packages."
   ]
  },
  {
   "cell_type": "code",
   "execution_count": 3,
   "id": "ce329cba-e6db-4110-93ae-cf9d8201e701",
   "metadata": {},
   "outputs": [
    {
     "name": "stderr",
     "output_type": "stream",
     "text": [
      "\u001b[32m\u001b[1m  Activating\u001b[22m\u001b[39m environment at `~/Desktop/Doktor/Lehre/Exercise2/CompTop2022/Project.toml`\n",
      "\u001b[32m\u001b[1m    Updating\u001b[22m\u001b[39m registry at `~/.julia/registries/General`\n",
      "\u001b[32m\u001b[1m   Resolving\u001b[22m\u001b[39m package versions...\n",
      "\u001b[32m\u001b[1m  No Changes\u001b[22m\u001b[39m to `~/Desktop/Doktor/Lehre/Exercise2/CompTop2022/Project.toml`\n",
      "\u001b[32m\u001b[1m  No Changes\u001b[22m\u001b[39m to `~/Desktop/Doktor/Lehre/Exercise2/CompTop2022/Manifest.toml`\n",
      "\u001b[32m\u001b[1m   Resolving\u001b[22m\u001b[39m package versions...\n",
      "\u001b[32m\u001b[1m  No Changes\u001b[22m\u001b[39m to `~/Desktop/Doktor/Lehre/Exercise2/CompTop2022/Project.toml`\n",
      "\u001b[32m\u001b[1m  No Changes\u001b[22m\u001b[39m to `~/Desktop/Doktor/Lehre/Exercise2/CompTop2022/Manifest.toml`\n",
      "\u001b[32m\u001b[1m   Resolving\u001b[22m\u001b[39m package versions...\n",
      "\u001b[32m\u001b[1m  No Changes\u001b[22m\u001b[39m to `~/Desktop/Doktor/Lehre/Exercise2/CompTop2022/Project.toml`\n",
      "\u001b[32m\u001b[1m  No Changes\u001b[22m\u001b[39m to `~/Desktop/Doktor/Lehre/Exercise2/CompTop2022/Manifest.toml`\n"
     ]
    }
   ],
   "source": [
    "using Pkg;\n",
    "Pkg.activate(\"CompTop2022\"); # Creates a development environment similar to a virtual environment in Python\n",
    "\n",
    "Pkg.add(\"Triangle\");\n",
    "Pkg.add(\"Combinatorics\")\n",
    "Pkg.add(\"Plots\");"
   ]
  },
  {
   "cell_type": "code",
   "execution_count": 4,
   "id": "41beeabe-b7b4-4594-9e26-62a5f3dd6538",
   "metadata": {},
   "outputs": [],
   "source": [
    "using Triangle\n",
    "using Plots\n",
    "using Combinatorics"
   ]
  },
  {
   "cell_type": "markdown",
   "id": "6a2fbcc2-70a5-44e1-b696-f087213f6ae0",
   "metadata": {},
   "source": [
    "## Initialization\n",
    "\n",
    "We will start by defining an Integer `n`, the number of points. Then we will define a $n \\times 2$  Matrix representing a random choice of $n$ points that lie in the unit square."
   ]
  },
  {
   "cell_type": "code",
   "execution_count": 5,
   "id": "7ff471ef-5c0c-4098-887f-a5c09866ef39",
   "metadata": {},
   "outputs": [
    {
     "data": {
      "text/plain": [
       "8×2 Matrix{Float64}:\n",
       " 0.783518  0.537674\n",
       " 0.780224  0.585916\n",
       " 0.808197  0.446276\n",
       " 0.82347   0.460317\n",
       " 0.361551  0.435554\n",
       " 0.201505  0.590446\n",
       " 0.175646  0.200107\n",
       " 0.897921  0.364439"
      ]
     },
     "execution_count": 5,
     "metadata": {},
     "output_type": "execute_result"
    }
   ],
   "source": [
    "n = 8\n",
    "points = rand(n, 2)"
   ]
  },
  {
   "cell_type": "markdown",
   "id": "b2e29a11-5fc8-4cdc-9024-b3d66749960d",
   "metadata": {},
   "source": [
    "Now use the `basic_triangulation` function of the `Triangle` package to create a triangulation of the *convex hull* of our point set. You also need to pass a labeling of the points to the function.\n",
    "\n",
    "The `basic_triangulation` returns a `Vector` containing the combinatorial data of the faces of a so called [Delaunay Triangulation](https://de.wikipedia.org/wiki/Delaunay-Triangulierung).\n",
    "\n",
    "You will learn about the details of this particular type of triangulation later in the lecture. \n",
    "\n",
    "For now it suffices to know that given our random set of points it is homeomorphic to $\\mathbb{B}^2$ and it's edge skeleton is a planar graph. (See pages 17 - 18 of [lecture 2](https://moodle2.uni-potsdam.de/pluginfile.php/2327336/mod_resource/content/1/Lecture_2_26Apr.pdf))\n",
    "\n",
    "Use the `?basic_triangulation` command to understand in and outputs of that function."
   ]
  },
  {
   "cell_type": "code",
   "execution_count": null,
   "id": "1fe7b677-28ca-4f22-a69d-3003d1210ea2",
   "metadata": {},
   "outputs": [],
   "source": [
    "?basic_triangulation"
   ]
  },
  {
   "cell_type": "markdown",
   "id": "b0e2d38c-2e23-452a-b413-bbeaebe53f91",
   "metadata": {},
   "source": [
    "*Note: Unlike in the last exercise you won't really need to implement functions here. You can of course choose to do this. However this exercise is straight forward to solve as a sequence of commands without the need for encapsulating logic within functions.*"
   ]
  },
  {
   "cell_type": "code",
   "execution_count": 6,
   "id": "05d68ae5-26e6-43db-9dd4-3755be806e06",
   "metadata": {},
   "outputs": [
    {
     "data": {
      "text/plain": [
       "10-element Vector{Vector{Int64}}:\n",
       " [7, 5, 6]\n",
       " [2, 5, 1]\n",
       " [2, 6, 5]\n",
       " [5, 7, 8]\n",
       " [3, 8, 4]\n",
       " [8, 3, 5]\n",
       " [4, 8, 2]\n",
       " [4, 1, 3]\n",
       " [2, 1, 4]\n",
       " [3, 1, 5]"
      ]
     },
     "execution_count": 6,
     "metadata": {},
     "output_type": "execute_result"
    }
   ],
   "source": [
    "# YOUR CODE HERE -> 15 points\n",
    "node_labels = [i for i in 1:n]\n",
    "faces = basic_triangulation(points, node_labels)"
   ]
  },
  {
   "cell_type": "markdown",
   "id": "911b28e0-c9ef-4a14-bc42-d16e9f2b44ae",
   "metadata": {},
   "source": [
    "## Extracting the relevant data\n",
    "\n",
    "Given the returned `Vector{Vector{Int64}}` representing the faces of the triangulation you need to construct data containers that contain the information you need to later on generate the desired plot of the triangulation.  \n",
    "\n",
    "You need:\n",
    "\n",
    "`interior points`\n",
    "\n",
    "`exterior points`\n",
    "\n",
    "`interior edges`\n",
    "\n",
    "`exterior edges`\n",
    "\n",
    "Some functions that **MIGHT** be helpful (depending on your implementation) are: \n",
    "\n",
    "`powerset` from the `Combinatorics` package. \n",
    "\n",
    "`collect`and `any` from the `Base` package. (Base is always used when starting Julia.)\n",
    "\n",
    "Again you can use `?powerset` etc. to get some further information on these functions."
   ]
  },
  {
   "cell_type": "code",
   "execution_count": null,
   "id": "265bdc72-2954-439d-85c2-77ff22fef7ed",
   "metadata": {},
   "outputs": [],
   "source": [
    "?powerset"
   ]
  },
  {
   "cell_type": "code",
   "execution_count": null,
   "id": "6ddca761-5c90-4946-9f82-980df9a73fa4",
   "metadata": {},
   "outputs": [],
   "source": [
    "?collect"
   ]
  },
  {
   "cell_type": "code",
   "execution_count": null,
   "id": "d85621d5-b4a9-4aa2-9951-6e7e55dd9325",
   "metadata": {},
   "outputs": [],
   "source": [
    "?any"
   ]
  },
  {
   "cell_type": "markdown",
   "id": "23236b13-ffb9-4f82-b638-06b1a848b320",
   "metadata": {},
   "source": [
    "## A Simple Plots Example\n",
    "\n",
    "It might be useful to play around with the `Plots` package a bit before you generate the data you need.\n"
   ]
  },
  {
   "cell_type": "code",
   "execution_count": 18,
   "id": "7221aed4-60f9-47f4-8d5a-736a87a1c358",
   "metadata": {},
   "outputs": [
    {
     "data": {
      "image/svg+xml": [
       "<?xml version=\"1.0\" encoding=\"utf-8\"?>\n",
       "<svg xmlns=\"http://www.w3.org/2000/svg\" xmlns:xlink=\"http://www.w3.org/1999/xlink\" width=\"600\" height=\"400\" viewBox=\"0 0 2400 1600\">\n",
       "<defs>\n",
       "  <clipPath id=\"clip420\">\n",
       "    <rect x=\"0\" y=\"0\" width=\"2400\" height=\"1600\"/>\n",
       "  </clipPath>\n",
       "</defs>\n",
       "<path clip-path=\"url(#clip420)\" d=\"\n",
       "M0 1600 L2400 1600 L2400 0 L0 0  Z\n",
       "  \" fill=\"#ffffff\" fill-rule=\"evenodd\" fill-opacity=\"1\"/>\n",
       "<defs>\n",
       "  <clipPath id=\"clip421\">\n",
       "    <rect x=\"480\" y=\"0\" width=\"1681\" height=\"1600\"/>\n",
       "  </clipPath>\n",
       "</defs>\n",
       "<path clip-path=\"url(#clip420)\" d=\"\n",
       "M156.112 1486.45 L2352.76 1486.45 L2352.76 47.2441 L156.112 47.2441  Z\n",
       "  \" fill=\"#ffffff\" fill-rule=\"evenodd\" fill-opacity=\"1\"/>\n",
       "<defs>\n",
       "  <clipPath id=\"clip422\">\n",
       "    <rect x=\"156\" y=\"47\" width=\"2198\" height=\"1440\"/>\n",
       "  </clipPath>\n",
       "</defs>\n",
       "<polyline clip-path=\"url(#clip422)\" style=\"stroke:#000000; stroke-linecap:butt; stroke-linejoin:round; stroke-width:2; stroke-opacity:0.1; fill:none\" points=\"\n",
       "  218.281,1486.45 218.281,47.2441 \n",
       "  \"/>\n",
       "<polyline clip-path=\"url(#clip422)\" style=\"stroke:#000000; stroke-linecap:butt; stroke-linejoin:round; stroke-width:2; stroke-opacity:0.1; fill:none\" points=\"\n",
       "  736.358,1486.45 736.358,47.2441 \n",
       "  \"/>\n",
       "<polyline clip-path=\"url(#clip422)\" style=\"stroke:#000000; stroke-linecap:butt; stroke-linejoin:round; stroke-width:2; stroke-opacity:0.1; fill:none\" points=\"\n",
       "  1254.43,1486.45 1254.43,47.2441 \n",
       "  \"/>\n",
       "<polyline clip-path=\"url(#clip422)\" style=\"stroke:#000000; stroke-linecap:butt; stroke-linejoin:round; stroke-width:2; stroke-opacity:0.1; fill:none\" points=\"\n",
       "  1772.51,1486.45 1772.51,47.2441 \n",
       "  \"/>\n",
       "<polyline clip-path=\"url(#clip422)\" style=\"stroke:#000000; stroke-linecap:butt; stroke-linejoin:round; stroke-width:2; stroke-opacity:0.1; fill:none\" points=\"\n",
       "  2290.59,1486.45 2290.59,47.2441 \n",
       "  \"/>\n",
       "<polyline clip-path=\"url(#clip420)\" style=\"stroke:#000000; stroke-linecap:butt; stroke-linejoin:round; stroke-width:4; stroke-opacity:1; fill:none\" points=\"\n",
       "  156.112,1486.45 2352.76,1486.45 \n",
       "  \"/>\n",
       "<polyline clip-path=\"url(#clip420)\" style=\"stroke:#000000; stroke-linecap:butt; stroke-linejoin:round; stroke-width:4; stroke-opacity:1; fill:none\" points=\"\n",
       "  218.281,1486.45 218.281,1467.55 \n",
       "  \"/>\n",
       "<polyline clip-path=\"url(#clip420)\" style=\"stroke:#000000; stroke-linecap:butt; stroke-linejoin:round; stroke-width:4; stroke-opacity:1; fill:none\" points=\"\n",
       "  736.358,1486.45 736.358,1467.55 \n",
       "  \"/>\n",
       "<polyline clip-path=\"url(#clip420)\" style=\"stroke:#000000; stroke-linecap:butt; stroke-linejoin:round; stroke-width:4; stroke-opacity:1; fill:none\" points=\"\n",
       "  1254.43,1486.45 1254.43,1467.55 \n",
       "  \"/>\n",
       "<polyline clip-path=\"url(#clip420)\" style=\"stroke:#000000; stroke-linecap:butt; stroke-linejoin:round; stroke-width:4; stroke-opacity:1; fill:none\" points=\"\n",
       "  1772.51,1486.45 1772.51,1467.55 \n",
       "  \"/>\n",
       "<polyline clip-path=\"url(#clip420)\" style=\"stroke:#000000; stroke-linecap:butt; stroke-linejoin:round; stroke-width:4; stroke-opacity:1; fill:none\" points=\"\n",
       "  2290.59,1486.45 2290.59,1467.55 \n",
       "  \"/>\n",
       "<path clip-path=\"url(#clip420)\" d=\"M195.666 1517.37 Q192.055 1517.37 190.226 1520.93 Q188.42 1524.47 188.42 1531.6 Q188.42 1538.71 190.226 1542.27 Q192.055 1545.82 195.666 1545.82 Q199.3 1545.82 201.105 1542.27 Q202.934 1538.71 202.934 1531.6 Q202.934 1524.47 201.105 1520.93 Q199.3 1517.37 195.666 1517.37 M195.666 1513.66 Q201.476 1513.66 204.531 1518.27 Q207.61 1522.85 207.61 1531.6 Q207.61 1540.33 204.531 1544.94 Q201.476 1549.52 195.666 1549.52 Q189.856 1549.52 186.777 1544.94 Q183.721 1540.33 183.721 1531.6 Q183.721 1522.85 186.777 1518.27 Q189.856 1513.66 195.666 1513.66 Z\" fill=\"#000000\" fill-rule=\"evenodd\" fill-opacity=\"1\" /><path clip-path=\"url(#clip420)\" d=\"M215.828 1542.97 L220.712 1542.97 L220.712 1548.85 L215.828 1548.85 L215.828 1542.97 Z\" fill=\"#000000\" fill-rule=\"evenodd\" fill-opacity=\"1\" /><path clip-path=\"url(#clip420)\" d=\"M240.897 1517.37 Q237.286 1517.37 235.457 1520.93 Q233.652 1524.47 233.652 1531.6 Q233.652 1538.71 235.457 1542.27 Q237.286 1545.82 240.897 1545.82 Q244.531 1545.82 246.337 1542.27 Q248.165 1538.71 248.165 1531.6 Q248.165 1524.47 246.337 1520.93 Q244.531 1517.37 240.897 1517.37 M240.897 1513.66 Q246.707 1513.66 249.763 1518.27 Q252.841 1522.85 252.841 1531.6 Q252.841 1540.33 249.763 1544.94 Q246.707 1549.52 240.897 1549.52 Q235.087 1549.52 232.008 1544.94 Q228.953 1540.33 228.953 1531.6 Q228.953 1522.85 232.008 1518.27 Q235.087 1513.66 240.897 1513.66 Z\" fill=\"#000000\" fill-rule=\"evenodd\" fill-opacity=\"1\" /><path clip-path=\"url(#clip420)\" d=\"M714.24 1517.37 Q710.629 1517.37 708.8 1520.93 Q706.994 1524.47 706.994 1531.6 Q706.994 1538.71 708.8 1542.27 Q710.629 1545.82 714.24 1545.82 Q717.874 1545.82 719.68 1542.27 Q721.508 1538.71 721.508 1531.6 Q721.508 1524.47 719.68 1520.93 Q717.874 1517.37 714.24 1517.37 M714.24 1513.66 Q720.05 1513.66 723.105 1518.27 Q726.184 1522.85 726.184 1531.6 Q726.184 1540.33 723.105 1544.94 Q720.05 1549.52 714.24 1549.52 Q708.43 1549.52 705.351 1544.94 Q702.295 1540.33 702.295 1531.6 Q702.295 1522.85 705.351 1518.27 Q708.43 1513.66 714.24 1513.66 Z\" fill=\"#000000\" fill-rule=\"evenodd\" fill-opacity=\"1\" /><path clip-path=\"url(#clip420)\" d=\"M734.402 1542.97 L739.286 1542.97 L739.286 1548.85 L734.402 1548.85 L734.402 1542.97 Z\" fill=\"#000000\" fill-rule=\"evenodd\" fill-opacity=\"1\" /><path clip-path=\"url(#clip420)\" d=\"M749.517 1514.29 L767.874 1514.29 L767.874 1518.22 L753.8 1518.22 L753.8 1526.7 Q754.818 1526.35 755.837 1526.19 Q756.855 1526 757.874 1526 Q763.661 1526 767.04 1529.17 Q770.42 1532.34 770.42 1537.76 Q770.42 1543.34 766.948 1546.44 Q763.476 1549.52 757.156 1549.52 Q754.98 1549.52 752.712 1549.15 Q750.466 1548.78 748.059 1548.04 L748.059 1543.34 Q750.142 1544.47 752.365 1545.03 Q754.587 1545.58 757.064 1545.58 Q761.068 1545.58 763.406 1543.48 Q765.744 1541.37 765.744 1537.76 Q765.744 1534.15 763.406 1532.04 Q761.068 1529.94 757.064 1529.94 Q755.189 1529.94 753.314 1530.35 Q751.462 1530.77 749.517 1531.65 L749.517 1514.29 Z\" fill=\"#000000\" fill-rule=\"evenodd\" fill-opacity=\"1\" /><path clip-path=\"url(#clip420)\" d=\"M1221.59 1544.91 L1229.23 1544.91 L1229.23 1518.55 L1220.92 1520.21 L1220.92 1515.95 L1229.18 1514.29 L1233.86 1514.29 L1233.86 1544.91 L1241.49 1544.91 L1241.49 1548.85 L1221.59 1548.85 L1221.59 1544.91 Z\" fill=\"#000000\" fill-rule=\"evenodd\" fill-opacity=\"1\" /><path clip-path=\"url(#clip420)\" d=\"M1250.94 1542.97 L1255.82 1542.97 L1255.82 1548.85 L1250.94 1548.85 L1250.94 1542.97 Z\" fill=\"#000000\" fill-rule=\"evenodd\" fill-opacity=\"1\" /><path clip-path=\"url(#clip420)\" d=\"M1276.01 1517.37 Q1272.4 1517.37 1270.57 1520.93 Q1268.76 1524.47 1268.76 1531.6 Q1268.76 1538.71 1270.57 1542.27 Q1272.4 1545.82 1276.01 1545.82 Q1279.64 1545.82 1281.45 1542.27 Q1283.28 1538.71 1283.28 1531.6 Q1283.28 1524.47 1281.45 1520.93 Q1279.64 1517.37 1276.01 1517.37 M1276.01 1513.66 Q1281.82 1513.66 1284.87 1518.27 Q1287.95 1522.85 1287.95 1531.6 Q1287.95 1540.33 1284.87 1544.94 Q1281.82 1549.52 1276.01 1549.52 Q1270.2 1549.52 1267.12 1544.94 Q1264.06 1540.33 1264.06 1531.6 Q1264.06 1522.85 1267.12 1518.27 Q1270.2 1513.66 1276.01 1513.66 Z\" fill=\"#000000\" fill-rule=\"evenodd\" fill-opacity=\"1\" /><path clip-path=\"url(#clip420)\" d=\"M1740.16 1544.91 L1747.8 1544.91 L1747.8 1518.55 L1739.49 1520.21 L1739.49 1515.95 L1747.75 1514.29 L1752.43 1514.29 L1752.43 1544.91 L1760.07 1544.91 L1760.07 1548.85 L1740.16 1548.85 L1740.16 1544.91 Z\" fill=\"#000000\" fill-rule=\"evenodd\" fill-opacity=\"1\" /><path clip-path=\"url(#clip420)\" d=\"M1769.51 1542.97 L1774.4 1542.97 L1774.4 1548.85 L1769.51 1548.85 L1769.51 1542.97 Z\" fill=\"#000000\" fill-rule=\"evenodd\" fill-opacity=\"1\" /><path clip-path=\"url(#clip420)\" d=\"M1784.63 1514.29 L1802.98 1514.29 L1802.98 1518.22 L1788.91 1518.22 L1788.91 1526.7 Q1789.93 1526.35 1790.95 1526.19 Q1791.97 1526 1792.98 1526 Q1798.77 1526 1802.15 1529.17 Q1805.53 1532.34 1805.53 1537.76 Q1805.53 1543.34 1802.06 1546.44 Q1798.59 1549.52 1792.27 1549.52 Q1790.09 1549.52 1787.82 1549.15 Q1785.58 1548.78 1783.17 1548.04 L1783.17 1543.34 Q1785.25 1544.47 1787.48 1545.03 Q1789.7 1545.58 1792.17 1545.58 Q1796.18 1545.58 1798.52 1543.48 Q1800.86 1541.37 1800.86 1537.76 Q1800.86 1534.15 1798.52 1532.04 Q1796.18 1529.94 1792.17 1529.94 Q1790.3 1529.94 1788.42 1530.35 Q1786.57 1530.77 1784.63 1531.65 L1784.63 1514.29 Z\" fill=\"#000000\" fill-rule=\"evenodd\" fill-opacity=\"1\" /><path clip-path=\"url(#clip420)\" d=\"M2261.83 1544.91 L2278.14 1544.91 L2278.14 1548.85 L2256.2 1548.85 L2256.2 1544.91 Q2258.86 1542.16 2263.45 1537.53 Q2268.05 1532.88 2269.23 1531.53 Q2271.48 1529.01 2272.36 1527.27 Q2273.26 1525.51 2273.26 1523.82 Q2273.26 1521.07 2271.32 1519.33 Q2269.39 1517.6 2266.29 1517.6 Q2264.09 1517.6 2261.64 1518.36 Q2259.21 1519.13 2256.43 1520.68 L2256.43 1515.95 Q2259.26 1514.82 2261.71 1514.24 Q2264.16 1513.66 2266.2 1513.66 Q2271.57 1513.66 2274.77 1516.35 Q2277.96 1519.03 2277.96 1523.52 Q2277.96 1525.65 2277.15 1527.57 Q2276.36 1529.47 2274.26 1532.07 Q2273.68 1532.74 2270.58 1535.95 Q2267.47 1539.15 2261.83 1544.91 Z\" fill=\"#000000\" fill-rule=\"evenodd\" fill-opacity=\"1\" /><path clip-path=\"url(#clip420)\" d=\"M2287.96 1542.97 L2292.84 1542.97 L2292.84 1548.85 L2287.96 1548.85 L2287.96 1542.97 Z\" fill=\"#000000\" fill-rule=\"evenodd\" fill-opacity=\"1\" /><path clip-path=\"url(#clip420)\" d=\"M2313.03 1517.37 Q2309.42 1517.37 2307.59 1520.93 Q2305.78 1524.47 2305.78 1531.6 Q2305.78 1538.71 2307.59 1542.27 Q2309.42 1545.82 2313.03 1545.82 Q2316.66 1545.82 2318.47 1542.27 Q2320.3 1538.71 2320.3 1531.6 Q2320.3 1524.47 2318.47 1520.93 Q2316.66 1517.37 2313.03 1517.37 M2313.03 1513.66 Q2318.84 1513.66 2321.89 1518.27 Q2324.97 1522.85 2324.97 1531.6 Q2324.97 1540.33 2321.89 1544.94 Q2318.84 1549.52 2313.03 1549.52 Q2307.22 1549.52 2304.14 1544.94 Q2301.08 1540.33 2301.08 1531.6 Q2301.08 1522.85 2304.14 1518.27 Q2307.22 1513.66 2313.03 1513.66 Z\" fill=\"#000000\" fill-rule=\"evenodd\" fill-opacity=\"1\" /><polyline clip-path=\"url(#clip422)\" style=\"stroke:#000000; stroke-linecap:butt; stroke-linejoin:round; stroke-width:2; stroke-opacity:0.1; fill:none\" points=\"\n",
       "  156.112,1445.72 2352.76,1445.72 \n",
       "  \"/>\n",
       "<polyline clip-path=\"url(#clip422)\" style=\"stroke:#000000; stroke-linecap:butt; stroke-linejoin:round; stroke-width:2; stroke-opacity:0.1; fill:none\" points=\"\n",
       "  156.112,1106.28 2352.76,1106.28 \n",
       "  \"/>\n",
       "<polyline clip-path=\"url(#clip422)\" style=\"stroke:#000000; stroke-linecap:butt; stroke-linejoin:round; stroke-width:2; stroke-opacity:0.1; fill:none\" points=\"\n",
       "  156.112,766.846 2352.76,766.846 \n",
       "  \"/>\n",
       "<polyline clip-path=\"url(#clip422)\" style=\"stroke:#000000; stroke-linecap:butt; stroke-linejoin:round; stroke-width:2; stroke-opacity:0.1; fill:none\" points=\"\n",
       "  156.112,427.411 2352.76,427.411 \n",
       "  \"/>\n",
       "<polyline clip-path=\"url(#clip422)\" style=\"stroke:#000000; stroke-linecap:butt; stroke-linejoin:round; stroke-width:2; stroke-opacity:0.1; fill:none\" points=\"\n",
       "  156.112,87.9763 2352.76,87.9763 \n",
       "  \"/>\n",
       "<polyline clip-path=\"url(#clip420)\" style=\"stroke:#000000; stroke-linecap:butt; stroke-linejoin:round; stroke-width:4; stroke-opacity:1; fill:none\" points=\"\n",
       "  156.112,1486.45 156.112,47.2441 \n",
       "  \"/>\n",
       "<polyline clip-path=\"url(#clip420)\" style=\"stroke:#000000; stroke-linecap:butt; stroke-linejoin:round; stroke-width:4; stroke-opacity:1; fill:none\" points=\"\n",
       "  156.112,1445.72 175.01,1445.72 \n",
       "  \"/>\n",
       "<polyline clip-path=\"url(#clip420)\" style=\"stroke:#000000; stroke-linecap:butt; stroke-linejoin:round; stroke-width:4; stroke-opacity:1; fill:none\" points=\"\n",
       "  156.112,1106.28 175.01,1106.28 \n",
       "  \"/>\n",
       "<polyline clip-path=\"url(#clip420)\" style=\"stroke:#000000; stroke-linecap:butt; stroke-linejoin:round; stroke-width:4; stroke-opacity:1; fill:none\" points=\"\n",
       "  156.112,766.846 175.01,766.846 \n",
       "  \"/>\n",
       "<polyline clip-path=\"url(#clip420)\" style=\"stroke:#000000; stroke-linecap:butt; stroke-linejoin:round; stroke-width:4; stroke-opacity:1; fill:none\" points=\"\n",
       "  156.112,427.411 175.01,427.411 \n",
       "  \"/>\n",
       "<polyline clip-path=\"url(#clip420)\" style=\"stroke:#000000; stroke-linecap:butt; stroke-linejoin:round; stroke-width:4; stroke-opacity:1; fill:none\" points=\"\n",
       "  156.112,87.9763 175.01,87.9763 \n",
       "  \"/>\n",
       "<path clip-path=\"url(#clip420)\" d=\"M62.9365 1431.51 Q59.3254 1431.51 57.4967 1435.08 Q55.6912 1438.62 55.6912 1445.75 Q55.6912 1452.86 57.4967 1456.42 Q59.3254 1459.96 62.9365 1459.96 Q66.5707 1459.96 68.3763 1456.42 Q70.205 1452.86 70.205 1445.75 Q70.205 1438.62 68.3763 1435.08 Q66.5707 1431.51 62.9365 1431.51 M62.9365 1427.81 Q68.7467 1427.81 71.8022 1432.42 Q74.8809 1437 74.8809 1445.75 Q74.8809 1454.48 71.8022 1459.08 Q68.7467 1463.67 62.9365 1463.67 Q57.1264 1463.67 54.0477 1459.08 Q50.9921 1454.48 50.9921 1445.75 Q50.9921 1437 54.0477 1432.42 Q57.1264 1427.81 62.9365 1427.81 Z\" fill=\"#000000\" fill-rule=\"evenodd\" fill-opacity=\"1\" /><path clip-path=\"url(#clip420)\" d=\"M83.0984 1457.12 L87.9827 1457.12 L87.9827 1463 L83.0984 1463 L83.0984 1457.12 Z\" fill=\"#000000\" fill-rule=\"evenodd\" fill-opacity=\"1\" /><path clip-path=\"url(#clip420)\" d=\"M108.168 1431.51 Q104.557 1431.51 102.728 1435.08 Q100.922 1438.62 100.922 1445.75 Q100.922 1452.86 102.728 1456.42 Q104.557 1459.96 108.168 1459.96 Q111.802 1459.96 113.608 1456.42 Q115.436 1452.86 115.436 1445.75 Q115.436 1438.62 113.608 1435.08 Q111.802 1431.51 108.168 1431.51 M108.168 1427.81 Q113.978 1427.81 117.033 1432.42 Q120.112 1437 120.112 1445.75 Q120.112 1454.48 117.033 1459.08 Q113.978 1463.67 108.168 1463.67 Q102.358 1463.67 99.2789 1459.08 Q96.2234 1454.48 96.2234 1445.75 Q96.2234 1437 99.2789 1432.42 Q102.358 1427.81 108.168 1427.81 Z\" fill=\"#000000\" fill-rule=\"evenodd\" fill-opacity=\"1\" /><path clip-path=\"url(#clip420)\" d=\"M63.9319 1092.08 Q60.3208 1092.08 58.4921 1095.64 Q56.6865 1099.19 56.6865 1106.32 Q56.6865 1113.42 58.4921 1116.99 Q60.3208 1120.53 63.9319 1120.53 Q67.5661 1120.53 69.3717 1116.99 Q71.2004 1113.42 71.2004 1106.32 Q71.2004 1099.19 69.3717 1095.64 Q67.5661 1092.08 63.9319 1092.08 M63.9319 1088.38 Q69.742 1088.38 72.7976 1092.98 Q75.8763 1097.57 75.8763 1106.32 Q75.8763 1115.04 72.7976 1119.65 Q69.742 1124.23 63.9319 1124.23 Q58.1217 1124.23 55.043 1119.65 Q51.9875 1115.04 51.9875 1106.32 Q51.9875 1097.57 55.043 1092.98 Q58.1217 1088.38 63.9319 1088.38 Z\" fill=\"#000000\" fill-rule=\"evenodd\" fill-opacity=\"1\" /><path clip-path=\"url(#clip420)\" d=\"M84.0938 1117.68 L88.978 1117.68 L88.978 1123.56 L84.0938 1123.56 L84.0938 1117.68 Z\" fill=\"#000000\" fill-rule=\"evenodd\" fill-opacity=\"1\" /><path clip-path=\"url(#clip420)\" d=\"M99.2095 1089 L117.566 1089 L117.566 1092.94 L103.492 1092.94 L103.492 1101.41 Q104.51 1101.06 105.529 1100.9 Q106.547 1100.71 107.566 1100.71 Q113.353 1100.71 116.733 1103.89 Q120.112 1107.06 120.112 1112.47 Q120.112 1118.05 116.64 1121.15 Q113.168 1124.23 106.848 1124.23 Q104.672 1124.23 102.404 1123.86 Q100.159 1123.49 97.7511 1122.75 L97.7511 1118.05 Q99.8345 1119.19 102.057 1119.74 Q104.279 1120.3 106.756 1120.3 Q110.76 1120.3 113.098 1118.19 Q115.436 1116.08 115.436 1112.47 Q115.436 1108.86 113.098 1106.76 Q110.76 1104.65 106.756 1104.65 Q104.881 1104.65 103.006 1105.07 Q101.154 1105.48 99.2095 1106.36 L99.2095 1089 Z\" fill=\"#000000\" fill-rule=\"evenodd\" fill-opacity=\"1\" /><path clip-path=\"url(#clip420)\" d=\"M53.7467 780.191 L61.3856 780.191 L61.3856 753.825 L53.0754 755.492 L53.0754 751.233 L61.3393 749.566 L66.0152 749.566 L66.0152 780.191 L73.654 780.191 L73.654 784.126 L53.7467 784.126 L53.7467 780.191 Z\" fill=\"#000000\" fill-rule=\"evenodd\" fill-opacity=\"1\" /><path clip-path=\"url(#clip420)\" d=\"M83.0984 778.246 L87.9827 778.246 L87.9827 784.126 L83.0984 784.126 L83.0984 778.246 Z\" fill=\"#000000\" fill-rule=\"evenodd\" fill-opacity=\"1\" /><path clip-path=\"url(#clip420)\" d=\"M108.168 752.645 Q104.557 752.645 102.728 756.209 Q100.922 759.751 100.922 766.881 Q100.922 773.987 102.728 777.552 Q104.557 781.094 108.168 781.094 Q111.802 781.094 113.608 777.552 Q115.436 773.987 115.436 766.881 Q115.436 759.751 113.608 756.209 Q111.802 752.645 108.168 752.645 M108.168 748.941 Q113.978 748.941 117.033 753.547 Q120.112 758.131 120.112 766.881 Q120.112 775.608 117.033 780.214 Q113.978 784.797 108.168 784.797 Q102.358 784.797 99.2789 780.214 Q96.2234 775.608 96.2234 766.881 Q96.2234 758.131 99.2789 753.547 Q102.358 748.941 108.168 748.941 Z\" fill=\"#000000\" fill-rule=\"evenodd\" fill-opacity=\"1\" /><path clip-path=\"url(#clip420)\" d=\"M54.7421 440.756 L62.381 440.756 L62.381 414.39 L54.0708 416.057 L54.0708 411.798 L62.3347 410.131 L67.0106 410.131 L67.0106 440.756 L74.6494 440.756 L74.6494 444.691 L54.7421 444.691 L54.7421 440.756 Z\" fill=\"#000000\" fill-rule=\"evenodd\" fill-opacity=\"1\" /><path clip-path=\"url(#clip420)\" d=\"M84.0938 438.812 L88.978 438.812 L88.978 444.691 L84.0938 444.691 L84.0938 438.812 Z\" fill=\"#000000\" fill-rule=\"evenodd\" fill-opacity=\"1\" /><path clip-path=\"url(#clip420)\" d=\"M99.2095 410.131 L117.566 410.131 L117.566 414.066 L103.492 414.066 L103.492 422.538 Q104.51 422.191 105.529 422.029 Q106.547 421.844 107.566 421.844 Q113.353 421.844 116.733 425.015 Q120.112 428.187 120.112 433.603 Q120.112 439.182 116.64 442.284 Q113.168 445.362 106.848 445.362 Q104.672 445.362 102.404 444.992 Q100.159 444.622 97.7511 443.881 L97.7511 439.182 Q99.8345 440.316 102.057 440.872 Q104.279 441.427 106.756 441.427 Q110.76 441.427 113.098 439.321 Q115.436 437.214 115.436 433.603 Q115.436 429.992 113.098 427.886 Q110.76 425.779 106.756 425.779 Q104.881 425.779 103.006 426.196 Q101.154 426.613 99.2095 427.492 L99.2095 410.131 Z\" fill=\"#000000\" fill-rule=\"evenodd\" fill-opacity=\"1\" /><path clip-path=\"url(#clip420)\" d=\"M56.9643 101.321 L73.2837 101.321 L73.2837 105.256 L51.3393 105.256 L51.3393 101.321 Q54.0014 98.5665 58.5847 93.9369 Q63.1911 89.2841 64.3717 87.9416 Q66.617 85.4184 67.4967 83.6823 Q68.3994 81.9231 68.3994 80.2333 Q68.3994 77.4786 66.455 75.7425 Q64.5337 74.0064 61.4319 74.0064 Q59.2328 74.0064 56.7791 74.7703 Q54.3486 75.5342 51.5708 77.0851 L51.5708 72.3629 Q54.3949 71.2287 56.8486 70.65 Q59.3023 70.0713 61.3393 70.0713 Q66.7096 70.0713 69.9041 72.7565 Q73.0985 75.4416 73.0985 79.9323 Q73.0985 82.062 72.2883 83.9832 Q71.5013 85.8814 69.3948 88.474 Q68.8161 89.1453 65.7143 92.3628 Q62.6124 95.5573 56.9643 101.321 Z\" fill=\"#000000\" fill-rule=\"evenodd\" fill-opacity=\"1\" /><path clip-path=\"url(#clip420)\" d=\"M83.0984 99.3767 L87.9827 99.3767 L87.9827 105.256 L83.0984 105.256 L83.0984 99.3767 Z\" fill=\"#000000\" fill-rule=\"evenodd\" fill-opacity=\"1\" /><path clip-path=\"url(#clip420)\" d=\"M108.168 73.775 Q104.557 73.775 102.728 77.3398 Q100.922 80.8814 100.922 88.011 Q100.922 95.1174 102.728 98.6822 Q104.557 102.224 108.168 102.224 Q111.802 102.224 113.608 98.6822 Q115.436 95.1174 115.436 88.011 Q115.436 80.8814 113.608 77.3398 Q111.802 73.775 108.168 73.775 M108.168 70.0713 Q113.978 70.0713 117.033 74.6777 Q120.112 79.261 120.112 88.011 Q120.112 96.7378 117.033 101.344 Q113.978 105.928 108.168 105.928 Q102.358 105.928 99.2789 101.344 Q96.2234 96.7378 96.2234 88.011 Q96.2234 79.261 99.2789 74.6777 Q102.358 70.0713 108.168 70.0713 Z\" fill=\"#000000\" fill-rule=\"evenodd\" fill-opacity=\"1\" /><polyline clip-path=\"url(#clip422)\" style=\"stroke:#008000; stroke-linecap:butt; stroke-linejoin:round; stroke-width:4; stroke-opacity:1; fill:none\" points=\"\n",
       "  218.281,1445.72 1254.43,87.9763 \n",
       "  \"/>\n",
       "<polyline clip-path=\"url(#clip422)\" style=\"stroke:#ffa500; stroke-linecap:butt; stroke-linejoin:round; stroke-width:4; stroke-opacity:1; fill:none\" points=\"\n",
       "  1254.43,87.9763 2290.59,1445.72 \n",
       "  \"/>\n",
       "<polyline clip-path=\"url(#clip422)\" style=\"stroke:#800080; stroke-linecap:butt; stroke-linejoin:round; stroke-width:4; stroke-opacity:1; fill:none\" points=\"\n",
       "  218.281,1445.72 2290.59,1445.72 \n",
       "  \"/>\n",
       "<circle clip-path=\"url(#clip422)\" cx=\"218.281\" cy=\"1445.72\" r=\"14\" fill=\"#000000\" fill-rule=\"evenodd\" fill-opacity=\"1\" stroke=\"none\"/>\n",
       "<circle clip-path=\"url(#clip422)\" cx=\"1254.43\" cy=\"87.9763\" r=\"14\" fill=\"#000000\" fill-rule=\"evenodd\" fill-opacity=\"1\" stroke=\"none\"/>\n",
       "<circle clip-path=\"url(#clip422)\" cx=\"2290.59\" cy=\"1445.72\" r=\"14\" fill=\"#000000\" fill-rule=\"evenodd\" fill-opacity=\"1\" stroke=\"none\"/>\n",
       "</svg>\n"
      ]
     },
     "execution_count": 18,
     "metadata": {},
     "output_type": "execute_result"
    }
   ],
   "source": [
    "example_points_x = [0, 1, 2]\n",
    "example_points_y = [0, 2, 0]\n",
    "\n",
    "example_fig = plot()\n",
    "\n",
    "plot!(example_fig, example_points_x[1:2], example_points_y[1:2], color = :green)\n",
    "plot!(example_fig, example_points_x[2:3], example_points_y[2:3], color = :orange)\n",
    "\n",
    "# Is there a more elegant way to do this?\n",
    "plot!(example_fig, [example_points_x[1], example_points_x[3]], [example_points_y[1], example_points_y[3]], color = :purple)\n",
    "\n",
    "scatter!(example_fig, example_points_x, example_points_y, legend = false, color = :black)"
   ]
  },
  {
   "cell_type": "code",
   "execution_count": null,
   "id": "53891d94-0d69-4362-9ec5-5608e577577d",
   "metadata": {},
   "outputs": [],
   "source": [
    "# YOUR CODE HERE -> 70 points"
   ]
  },
  {
   "cell_type": "code",
   "execution_count": null,
   "id": "3778133a-69e2-4eea-8484-750e20d4a40a",
   "metadata": {},
   "outputs": [],
   "source": [
    "exterior_edges = []\n",
    "interior_edges = []\n",
    "\n",
    "for face in faces\n",
    "    for edge in collect(powerset(face, 2, 2))\n",
    "        sort!(edge)\n",
    "        if !(edge in exterior_edges || edge in interior_edges)\n",
    "            if count([issubset(edge,face) for face in faces]) == 2\n",
    "                push!(interior_edges, edge)\n",
    "            else\n",
    "                push!(exterior_edges, edge)\n",
    "            end\n",
    "        end\n",
    "    end\n",
    "end"
   ]
  },
  {
   "cell_type": "code",
   "execution_count": null,
   "id": "5ebbeff0-09da-4cb4-abf3-777f205d3f9c",
   "metadata": {},
   "outputs": [],
   "source": [
    "exterior_points = []\n",
    "interior_points = []\n",
    "\n",
    "for i in node_labels\n",
    "    if any([i in edge for edge in exterior_edges])\n",
    "        push!(exterior_points, points[i, :])\n",
    "    else\n",
    "        push!(interior_points, points[i, :])\n",
    "    end\n",
    "end"
   ]
  },
  {
   "cell_type": "code",
   "execution_count": null,
   "id": "78925f9c-a4fd-45a9-9f1b-7a530569336b",
   "metadata": {},
   "outputs": [],
   "source": [
    "fig = plot()\n",
    "\n",
    "for edge in exterior_edges\n",
    "    xs = [points[edge[1], :][1], points[edge[2], :][1]]\n",
    "    ys = [points[edge[1], :][2], points[edge[2], :][2]]\n",
    "    plot!(fig,  xs, ys, color = :blue)\n",
    "end\n",
    "\n",
    "for edge in interior_edges\n",
    "    xs = [points[edge[1], :][1], points[edge[2], :][1]]\n",
    "    ys = [points[edge[1], :][2], points[edge[2], :][2]]\n",
    "    plot!(fig,  xs, ys, color = :orange)\n",
    "\n",
    "end\n",
    "\n",
    "scatter!(fig, [p[1] for p in interior_points], [p[2] for p in interior_points], color = :orange, legend = false)\n",
    "scatter!(fig, [p[1] for p in exterior_points], [p[2] for p in exterior_points], color = :blue, legend = false)\n",
    "\n",
    "fig"
   ]
  },
  {
   "cell_type": "code",
   "execution_count": null,
   "id": "0f6b9fba-7edc-467c-924c-5b60f879987a",
   "metadata": {},
   "outputs": [],
   "source": [
    "savefig(fig, \"example.png\")"
   ]
  },
  {
   "cell_type": "markdown",
   "id": "c37cb68f-bfaa-4d52-977d-99b7ff370f0f",
   "metadata": {},
   "source": [
    "## Some data evaluation\n",
    "\n",
    "To use some further functionality of the `Plots` package and get a visual representation of the ratio of interior to exterior points/edges create a side by side plot like the following: \n",
    "\n",
    "![](example_pies.png)\n",
    "\n",
    "Use the [pie!](https://docs.juliaplots.org/latest/gallery/gaston/generated/gaston-ref23/#gaston_demo_23)"
   ]
  },
  {
   "cell_type": "code",
   "execution_count": 19,
   "id": "4ab30c1f-63e7-4bd1-bc3b-d112afce0c75",
   "metadata": {},
   "outputs": [
    {
     "ename": "LoadError",
     "evalue": "UndefVarError: exterior_points not defined",
     "output_type": "error",
     "traceback": [
      "UndefVarError: exterior_points not defined",
      "",
      "Stacktrace:",
      " [1] top-level scope",
      "   @ In[19]:1",
      " [2] eval",
      "   @ ./boot.jl:360 [inlined]",
      " [3] include_string(mapexpr::typeof(REPL.softscope), mod::Module, code::String, filename::String)",
      "   @ Base ./loading.jl:1116"
     ]
    }
   ],
   "source": [
    "plot1 = pie([\"ext_p\",\"int_p\"], [size(exterior_points)[1], size(interior_points)[1]], title = \"Points\", l = 0.5)\n",
    "plot2 = pie([\"ext_e\", \"int_e\"], [size(exterior_edges)[1], size(interior_edges)[1]], title = \"Edges\", l = 0.5)\n",
    "pies = plot(plot1, plot2, layout = (1, 2), legend = true)"
   ]
  },
  {
   "cell_type": "code",
   "execution_count": null,
   "id": "ba8ec7fb-59af-4e70-af8e-16405d7669bf",
   "metadata": {},
   "outputs": [],
   "source": [
    "savefig(pies, \"example_pies.png\")"
   ]
  },
  {
   "cell_type": "code",
   "execution_count": null,
   "id": "55880a58-f4db-466e-93b7-b9fecf61f511",
   "metadata": {},
   "outputs": [],
   "source": []
  }
 ],
 "metadata": {
  "kernelspec": {
   "display_name": "Julia 1.6.3",
   "language": "julia",
   "name": "julia-1.6"
  },
  "language_info": {
   "file_extension": ".jl",
   "mimetype": "application/julia",
   "name": "julia",
   "version": "1.6.3"
  }
 },
 "nbformat": 4,
 "nbformat_minor": 5
}
