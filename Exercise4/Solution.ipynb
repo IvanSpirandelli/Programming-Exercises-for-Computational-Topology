{
 "cells": [
  {
   "cell_type": "markdown",
   "id": "6fa015ca-5be6-4e59-881e-20b84b6bb1e9",
   "metadata": {},
   "source": [
    "# Disclaimer\n",
    "\n",
    "Since this exercise is comparatively extensive you will have **two weeks** to complete it. This means you have to hand it in until 30.05. at 10 am. Furthermore you are allowed to hand it in in groups of **two**! \n",
    "\n",
    "If you work together, please both hand in the Exercise sheet on the moodle page. "
   ]
  },
  {
   "cell_type": "markdown",
   "id": "7ecf3457-5d39-45f8-8ffa-d740d680e847",
   "metadata": {},
   "source": [
    "# Datastructure of a triangulation\n",
    "\n",
    "In this exercise you will implement the data structure discussed in [II.2](https://www.maths.ed.ac.uk/~v1ranick/papers/edelcomp.pdf). \n",
    "\n",
    "You will then use it to check if a triangulation is orientable.\n",
    "\n",
    "In this exercise you will work with `StaticArrays`. A popular package for highly performant arrays in Julia. We are also including the `BenchmarkTools` package just in case you want to compare some running times. 🥇🥈"
   ]
  },
  {
   "cell_type": "code",
   "execution_count": 1,
   "id": "d7f0150e-0344-4343-b811-86c7b8520a40",
   "metadata": {},
   "outputs": [
    {
     "name": "stderr",
     "output_type": "stream",
     "text": [
      "\u001b[32m\u001b[1m  Activating\u001b[22m\u001b[39m project at `~/Desktop/Doktor/Lehre/Exercise4/CompTop2022`\n",
      "\u001b[32m\u001b[1m    Updating\u001b[22m\u001b[39m registry at `~/.julia/registries/General.toml`\n",
      "\u001b[32m\u001b[1m   Resolving\u001b[22m\u001b[39m package versions...\n",
      "\u001b[32m\u001b[1m  No Changes\u001b[22m\u001b[39m to `~/Desktop/Doktor/Lehre/Exercise4/CompTop2022/Project.toml`\n",
      "\u001b[32m\u001b[1m  No Changes\u001b[22m\u001b[39m to `~/Desktop/Doktor/Lehre/Exercise4/CompTop2022/Manifest.toml`\n",
      "\u001b[32m\u001b[1m   Resolving\u001b[22m\u001b[39m package versions...\n",
      "\u001b[32m\u001b[1m  No Changes\u001b[22m\u001b[39m to `~/Desktop/Doktor/Lehre/Exercise4/CompTop2022/Project.toml`\n",
      "\u001b[32m\u001b[1m  No Changes\u001b[22m\u001b[39m to `~/Desktop/Doktor/Lehre/Exercise4/CompTop2022/Manifest.toml`\n"
     ]
    }
   ],
   "source": [
    "using Pkg\n",
    "Pkg.activate(\"../CompTop2022\")\n",
    "Pkg.add(\"BenchmarkTools\")\n",
    "Pkg.add(\"StaticArrays\")\n",
    "using BenchmarkTools, StaticArrays"
   ]
  },
  {
   "cell_type": "markdown",
   "id": "bd09fc21-3260-4ea4-aa8c-cda640b53ee9",
   "metadata": {},
   "source": [
    "Let us begin by defining the `struct` that will represent a node in our graph. "
   ]
  },
  {
   "cell_type": "code",
   "execution_count": 2,
   "id": "cb53a05f-8c40-4af8-99bc-be3af466d33b",
   "metadata": {},
   "outputs": [],
   "source": [
    "mutable struct TriangleNode\n",
    "    orientation::Int # -1 means counter clockwise, 1 means clockwise, 0 means unmarked/unoriented\n",
    "    vertices::SVector{3, Int} # In lexicographical order. Also the order corresponding to index 0\n",
    "    neighbors::Union{Vector{TriangleNode}, Nothing} # An array storing pointers to the neighbors.\n",
    "end"
   ]
  },
  {
   "cell_type": "markdown",
   "id": "6b5f3297-fee8-4f44-ac8a-a1bd4349e9fa",
   "metadata": {},
   "source": [
    "You might notice that we do not store a vector of pointers to the `fnext` triangles (see lecture). Instead we will compute them whenever we need them. This will likely be slower when checking for orientability. However this keeps the `TriangleNode` a bit more lightweight which is nice.\n",
    "\n",
    "A second observation that is useful to make is that the type declared for neighbors is \n",
    "\n",
    "`Union{Vector{TriangleNode}, Nothing}`, which means: \n",
    "\n",
    "* **EITHER** a vector of triangles \n",
    "* **OR** `nothing`\n",
    "\n",
    "We declare it like this because when first constructing the node, we will not know its neighbors. Therefor we initialize this array as `nothing` until we constructed all nodes and found all neighbor relations. Then we will set the completed neighbor vector.\n",
    "\n",
    "Check the output of the following cell to see `nothing`. 😺"
   ]
  },
  {
   "cell_type": "code",
   "execution_count": 3,
   "id": "9f9af5cc-dac9-4fdc-b82c-1280394b2259",
   "metadata": {},
   "outputs": [],
   "source": [
    "nothing"
   ]
  },
  {
   "cell_type": "markdown",
   "id": "2b6cf2e3-0c8a-428a-8b4c-c5478f4de28e",
   "metadata": {},
   "source": [
    "## Some assumptions and conventions\n",
    "\n",
    "Firstly we will label vertices $1, ... , n$. Triangles are represented as collections of vertex labels. Meaning $[1,2,3]$, $[1,2,4]$ and so on. In this way we avoid a map from some `Char`s $a,b,c$ to some `Int`s $1,2,3$.\n",
    "\n",
    "Secondly we will asume, that the `zeroth_order` (meaning $\\iota = 0$) of some triangle $\\mu$ is the lexicographical order of its vertices. This means some triangle with vertices $1$, $2$ and $3$ will have zeroth order $[1,2,3]$. \n",
    "\n",
    "We will refer to `TriangleNode`s as $\\mu$ and to **ordered triangles** by a pair $(\\mu, \\iota)$.\n",
    "\n",
    "Consider the following array of triangle information representing a tetrahedron. Every face is ordered and you can assume that each data set you will get to create your triangulation graph is of this form."
   ]
  },
  {
   "cell_type": "code",
   "execution_count": 16,
   "id": "89306f83-fd3a-491a-82ed-ef11e802d243",
   "metadata": {},
   "outputs": [
    {
     "data": {
      "text/plain": [
       "4-element Vector{SVector{3, Int64}}:\n",
       " [1, 2, 3]\n",
       " [1, 2, 4]\n",
       " [1, 3, 4]\n",
       " [2, 3, 4]"
      ]
     },
     "execution_count": 16,
     "metadata": {},
     "output_type": "execute_result"
    }
   ],
   "source": [
    "tetrahedron_triangulation = [@SVector[1,2,3], @SVector[1,2,4], @SVector[1,3,4], @SVector[2,3,4]]"
   ]
  },
  {
   "cell_type": "markdown",
   "id": "4c4c57e6-2795-47bc-bdb2-252ee3b1c224",
   "metadata": {},
   "source": [
    "The following is a constructor of our `TriangleNode` that takes a `SVector` of length $3$ as Input and constructs a `TriangleNode` with unitialized neighbors and orientation set to $0$ meaning *unoriented*. \n",
    "\n",
    "It also makes sure that the Input is lexicographically ordered."
   ]
  },
  {
   "cell_type": "code",
   "execution_count": 17,
   "id": "4da44f11-f3ae-4d9a-b061-51222070d0ae",
   "metadata": {},
   "outputs": [
    {
     "data": {
      "text/plain": [
       "TriangleNode"
      ]
     },
     "execution_count": 17,
     "metadata": {},
     "output_type": "execute_result"
    }
   ],
   "source": [
    "function TriangleNode(vertices::SVector{3, Int})\n",
    "    if !(vertices[1] < vertices[2] < vertices[3])\n",
    "        error(\"Vertices not sorted!\")\n",
    "    end\n",
    "    \n",
    "    TriangleNode(0, vertices, nothing)\n",
    "end"
   ]
  },
  {
   "cell_type": "code",
   "execution_count": 18,
   "id": "34418058-b5ac-487d-bc42-6287317dd9a6",
   "metadata": {},
   "outputs": [
    {
     "data": {
      "text/plain": [
       "TriangleNode(0, [1, 2, 3], nothing)"
      ]
     },
     "execution_count": 18,
     "metadata": {},
     "output_type": "execute_result"
    }
   ],
   "source": [
    "# Example of constructor usage\n",
    "TriangleNode(@SVector[1,2,3])"
   ]
  },
  {
   "cell_type": "markdown",
   "id": "aef0f3a6-add3-4b81-9e91-38609caa72c0",
   "metadata": {},
   "source": [
    "# Graph initalization\n",
    "\n",
    "The first thing you need to do is to write a function that takes a `Vector{SVector{3, Int64}}`, representing ordered vertex sets of triangles, as Input and creates a graph of `TriangleNodes`. \n",
    "\n",
    "**All nodes in this graph need to have initialized neighbors!**\n",
    "\n",
    "The function should return either an `Iterator` over the nodes of the triangle graph or a `Vector` containing them."
   ]
  },
  {
   "cell_type": "code",
   "execution_count": 19,
   "id": "d7dfe76b-6177-485b-b095-82548014203a",
   "metadata": {},
   "outputs": [
    {
     "data": {
      "text/plain": [
       "1:3"
      ]
     },
     "execution_count": 19,
     "metadata": {},
     "output_type": "execute_result"
    }
   ],
   "source": [
    "# Reminder on iterators: \n",
    "iter = 1:3 # This is an iterator"
   ]
  },
  {
   "cell_type": "code",
   "execution_count": 20,
   "id": "46fce196-dc93-4e11-b953-a44e1d1b9871",
   "metadata": {},
   "outputs": [
    {
     "data": {
      "text/plain": [
       "3-element Vector{Int64}:\n",
       " 1\n",
       " 2\n",
       " 3"
      ]
     },
     "execution_count": 20,
     "metadata": {},
     "output_type": "execute_result"
    }
   ],
   "source": [
    "elements = collect(iter) # This is the data the iterator iterates over."
   ]
  },
  {
   "cell_type": "markdown",
   "id": "7a4f5d80-b157-4039-a50d-faede1374371",
   "metadata": {},
   "source": [
    "Tips for implementing this: \n",
    "\n",
    "* Construct a dicitonary containing the `faces` as keys and the constructed `TriangleNodes` as values\n",
    "* Construct neighbor vectors for each `TriangleNode` in the dictionary and assign them. *Hint: You can also use the keys to check if two triangles share an edge*.\n",
    "* return `values(your_dict)` which already is an iterator.\n"
   ]
  },
  {
   "cell_type": "code",
   "execution_count": 21,
   "id": "c6fa1b8c-7854-4dfb-923d-8425293cbc5e",
   "metadata": {},
   "outputs": [
    {
     "data": {
      "text/plain": [
       "construct_graph (generic function with 1 method)"
      ]
     },
     "execution_count": 21,
     "metadata": {},
     "output_type": "execute_result"
    }
   ],
   "source": [
    "# Example input: \n",
    "# tetrahedron_triangulation = [@SVector[1,2,3], @SVector[1,2,4], @SVector[1,3,4], @SVector[2,3,4]]\n",
    "function construct_graph(faces::Vector{SVector{3, Int64}})\n",
    "    # Create a an OrderedTriangle for each face of the input and save it in a dict.\n",
    "    # We use the SVector representing the face as key. We still need to include the neighbor relations.\n",
    "    node_dict = \n",
    "    Dict((first_order => TriangleNode(first_order) for first_order in faces))\n",
    "    \n",
    "    for current in faces\n",
    "        neighbors = []  \n",
    "        for pot_neighbor in faces\n",
    "            if current != pot_neighbor\n",
    "                \n",
    "                edge_one = current[SVector(1,2)]\n",
    "                if issubset(edge_one, pot_neighbor)\n",
    "                    push!(neighbors, node_dict[pot_neighbor])\n",
    "                end\n",
    "                \n",
    "                edge_two = current[SVector(1,3)]\n",
    "                if issubset(edge_two, pot_neighbor)\n",
    "                    push!(neighbors, node_dict[pot_neighbor])\n",
    "                end\n",
    "                \n",
    "                edge_three = current[SVector(2,3)]\n",
    "                if issubset(edge_three, pot_neighbor)\n",
    "                    push!(neighbors, node_dict[pot_neighbor])\n",
    "                end\n",
    "            end\n",
    "        end\n",
    "        node_dict[current].neighbors = neighbors\n",
    "    end\n",
    "    values(node_dict) #Returns an iterator over all ordered triangles\n",
    "end"
   ]
  },
  {
   "cell_type": "markdown",
   "id": "512fa106-806d-4c78-b653-f16bc571357d",
   "metadata": {},
   "source": [
    "**You can test your implementation by running the following cell.**"
   ]
  },
  {
   "cell_type": "code",
   "execution_count": 22,
   "id": "614810df-e077-4c47-b682-1acbfa872e81",
   "metadata": {},
   "outputs": [],
   "source": [
    "tetrahedron_triangulation = [@SVector[1,2,3], @SVector[1,2,4], @SVector[1,3,4], @SVector[2,3,4]]\n",
    "graph = construct_graph(tetrahedron_triangulation)\n",
    "\n",
    "# Check that every triangle has three neighbors\n",
    "for μ in graph\n",
    "    @assert length(μ.neighbors) == 3\n",
    "end\n",
    "\n",
    "# Make sure all neighbors share two vertices\n",
    "for μ in graph\n",
    "    for neighbor in μ.neighbors\n",
    "        @assert count(i->(i in μ.vertices), neighbor.vertices) == 2\n",
    "    end\n",
    "end\n",
    "\n",
    "# Make sure that every triangle is its own neighbors neighbor!\n",
    "for μ in graph\n",
    "    for neighbor in μ.neighbors\n",
    "        @assert μ in neighbor.neighbors\n",
    "    end\n",
    "end"
   ]
  },
  {
   "cell_type": "markdown",
   "id": "84ed3049-9924-40ed-a40b-d2c7434f61a1",
   "metadata": {},
   "source": [
    "# ORDER!\n",
    "\n",
    "Write a function called `get_order(zeroth_order::SVector{3, Int}, ι::Int)` that takes some `zeroth_order` and an order index `iota` as input and returns an `SVector{3, Int64}` representing the order of vertices corresponding  to `iota`.\n",
    "\n",
    "Check the tests for further insights!"
   ]
  },
  {
   "cell_type": "code",
   "execution_count": 23,
   "id": "89042a17-76fc-4f76-9778-1d1dac18c3a2",
   "metadata": {},
   "outputs": [],
   "source": [
    "function get_order(zeroth_order::SVector{3, Int}, ι::Int)\n",
    "    if ι == 0 return @SVector[zeroth_order[1], zeroth_order[2], zeroth_order[3]] end \n",
    "    if ι == 1 return @SVector[zeroth_order[2], zeroth_order[3], zeroth_order[1]] end\n",
    "    if ι == 2 return @SVector[zeroth_order[3], zeroth_order[1], zeroth_order[2]] end\n",
    "    if ι == 4 return @SVector[zeroth_order[2], zeroth_order[1], zeroth_order[3]] end\n",
    "    if ι == 5 return @SVector[zeroth_order[3], zeroth_order[2], zeroth_order[1]] end\n",
    "    if ι == 6 return @SVector[zeroth_order[1], zeroth_order[3], zeroth_order[2]] end\n",
    "    @SVector[nothing]\n",
    "end\n",
    "\n",
    "# Testing\n",
    "zeroth_order = @SVector[1,2,3]\n",
    "@assert get_order(zeroth_order, 0) == [1,2,3] # NOTE: The return of get_order is an SVector but \"==\" works as if it were a Base.Vector\n",
    "@assert get_order(zeroth_order, 1) == [2,3,1]\n",
    "@assert get_order(zeroth_order, 2) == [3,1,2]\n",
    "@assert get_order(zeroth_order, 4) == [2,1,3]\n",
    "@assert get_order(zeroth_order, 5) == [3,2,1]\n",
    "@assert get_order(zeroth_order, 6) == [1,3,2]\n",
    "@assert get_order(zeroth_order, 7) == [nothing]"
   ]
  },
  {
   "cell_type": "markdown",
   "id": "1140fe3a-5cee-4cb7-b178-6bd584faacef",
   "metadata": {},
   "source": [
    "Now write an inverse function `get_iota(order::SVector{3, Int})` that takes an `SVector{3, Int64}` as Input and returns an `Int` representing the order. This is possible because we have agreed that the `zeroth_order` is always the vertex set in lexicographical order."
   ]
  },
  {
   "cell_type": "code",
   "execution_count": 24,
   "id": "f83b423c-4b17-4eb5-bffd-80fb20721f83",
   "metadata": {},
   "outputs": [],
   "source": [
    "function get_iota(order::SVector{3, Int})\n",
    "    zeroth_order = sort(order)\n",
    "    if order == [zeroth_order[1], zeroth_order[2], zeroth_order[3]] return 0 end\n",
    "    if order == [zeroth_order[2], zeroth_order[3], zeroth_order[1]] return 1 end\n",
    "    if order == [zeroth_order[3], zeroth_order[1], zeroth_order[2]] return 2 end\n",
    "    if order == [zeroth_order[2], zeroth_order[1], zeroth_order[3]] return 4 end\n",
    "    if order == [zeroth_order[3], zeroth_order[2], zeroth_order[1]] return 5 end\n",
    "    if order == [zeroth_order[1], zeroth_order[3], zeroth_order[2]] return 6 end\n",
    "    return 0\n",
    "end\n",
    "\n",
    "@assert get_iota(@SVector[1,2,3]) == 0\n",
    "@assert get_iota(@SVector[2,3,1]) == 1\n",
    "@assert get_iota(@SVector[3,1,2]) == 2\n",
    "@assert get_iota(@SVector[2,1,3]) == 4\n",
    "@assert get_iota(@SVector[3,2,1]) == 5\n",
    "@assert get_iota(@SVector[1,3,2]) == 6"
   ]
  },
  {
   "cell_type": "markdown",
   "id": "e566309d-9d0b-497f-a294-68ef6d36ec7f",
   "metadata": {},
   "source": [
    "**Great!** Now write another version `get_order((μ, ι)::Tuple{TriangleNode, Int64})` that takes an *ordered triangle*, i.e. a `TriangleNode`and an order index `iota` as Input.  \n",
    "\n",
    "Tip: Use the function you already wrote! The data you need is contained in the `TriangleNode`."
   ]
  },
  {
   "cell_type": "code",
   "execution_count": 25,
   "id": "4dd8f625-306b-4652-a4c3-c59179a127cd",
   "metadata": {},
   "outputs": [],
   "source": [
    "function get_order((μ, ι)::Tuple{TriangleNode, Int64})\n",
    "    get_order(μ.vertices, ι)\n",
    "end\n",
    "\n",
    "# Testing\n",
    "\n",
    "μ = TriangleNode(@SVector[1,2,3])\n",
    "@assert get_order((μ, 0)) == [1,2,3]\n",
    "@assert get_order((μ, 1)) == [2,3,1]\n",
    "@assert get_order((μ, 2)) == [3,1,2]\n",
    "@assert get_order((μ, 4)) == [2,1,3]\n",
    "@assert get_order((μ, 5)) == [3,2,1]\n",
    "@assert get_order((μ, 6)) == [1,3,2]\n",
    "@assert get_order((μ, 7)) == [nothing]"
   ]
  },
  {
   "cell_type": "markdown",
   "id": "246928b8-c000-465d-b913-d22598ddd682",
   "metadata": {},
   "source": [
    "Implement \n",
    "\n",
    "* `enext((μ, ι)::Tuple{TriangleNode, Int64})` \n",
    "* `sym((μ, ι)::Tuple{TriangleNode, Int64})`\n",
    "\n",
    "from the lecture. Note that although we do input a tuple containing a `TriangleNode` because we like to call some composites of functions later on strictly speaking we only need $\\iota$ as input. \n",
    "\n",
    "The function should return a tuple $(\\mu, \\kappa)$ where $\\kappa$ is the new order index."
   ]
  },
  {
   "cell_type": "code",
   "execution_count": 26,
   "id": "6f5cd0ec-b95e-4ccc-8cf9-84e238ba9eb2",
   "metadata": {},
   "outputs": [
    {
     "data": {
      "text/plain": [
       "sym (generic function with 1 method)"
      ]
     },
     "execution_count": 26,
     "metadata": {},
     "output_type": "execute_result"
    }
   ],
   "source": [
    "# 0 -> 1 -> 2 -> 0 | 4 -> 6 -> 5 -> 4\n",
    "function enext((μ, ι)::Tuple{TriangleNode, Int64})\n",
    "    @assert ι in 0:2 || ι in 4:6\n",
    "    if 0 <= ι <= 2 \n",
    "        κ = (ι + 1) % 3\n",
    "    elseif 4 <= ι <= 6\n",
    "        κ = (ι + 1) % 3 +4\n",
    "    end\n",
    "    (μ,κ)\n",
    "end\n",
    "\n",
    "# 0 <-> 4 | 1 <-> 5 | 2 <-> 6\n",
    "function sym((μ, ι)::Tuple{TriangleNode, Int64})\n",
    "    @assert ι in 0:2 || ι in 4:6\n",
    "    κ = (ι + 4) % 8\n",
    "    (μ,κ)\n",
    "end"
   ]
  },
  {
   "cell_type": "code",
   "execution_count": 27,
   "id": "49a3cab5-7cf7-4be6-9d39-4f433e962706",
   "metadata": {},
   "outputs": [],
   "source": [
    "# Testing\n",
    "\n",
    "μ = TriangleNode(@SVector[1,2,3])\n",
    "ι = 0\n",
    "\n",
    "@assert μ.orientation == 0\n",
    "(μ, κ) = enext((μ, ι))\n",
    "@assert ι == 0\n",
    "@assert κ == 1\n",
    "@assert enext(enext((μ, 1))) == (μ, 0)\n",
    "\n",
    "@assert enext(enext(enext((μ, 6)))) == (μ, 6)\n",
    "@assert sym(enext((μ, 6))) == (μ, 1)\n",
    "@assert sym(sym((μ, 1))) == (μ, 1)"
   ]
  },
  {
   "cell_type": "markdown",
   "id": "ce8f262e-f22f-48e7-90a5-2174dfa1f3c0",
   "metadata": {},
   "source": [
    "Alright now we still need `fnext`. Unlike described in the lecture we will not compute it once and save all references in the `TriangleNode` structs. We will compute `fnext` whenever we need it. In terms of implementation this just means, that `fnext`contains code we would have otherwise called on initialization.\n",
    "\n",
    "A useful helper function for that is `get_lead_edge((μ, ι)::Tuple{OrderedTriangle, Int64})` which you can implement and test in the next cell. \n",
    "\n",
    "**Examples**: \n",
    "+ An ordered triangle $[1,2,3]$ (which means $\\iota = 0$) has lead edge $[1,2]$\n",
    "+ An ordered triangle $[2,1,3]$ (which means $\\iota = 4$) has lead edge $[2,1]$\n",
    "+ You can also get these examples from the tests :)"
   ]
  },
  {
   "cell_type": "code",
   "execution_count": 28,
   "id": "0d3070ba-dc15-4950-b15e-fa4709787a37",
   "metadata": {},
   "outputs": [],
   "source": [
    "function get_lead_edge((μ, ι)::Tuple{TriangleNode, Int64})\n",
    "    get_order((μ, ι))[SVector(1,2)]\n",
    "end\n",
    "\n",
    "\n",
    "# Testing\n",
    "μ = TriangleNode(@SVector[1,2,3])\n",
    "ι = 0\n",
    "\n",
    "@assert get_lead_edge((μ, ι)) == [1,2]\n",
    "@assert get_lead_edge(sym((μ, ι))) == [2,1]"
   ]
  },
  {
   "cell_type": "markdown",
   "id": "056facb8-e47e-4414-916e-7e5cc167eaa9",
   "metadata": {},
   "source": [
    "Now we can write `fnext((μ, ι)::Tuple{OrderedTriangle, Int64})` which returns the ordered triangle $(\\nu, \\kappa)$ that has the same lead edge as $(\\mu, \\iota)$."
   ]
  },
  {
   "cell_type": "code",
   "execution_count": 29,
   "id": "1c19c23d-7bf8-4c10-96cc-5e0923fea9de",
   "metadata": {},
   "outputs": [
    {
     "data": {
      "text/plain": [
       "fnext (generic function with 1 method)"
      ]
     },
     "execution_count": 29,
     "metadata": {},
     "output_type": "execute_result"
    }
   ],
   "source": [
    "function fnext((μ, ι)::Tuple{TriangleNode, Int64})\n",
    "    lead_edge = get_lead_edge((μ, ι))\n",
    "    for neighbor in μ.neighbors\n",
    "        if issubset(lead_edge, neighbor.vertices)\n",
    "             last_vertex = [x for x ∈ neighbor.vertices if x ∉ lead_edge][1]\n",
    "             fnext_order = @SVector[lead_edge[1], lead_edge[2], last_vertex]\n",
    "             κ = get_iota(fnext_order)\n",
    "             return (neighbor, κ)\n",
    "        end\n",
    "    end\n",
    "end"
   ]
  },
  {
   "cell_type": "code",
   "execution_count": 30,
   "id": "99e78612-dbd1-47a2-9923-54b859a95212",
   "metadata": {},
   "outputs": [],
   "source": [
    "# Testing\n",
    "tetrahedron_triangulation = [@SVector[1,2,3], @SVector[1,2,4], @SVector[1,3,4], @SVector[2,3,4]]\n",
    "graph = construct_graph(tetrahedron_triangulation)\n",
    "\n",
    "μ = first(graph)\n",
    "ι = 0\n",
    "(ν, κ) = fnext((μ, ι))\n",
    "\n",
    "@assert get_lead_edge((μ, ι)) == get_lead_edge((ν, κ))\n",
    "@assert ν in μ.neighbors\n",
    "@assert fnext((ν, κ)) == (μ, ι)"
   ]
  },
  {
   "cell_type": "markdown",
   "id": "c83626fe-aa39-4070-b13c-9440410d86b0",
   "metadata": {},
   "source": [
    "Finally implement the `is_orientable((μ, ι)::Tuple{TriangleNode, Int64})` function. You can use the `orientation` field from the `TriangleNode` struct for saving the orientation and maintaining if a triangle was already marked."
   ]
  },
  {
   "cell_type": "code",
   "execution_count": 34,
   "id": "21e64880-2181-4541-a072-d888ece8066a",
   "metadata": {},
   "outputs": [
    {
     "data": {
      "text/plain": [
       "is_orientable (generic function with 1 method)"
      ]
     },
     "execution_count": 34,
     "metadata": {},
     "output_type": "execute_result"
    }
   ],
   "source": [
    "function is_orientable((μ, ι)::Tuple{TriangleNode, Int64})\n",
    "    if μ.orientation == 0\n",
    "        0 <= ι <= 2 ? μ.orientation = -1 : μ.orientation = 1 \n",
    "        a = is_orientable(fnext(sym((μ, ι))))\n",
    "        b = is_orientable(fnext(enext(sym((μ, ι)))))\n",
    "        c = is_orientable(fnext(enext(enext(sym((μ, ι))))))\n",
    "        return a && b && c\n",
    "    else\n",
    "        return (μ.orientation == -1 && ι ∈ 0:2) || (μ.orientation == 1 && ι ∈ 3:6)\n",
    "    end\n",
    "end"
   ]
  },
  {
   "cell_type": "code",
   "execution_count": 35,
   "id": "3f24e33b-b7bb-4e10-bbc2-c2dfe31476bf",
   "metadata": {},
   "outputs": [],
   "source": [
    "tetrahedron_triangulation = [@SVector[1,2,3], @SVector[1,2,4], @SVector[1,3,4], @SVector[2,3,4]]\n",
    "graph = construct_graph(tetrahedron_triangulation)\n",
    "\n",
    "μ = first(graph)\n",
    "@assert is_orientable((μ, 0)) == true"
   ]
  },
  {
   "cell_type": "code",
   "execution_count": 36,
   "id": "d6b90cf8-a450-41c2-b168-082966ba2c46",
   "metadata": {},
   "outputs": [],
   "source": [
    "pp_triangulation = [@SVector[1,2,4], @SVector[1,3,4], @SVector[1,2,6], @SVector[1,5,6], @SVector[1,3,5], @SVector[2,3,5], @SVector[2,4,5], @SVector[4,5,6], @SVector[3,4,6], @SVector[2,3,6]]\n",
    "graph = construct_graph(pp_triangulation)\n",
    "\n",
    "μ = first(graph)\n",
    "@assert is_orientable((μ, 0)) == false"
   ]
  },
  {
   "cell_type": "markdown",
   "id": "24f94014-b8ab-41a8-88a1-05897ad393e0",
   "metadata": {},
   "source": [
    "# Congratulations!\n",
    "\n",
    "Given the input as we had in this exercise, it is indeed trivial to get the number of triangles. Therefor, as soon as we have figured out how to check orientability, calculating the genus is too!"
   ]
  }
 ],
 "metadata": {
  "kernelspec": {
   "display_name": "Julia 1.8.1",
   "language": "julia",
   "name": "julia-1.8"
  },
  "language_info": {
   "file_extension": ".jl",
   "mimetype": "application/julia",
   "name": "julia",
   "version": "1.7.2"
  }
 },
 "nbformat": 4,
 "nbformat_minor": 5
}
