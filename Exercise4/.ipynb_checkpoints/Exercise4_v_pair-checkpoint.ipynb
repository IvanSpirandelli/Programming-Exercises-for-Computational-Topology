{
 "cells": [
  {
   "cell_type": "markdown",
   "id": "7ecf3457-5d39-45f8-8ffa-d740d680e847",
   "metadata": {},
   "source": [
    "# Datastructure of a triangulation\n",
    "\n",
    "In this exercise you will implement the data structure discussed in [Lecture 5](https://moodle2.uni-potsdam.de/pluginfile.php/2365328/mod_resource/content/2/Lecture_5_10May.pdf). \n",
    "\n",
    "You will then use it to check if a triangulation is orientable and compute its genus.\n",
    "\n",
    "In this exercise you will work with `StaticArrays`. A popular package for highly performant array operations. We are also including the `BenchmarkTools` package just in case you want to compare some running times. 😺\n"
   ]
  },
  {
   "cell_type": "code",
   "execution_count": 1,
   "id": "d7f0150e-0344-4343-b811-86c7b8520a40",
   "metadata": {},
   "outputs": [
    {
     "name": "stderr",
     "output_type": "stream",
     "text": [
      "\u001b[32m\u001b[1m  Activating\u001b[22m\u001b[39m project at `~/Desktop/Doktor/Lehre/Exercise4/CompTop2022`\n",
      "\u001b[32m\u001b[1m    Updating\u001b[22m\u001b[39m registry at `~/.julia/registries/General.toml`\n",
      "\u001b[32m\u001b[1m   Resolving\u001b[22m\u001b[39m package versions...\n",
      "\u001b[32m\u001b[1m  No Changes\u001b[22m\u001b[39m to `~/Desktop/Doktor/Lehre/Exercise4/CompTop2022/Project.toml`\n",
      "\u001b[32m\u001b[1m  No Changes\u001b[22m\u001b[39m to `~/Desktop/Doktor/Lehre/Exercise4/CompTop2022/Manifest.toml`\n",
      "\u001b[32m\u001b[1m   Resolving\u001b[22m\u001b[39m package versions...\n",
      "\u001b[32m\u001b[1m  No Changes\u001b[22m\u001b[39m to `~/Desktop/Doktor/Lehre/Exercise4/CompTop2022/Project.toml`\n",
      "\u001b[32m\u001b[1m  No Changes\u001b[22m\u001b[39m to `~/Desktop/Doktor/Lehre/Exercise4/CompTop2022/Manifest.toml`\n"
     ]
    }
   ],
   "source": [
    "using Pkg\n",
    "Pkg.activate(\"CompTop2022\")\n",
    "Pkg.add(\"BenchmarkTools\")\n",
    "Pkg.add(\"StaticArrays\")\n",
    "using BenchmarkTools, StaticArrays"
   ]
  },
  {
   "cell_type": "code",
   "execution_count": 2,
   "id": "f3c5793a-4327-47fc-9d46-15c44d073de9",
   "metadata": {},
   "outputs": [
    {
     "data": {
      "text/plain": [
       "get_order (generic function with 1 method)"
      ]
     },
     "execution_count": 2,
     "metadata": {},
     "output_type": "execute_result"
    }
   ],
   "source": [
    "function get_order(zeroth_order::SVector{3, Int}, ι::Int)\n",
    "    if ι == 0 return @SVector[zeroth_order[1], zeroth_order[2], zeroth_order[3]] end \n",
    "    if ι == 1 return @SVector[zeroth_order[2], zeroth_order[3], zeroth_order[1]] end\n",
    "    if ι == 2 return @SVector[zeroth_order[3], zeroth_order[1], zeroth_order[2]] end\n",
    "    if ι == 4 return @SVector[zeroth_order[2], zeroth_order[1], zeroth_order[3]] end\n",
    "    if ι == 5 return @SVector[zeroth_order[3], zeroth_order[2], zeroth_order[1]] end\n",
    "    if ι == 6 return @SVector[zeroth_order[1], zeroth_order[3], zeroth_order[2]] end\n",
    "    @SVector[nothing]\n",
    "end"
   ]
  },
  {
   "cell_type": "code",
   "execution_count": 3,
   "id": "f83b423c-4b17-4eb5-bffd-80fb20721f83",
   "metadata": {},
   "outputs": [
    {
     "data": {
      "text/plain": [
       "get_order_inline (generic function with 1 method)"
      ]
     },
     "execution_count": 3,
     "metadata": {},
     "output_type": "execute_result"
    }
   ],
   "source": [
    "function get_order_inline(zeroth_order::SVector{3, Int}, ι::Int)\n",
    "    if ι ∉ 0:2 && ι ∉ 3:6 return @SVector[nothing] end\n",
    "    iota <= 2 ? @SVector[zeroth_order[(ι + i) % 3 + 1] for i in 0:2] : @SVector[zeroth_order[(ι) % 3 + 1] for i in 0:2]\n",
    "end"
   ]
  },
  {
   "cell_type": "code",
   "execution_count": 4,
   "id": "f14f7432-883f-44c9-a748-75826fb78d22",
   "metadata": {},
   "outputs": [],
   "source": [
    "zeroth_order = @SVector[1,2,3]\n",
    "\n",
    "@assert get_order(zeroth_order, 0) == [1,2,3] # NOTE: The return of get_order is an SVector but \"==\" works as if it were a Base.Vector\n",
    "@assert get_order(zeroth_order, 1) == @SVector[2,3,1]\n",
    "@assert get_order(zeroth_order, 2) == [3,1,2]\n",
    "@assert get_order(zeroth_order, 4) == @SVector[2,1,3]\n",
    "@assert get_order(zeroth_order, 5) == [3,2,1]\n",
    "@assert get_order(zeroth_order, 6) == @SVector[1,3,2]\n",
    "@assert get_order(zeroth_order, 7) == [nothing]"
   ]
  },
  {
   "cell_type": "code",
   "execution_count": 5,
   "id": "a649ec54-3bfe-4adf-84de-61e7e558a8bb",
   "metadata": {},
   "outputs": [
    {
     "data": {
      "text/plain": [
       "get_all_orders (generic function with 1 method)"
      ]
     },
     "execution_count": 5,
     "metadata": {},
     "output_type": "execute_result"
    }
   ],
   "source": [
    "function get_all_orders(zeroth_order::SVector{3, Int})\n",
    "    @SVector[get_order(zeroth_order, i) for i in [0,1,2,4,5,6]]\n",
    "end"
   ]
  },
  {
   "cell_type": "code",
   "execution_count": 6,
   "id": "6dc5ebd2-6435-4828-a0cb-f1a6b6e649c1",
   "metadata": {},
   "outputs": [],
   "source": [
    "zeroth_order = @SVector[2,3,4]\n",
    "all_orders = get_all_orders(zeroth_order)\n",
    "@assert get_all_orders(zeroth_order) == [\n",
    "    [2,3,4],\n",
    "    [3,4,2],\n",
    "    [4,2,3],\n",
    "    [3,2,4],\n",
    "    [4,3,2],\n",
    "    [2,4,3]\n",
    "]"
   ]
  },
  {
   "cell_type": "code",
   "execution_count": 7,
   "id": "bba08cdc-2ac7-4f0d-8325-33c59988e170",
   "metadata": {},
   "outputs": [
    {
     "data": {
      "text/plain": [
       "get_order_index (generic function with 1 method)"
      ]
     },
     "execution_count": 7,
     "metadata": {},
     "output_type": "execute_result"
    }
   ],
   "source": [
    "function get_order_index(order::SVector{3, Int})\n",
    "    zeroth_order = sort(order)\n",
    "    if order == [zeroth_order[1], zeroth_order[2], zeroth_order[3]] return 0 end\n",
    "    if order == [zeroth_order[2], zeroth_order[3], zeroth_order[1]] return 1 end\n",
    "    if order == [zeroth_order[3], zeroth_order[1], zeroth_order[2]] return 2 end\n",
    "    if order == [zeroth_order[2], zeroth_order[1], zeroth_order[3]] return 4 end\n",
    "    if order == [zeroth_order[3], zeroth_order[2], zeroth_order[1]] return 5 end\n",
    "    if order == [zeroth_order[1], zeroth_order[3], zeroth_order[2]] return 6 end\n",
    "    return 0\n",
    "end"
   ]
  },
  {
   "cell_type": "code",
   "execution_count": 8,
   "id": "e9d9437a-c957-457e-860e-da58c1e9cab0",
   "metadata": {},
   "outputs": [],
   "source": [
    "zeroth_order = @SVector[1,2,3]\n",
    "all_orders = get_all_orders(zeroth_order)\n",
    "\n",
    "@assert get_order_index(@SVector[3,1,2]) == 2\n",
    "@assert get_order_index(@SVector[1,3,2]) == 6"
   ]
  },
  {
   "cell_type": "code",
   "execution_count": 9,
   "id": "7af1cebc-f1f7-40fc-b2e4-16c8c1bc0433",
   "metadata": {},
   "outputs": [],
   "source": [
    "mutable struct OrderedTriangle\n",
    "    orientation::Int # -1 means counter clockwise, 1 means clockwise, 0 means unmarked/unoriented\n",
    "    vertices::SVector{3, Int}\n",
    "    neighbors::Union{Vector{OrderedTriangle}, Nothing}\n",
    "end"
   ]
  },
  {
   "cell_type": "code",
   "execution_count": 10,
   "id": "a04cc85b-73a6-4b75-b212-6f5ea45e4e90",
   "metadata": {},
   "outputs": [
    {
     "data": {
      "text/plain": [
       "OrderedTriangle"
      ]
     },
     "execution_count": 10,
     "metadata": {},
     "output_type": "execute_result"
    }
   ],
   "source": [
    "function OrderedTriangle(identifier::SVector{3, Int})\n",
    "    if !(identifier[1] < identifier[2] < identifier[3])\n",
    "        error(\"Identifier not sorted!\")\n",
    "    end\n",
    "    \n",
    "    OrderedTriangle(0, identifier, nothing)\n",
    "end"
   ]
  },
  {
   "cell_type": "code",
   "execution_count": 11,
   "id": "b8785489-e9e9-4df3-b3bf-dfa6635ca656",
   "metadata": {},
   "outputs": [
    {
     "data": {
      "text/plain": [
       "OrderedTriangle(0, [1, 2, 3], nothing)"
      ]
     },
     "execution_count": 11,
     "metadata": {},
     "output_type": "execute_result"
    }
   ],
   "source": [
    "test_tri = OrderedTriangle(@SVector[1,2,3])"
   ]
  },
  {
   "cell_type": "code",
   "execution_count": 12,
   "id": "37023ab9-d284-49f2-8c2e-efa8e2168dd8",
   "metadata": {},
   "outputs": [
    {
     "data": {
      "text/plain": [
       "Tuple{OrderedTriangle, Int64}"
      ]
     },
     "execution_count": 12,
     "metadata": {},
     "output_type": "execute_result"
    }
   ],
   "source": [
    "typeof((test_tri, 1))"
   ]
  },
  {
   "cell_type": "code",
   "execution_count": 13,
   "id": "6f5cd0ec-b95e-4ccc-8cf9-84e238ba9eb2",
   "metadata": {},
   "outputs": [
    {
     "data": {
      "text/plain": [
       "sym (generic function with 1 method)"
      ]
     },
     "execution_count": 13,
     "metadata": {},
     "output_type": "execute_result"
    }
   ],
   "source": [
    "# 0 -> 1 -> 2 -> 0 | 4 -> 6 -> 5 -> 4\n",
    "function enext((μ, ι)::Tuple{OrderedTriangle, Int64})\n",
    "    @assert ι in 0:2 || ι in 4:6\n",
    "    if 0 <= ι <= 2 \n",
    "        κ = (ι + 1) % 3\n",
    "    elseif 4 <= ι <= 6\n",
    "        κ = (ι + 1) % 3 +4\n",
    "    end\n",
    "    (μ,κ)\n",
    "end\n",
    "\n",
    "# 0 <-> 4 | 1 <-> 5 | 2 <-> 6\n",
    "function sym((μ, ι)::Tuple{OrderedTriangle, Int64})\n",
    "    @assert ι in 0:2 || ι in 4:6\n",
    "    κ = (ι + 4) % 8\n",
    "    (μ,κ)\n",
    "end"
   ]
  },
  {
   "cell_type": "code",
   "execution_count": 14,
   "id": "49a3cab5-7cf7-4be6-9d39-4f433e962706",
   "metadata": {},
   "outputs": [],
   "source": [
    "μ = OrderedTriangle(@SVector[1,2,3])\n",
    "ι = 0\n",
    "\n",
    "@assert μ.orientation == 0\n",
    "(μ, κ) = enext((μ, ι))\n",
    "@assert ι == 0\n",
    "@assert κ == 1\n",
    "@assert enext(enext((μ, 1))) == (μ, 0)\n",
    "\n",
    "@assert enext(enext(enext((μ, 6)))) == (μ, 6)\n",
    "@assert sym(enext((μ, 6))) == (μ, 1)\n",
    "@assert sym(sym((μ, 1))) == (μ, 1)"
   ]
  },
  {
   "cell_type": "code",
   "execution_count": 55,
   "id": "1891b55f-260f-4411-8bd4-3e084fe7aa53",
   "metadata": {},
   "outputs": [
    {
     "data": {
      "text/plain": [
       "initialize_neighbor_relations (generic function with 1 method)"
      ]
     },
     "execution_count": 55,
     "metadata": {},
     "output_type": "execute_result"
    }
   ],
   "source": [
    "function initialize_neighbor_relations(faces)\n",
    "    # Create a an OrderedTriangle for each face of the input and save it in a dict.\n",
    "    # We use the SVector representing the face as key. We still need to include the neighbor relations.\n",
    "    node_dict = \n",
    "    Dict((first_order => OrderedTriangle(first_order) for first_order in faces))\n",
    "    \n",
    "    for current in faces\n",
    "        neighbors = []  \n",
    "        for pot_neighbor in faces\n",
    "            if current != pot_neighbor\n",
    "                \n",
    "                edge_one = current[SVector(1,2)]\n",
    "                if issubset(edge_one, pot_neighbor)\n",
    "                    push!(neighbors, node_dict[pot_neighbor])\n",
    "                end\n",
    "                \n",
    "                edge_two = current[SVector(1,3)]\n",
    "                if issubset(edge_two, pot_neighbor)\n",
    "                    push!(neighbors, node_dict[pot_neighbor])\n",
    "                end\n",
    "                \n",
    "                edge_three = current[SVector(2,3)]\n",
    "                if issubset(edge_three, pot_neighbor)\n",
    "                    push!(neighbors, node_dict[pot_neighbor])\n",
    "                end\n",
    "            end\n",
    "        end\n",
    "        node_dict[current].neighbors = neighbors\n",
    "    end\n",
    "    values(node_dict) #Returns an iterator over all ordered triangles\n",
    "end\n"
   ]
  },
  {
   "cell_type": "code",
   "execution_count": 56,
   "id": "b76f9771-7f62-4753-b658-e58f3f381140",
   "metadata": {},
   "outputs": [],
   "source": [
    "tetrahedron_triangulation = [@SVector[1,2,3], @SVector[1,2,4], @SVector[1,3,4], @SVector[2,3,4]]\n",
    "tri_iter = initialize_neighbor_relations(tetrahedron_triangulation)\n",
    "\n",
    "# Check that every triangle has three neighbors\n",
    "for μ in tri_iter\n",
    "    @assert length(μ.neighbors) == 3\n",
    "end\n",
    "\n",
    "# Make sure all neighbors share two\n",
    "for μ in tri_iter\n",
    "    for neighbor in μ.neighbors\n",
    "        @assert count(i->(i in μ.vertices), neighbor.vertices) == 2\n",
    "    end\n",
    "end\n",
    "\n",
    "# Make sure that every triangle is its own neighbors neighbor!\n",
    "for μ in tri_iter\n",
    "    for neighbor in μ.neighbors\n",
    "        @assert μ in neighbor.neighbors\n",
    "    end\n",
    "end"
   ]
  },
  {
   "cell_type": "code",
   "execution_count": 57,
   "id": "0d3070ba-dc15-4950-b15e-fa4709787a37",
   "metadata": {},
   "outputs": [
    {
     "data": {
      "text/plain": [
       "get_lead_edge (generic function with 1 method)"
      ]
     },
     "execution_count": 57,
     "metadata": {},
     "output_type": "execute_result"
    }
   ],
   "source": [
    "function get_order((μ, ι)::Tuple{OrderedTriangle, Int64})\n",
    "    get_order(μ.vertices, ι)\n",
    "end\n",
    "\n",
    "function get_lead_edge((μ, ι)::Tuple{OrderedTriangle, Int64})\n",
    "    get_order((μ, ι))[SVector(1,2)]\n",
    "end"
   ]
  },
  {
   "cell_type": "code",
   "execution_count": 58,
   "id": "2181ddbc-0a68-471b-8a54-6518f2111ef8",
   "metadata": {},
   "outputs": [],
   "source": [
    "μ = OrderedTriangle(@SVector[1,2,3])\n",
    "ι = 0\n",
    "\n",
    "@assert get_lead_edge((μ, ι)) == [1,2]\n",
    "@assert get_lead_edge(sym((μ, ι))) == [2,1]"
   ]
  },
  {
   "cell_type": "code",
   "execution_count": 59,
   "id": "1c19c23d-7bf8-4c10-96cc-5e0923fea9de",
   "metadata": {},
   "outputs": [
    {
     "data": {
      "text/plain": [
       "fnext (generic function with 1 method)"
      ]
     },
     "execution_count": 59,
     "metadata": {},
     "output_type": "execute_result"
    }
   ],
   "source": [
    "function fnext((μ, ι)::Tuple{OrderedTriangle, Int64})\n",
    "    lead_edge = get_lead_edge((μ, ι))\n",
    "    for neighbor in μ.neighbors\n",
    "        if issubset(lead_edge, neighbor.vertices)\n",
    "             last_vertex = [x for x ∈ neighbor.vertices if x ∉ lead_edge][1]\n",
    "             fnext_order = @SVector[lead_edge[1], lead_edge[2], last_vertex]\n",
    "             κ = get_order_index(fnext_order)\n",
    "             return (neighbor, κ)\n",
    "        end\n",
    "    end\n",
    "end"
   ]
  },
  {
   "cell_type": "code",
   "execution_count": 60,
   "id": "99e78612-dbd1-47a2-9923-54b859a95212",
   "metadata": {},
   "outputs": [],
   "source": [
    "tetrahedron_triangulation = [@SVector[1,2,3], @SVector[1,2,4], @SVector[1,3,4], @SVector[2,3,4]]\n",
    "tri_iter = initialize_neighbor_relations(tetrahedron_triangulation)\n",
    "\n",
    "μ = first(tri_iter)\n",
    "ι = 0\n",
    "(ν, κ) = fnext((μ, ι))\n",
    "\n",
    "@assert get_lead_edge((μ, ι)) == get_lead_edge((ν, κ))\n",
    "@assert ν in μ.neighbors\n",
    "@assert fnext((ν, κ)) == (μ, ι)"
   ]
  },
  {
   "cell_type": "code",
   "execution_count": 61,
   "id": "21e64880-2181-4541-a072-d888ece8066a",
   "metadata": {},
   "outputs": [
    {
     "data": {
      "text/plain": [
       "is_orientable (generic function with 1 method)"
      ]
     },
     "execution_count": 61,
     "metadata": {},
     "output_type": "execute_result"
    }
   ],
   "source": [
    "function is_orientable((μ, ι))\n",
    "    if μ.orientation == 0\n",
    "        0 <= ι <= 2 ? μ.orientation = -1 : μ.orientation = 1 \n",
    "        a = is_orientable(fnext(sym((μ, ι))))\n",
    "        b = is_orientable(fnext(enext(sym((μ, ι)))))\n",
    "        c = is_orientable(fnext(enext(enext(sym((μ, ι))))))\n",
    "        return a && b && c\n",
    "    else\n",
    "        return (μ.orientation == -1 && 0 <= ι <= 2) || (μ.orientation == 1 && 4 <= ι <= 6)\n",
    "    end\n",
    "end\n",
    "\n"
   ]
  },
  {
   "cell_type": "code",
   "execution_count": 62,
   "id": "3f24e33b-b7bb-4e10-bbc2-c2dfe31476bf",
   "metadata": {},
   "outputs": [
    {
     "data": {
      "text/plain": [
       "true"
      ]
     },
     "execution_count": 62,
     "metadata": {},
     "output_type": "execute_result"
    }
   ],
   "source": [
    "tetrahedron_triangulation = [@SVector[1,2,3], @SVector[1,2,4], @SVector[1,3,4], @SVector[2,3,4]]\n",
    "tri_iter = initialize_neighbor_relations(tetrahedron_triangulation)\n",
    "\n",
    "μ = first(tri_iter)\n",
    "is_orientable((μ, 0))"
   ]
  },
  {
   "cell_type": "code",
   "execution_count": 65,
   "id": "d6b90cf8-a450-41c2-b168-082966ba2c46",
   "metadata": {},
   "outputs": [
    {
     "data": {
      "text/plain": [
       "false"
      ]
     },
     "execution_count": 65,
     "metadata": {},
     "output_type": "execute_result"
    }
   ],
   "source": [
    "pp_triangulation = [@SVector[1,2,4], @SVector[1,3,4], @SVector[1,2,6], @SVector[1,5,6], @SVector[1,3,5], @SVector[2,3,5], @SVector[2,4,5], @SVector[4,5,6], @SVector[3,4,6], @SVector[2,3,6]]\n",
    "tri_iter = initialize_neighbor_relations(pp_triangulation)\n",
    "\n",
    "# Check that every triangle has three neighbors\n",
    "for μ in tri_iter\n",
    "    @assert length(μ.neighbors) == 3\n",
    "end\n",
    "\n",
    "# Make sure all neighbors share two\n",
    "for μ in tri_iter\n",
    "    for neighbor in μ.neighbors\n",
    "        @assert count(i->(i in μ.vertices), neighbor.vertices) == 2\n",
    "    end\n",
    "end\n",
    "\n",
    "# Make sure that every triangle is its own neighbors neighbor!\n",
    "for μ in tri_iter\n",
    "    for neighbor in μ.neighbors\n",
    "        @assert μ in neighbor.neighbors\n",
    "    end\n",
    "end\n",
    "\n",
    "μ = first(tri_iter)\n",
    "is_orientable((μ, 0))"
   ]
  },
  {
   "cell_type": "code",
   "execution_count": 67,
   "id": "9ad49278-1655-4394-b29a-17dd48f64db0",
   "metadata": {},
   "outputs": [
    {
     "ename": "LoadError",
     "evalue": "MethodError: no method matching iterate(::Nothing)\n\u001b[0mClosest candidates are:\n\u001b[0m  iterate(\u001b[91m::Union{LinRange, StepRangeLen}\u001b[39m) at ~/julia-1.7.2/share/julia/base/range.jl:826\n\u001b[0m  iterate(\u001b[91m::Union{LinRange, StepRangeLen}\u001b[39m, \u001b[91m::Integer\u001b[39m) at ~/julia-1.7.2/share/julia/base/range.jl:826\n\u001b[0m  iterate(\u001b[91m::T\u001b[39m) where T<:Union{Base.KeySet{<:Any, <:Dict}, Base.ValueIterator{<:Dict}} at ~/julia-1.7.2/share/julia/base/dict.jl:695\n\u001b[0m  ...",
     "output_type": "error",
     "traceback": [
      "MethodError: no method matching iterate(::Nothing)\n\u001b[0mClosest candidates are:\n\u001b[0m  iterate(\u001b[91m::Union{LinRange, StepRangeLen}\u001b[39m) at ~/julia-1.7.2/share/julia/base/range.jl:826\n\u001b[0m  iterate(\u001b[91m::Union{LinRange, StepRangeLen}\u001b[39m, \u001b[91m::Integer\u001b[39m) at ~/julia-1.7.2/share/julia/base/range.jl:826\n\u001b[0m  iterate(\u001b[91m::T\u001b[39m) where T<:Union{Base.KeySet{<:Any, <:Dict}, Base.ValueIterator{<:Dict}} at ~/julia-1.7.2/share/julia/base/dict.jl:695\n\u001b[0m  ...",
      "",
      "Stacktrace:",
      " [1] indexed_iterate(I::Nothing, i::Int64)",
      "   @ Base ./tuple.jl:92",
      " [2] is_orientable(::Nothing)",
      "   @ Main ./In[61]:2",
      " [3] is_orientable(::Tuple{OrderedTriangle, Int64}) (repeats 2 times)",
      "   @ Main ./In[61]:5",
      " [4] is_orientable(::Tuple{OrderedTriangle, Int64})",
      "   @ Main ./In[61]:6",
      " [5] is_orientable(::Tuple{OrderedTriangle, Int64}) (repeats 3 times)",
      "   @ Main ./In[61]:5",
      " [6] is_orientable(::Tuple{OrderedTriangle, Int64})",
      "   @ Main ./In[61]:4",
      " [7] top-level scope",
      "   @ In[67]:5",
      " [8] eval",
      "   @ ./boot.jl:373 [inlined]",
      " [9] include_string(mapexpr::typeof(REPL.softscope), mod::Module, code::String, filename::String)",
      "   @ Base ./loading.jl:1196"
     ]
    }
   ],
   "source": [
    "möbius_strip = [@SVector[1,3,5], @SVector[2,3,5], @SVector[2,4,5], @SVector[4,5,6], @SVector[3,4,6], @SVector[1,3,4], @SVector[1,2,4], @SVector[1,2,6], @SVector[2,3,6]]\n",
    "tri_iter = initialize_neighbor_relations(möbius_strip)\n",
    "\n",
    "μ = first(tri_iter)\n",
    "is_orientable((μ, 0))"
   ]
  },
  {
   "cell_type": "code",
   "execution_count": null,
   "id": "0e418823-f71f-4642-b4b3-ba20555122c1",
   "metadata": {},
   "outputs": [],
   "source": []
  }
 ],
 "metadata": {
  "kernelspec": {
   "display_name": "Julia 1.7.2",
   "language": "julia",
   "name": "julia-1.7"
  },
  "language_info": {
   "file_extension": ".jl",
   "mimetype": "application/julia",
   "name": "julia",
   "version": "1.7.2"
  }
 },
 "nbformat": 4,
 "nbformat_minor": 5
}
